{
 "cells": [
  {
   "cell_type": "code",
   "execution_count": null,
   "metadata": {},
   "outputs": [],
   "source": [
    "#cargamos las librerias\n",
    "import pandas as pd \n",
    "import numpy as np\n",
    "from dbfread import DBF"
   ]
  },
  {
   "cell_type": "markdown",
   "metadata": {},
   "source": [
    "#### dataset vehiculos de combustion "
   ]
  },
  {
   "cell_type": "code",
   "execution_count": null,
   "metadata": {},
   "outputs": [],
   "source": [
    "#cargamos el dataset vehiculos de combustion \n",
    "veh_comb = pd.read_csv('../Datasets/Alternative Fuel Vehicles US.csv')"
   ]
  },
  {
   "cell_type": "code",
   "execution_count": null,
   "metadata": {},
   "outputs": [],
   "source": [
    "#observamos numero de filas, columnas y las primeras 5 filas del dataset\n",
    "print(veh_comb.shape)\n",
    "veh_comb.head(5)"
   ]
  },
  {
   "cell_type": "code",
   "execution_count": null,
   "metadata": {},
   "outputs": [],
   "source": [
    "# observamos nombre de columnas, cantidad de valores no nulos y tipo de datos\n",
    "veh_comb.info()"
   ]
  },
  {
   "cell_type": "code",
   "execution_count": null,
   "metadata": {},
   "outputs": [],
   "source": [
    "#cantidad de valores nulos por columna\n",
    "veh_comb.isnull().sum()"
   ]
  },
  {
   "cell_type": "markdown",
   "metadata": {},
   "source": [
    "#### dataset estacion de carga electrica y de combustion"
   ]
  },
  {
   "cell_type": "code",
   "execution_count": null,
   "metadata": {},
   "outputs": [],
   "source": [
    "#cargamos el dataset estacion de carga electrica y de combustion\n",
    "est_elec_comb = pd.read_csv('../Datasets/Electric and Alternative Fuel Charging Stations.csv')"
   ]
  },
  {
   "cell_type": "code",
   "execution_count": null,
   "metadata": {},
   "outputs": [],
   "source": [
    "#observamos numero de filas, columnas y las primeras 5 filas del dataset\n",
    "print(est_elec_comb.shape)\n",
    "est_elec_comb.head(5)"
   ]
  },
  {
   "cell_type": "code",
   "execution_count": null,
   "metadata": {},
   "outputs": [],
   "source": [
    "# observamos nombre de columnas, cantidad de valores no nulos y tipo de datos\n",
    "est_elec_comb.info()"
   ]
  },
  {
   "cell_type": "code",
   "execution_count": null,
   "metadata": {},
   "outputs": [],
   "source": [
    "#cantidad de valores nulos por columna\n",
    "est_elec_comb.isnull().sum()"
   ]
  },
  {
   "cell_type": "markdown",
   "metadata": {},
   "source": [
    "#### dataset vehiculos electricos limpio"
   ]
  },
  {
   "cell_type": "code",
   "execution_count": null,
   "metadata": {},
   "outputs": [],
   "source": [
    "#cargamos el dataset vehiculos electricos limpio\n",
    "veh_elec = pd.read_csv('../Datasets/ElectricCarData_Clean.csv')"
   ]
  },
  {
   "cell_type": "code",
   "execution_count": null,
   "metadata": {},
   "outputs": [],
   "source": [
    "#observamos numero de filas, columnas y las primeras 5 filas del dataset\n",
    "print(veh_elec.shape)\n",
    "veh_elec.head(5)"
   ]
  },
  {
   "cell_type": "code",
   "execution_count": null,
   "metadata": {},
   "outputs": [],
   "source": [
    "# observamos nombre de columnas, cantidad de valores no nulos y tipo de datos\n",
    "veh_elec.info()"
   ]
  },
  {
   "cell_type": "code",
   "execution_count": null,
   "metadata": {},
   "outputs": [],
   "source": [
    "#observamos cantidad de valores nulos \n",
    "veh_elec.isnull().sum()"
   ]
  },
  {
   "cell_type": "markdown",
   "metadata": {},
   "source": [
    "#### dataset vehiculos electricos normalizados"
   ]
  },
  {
   "cell_type": "code",
   "execution_count": null,
   "metadata": {},
   "outputs": [],
   "source": [
    "#cargamos el dataset vehiculos electricos normalizados\n",
    "veh_elec_norm = pd.read_csv('../Datasets/ElectricCarData_Norm.csv')"
   ]
  },
  {
   "cell_type": "code",
   "execution_count": null,
   "metadata": {},
   "outputs": [],
   "source": [
    "#observamos numero de filas, columnas y las primeras 5 filas del dataset\n",
    "print(veh_elec_norm.shape)\n",
    "veh_elec_norm.head(5)"
   ]
  },
  {
   "cell_type": "code",
   "execution_count": null,
   "metadata": {},
   "outputs": [],
   "source": [
    "# observamos nombre de columnas, cantidad de valores no nulos y tipo de datos\n",
    "veh_elec_norm.info()"
   ]
  },
  {
   "cell_type": "code",
   "execution_count": null,
   "metadata": {},
   "outputs": [],
   "source": [
    "#observamos cantidad de valores nulos\n",
    "veh_elec_norm.isnull().sum()"
   ]
  },
  {
   "cell_type": "markdown",
   "metadata": {},
   "source": [
    "#### dataset vehiculos ligeros"
   ]
  },
  {
   "cell_type": "code",
   "execution_count": null,
   "metadata": {},
   "outputs": [],
   "source": [
    "#cargamos el dataset vehiculos ligeros\n",
    "veh_lig = pd.read_csv('../Datasets/Light Duty Vehicles.csv')"
   ]
  },
  {
   "cell_type": "code",
   "execution_count": null,
   "metadata": {},
   "outputs": [],
   "source": [
    "#observamos numero de filas, columnas y las primeras 5 filas del dataset\n",
    "print(veh_lig.shape)\n",
    "veh_lig.head(5)"
   ]
  },
  {
   "cell_type": "code",
   "execution_count": null,
   "metadata": {},
   "outputs": [],
   "source": [
    "# observamos nombre de columnas, cantidad de valores no nulos y tipo de datos\n",
    "veh_lig.info()"
   ]
  },
  {
   "cell_type": "code",
   "execution_count": null,
   "metadata": {},
   "outputs": [],
   "source": [
    "#observamos cantidad de valores faltantes\n",
    "veh_lig.isnull().sum()"
   ]
  },
  {
   "cell_type": "markdown",
   "metadata": {},
   "source": [
    "#### dataset zona de taxis"
   ]
  },
  {
   "cell_type": "code",
   "execution_count": null,
   "metadata": {},
   "outputs": [],
   "source": [
    "# cargamos dataset zona de taxis\n",
    "dbf_path = '../Datasets/taxi_zones.dbf'\n",
    "table = DBF(dbf_path)\n",
    "zona_taxi = pd.DataFrame(iter(table))"
   ]
  },
  {
   "cell_type": "code",
   "execution_count": null,
   "metadata": {},
   "outputs": [],
   "source": [
    "#observamos numero de filas, columnas y las primeras 5 filas del dataset\n",
    "print(zona_taxi.shape)\n",
    "zona_taxi.head(5)"
   ]
  },
  {
   "cell_type": "code",
   "execution_count": null,
   "metadata": {},
   "outputs": [],
   "source": [
    "# observamos nombre de columnas, cantidad de valores no nulos y tipo de datos\n",
    "zona_taxi.info()"
   ]
  },
  {
   "cell_type": "code",
   "execution_count": null,
   "metadata": {},
   "outputs": [],
   "source": [
    "#observamos cantidad de valores faltantes\n",
    "zona_taxi.isnull().sum()"
   ]
  },
  {
   "cell_type": "markdown",
   "metadata": {},
   "source": [
    "#### dataset busqueda de zona de taxis "
   ]
  },
  {
   "cell_type": "code",
   "execution_count": null,
   "metadata": {},
   "outputs": [],
   "source": [
    "#cargamos el dataset busqueda de zona de taxis\n",
    "bus_zona_taxi = pd.read_csv('../Datasets/taxi+_zone_lookup.csv')"
   ]
  },
  {
   "cell_type": "code",
   "execution_count": null,
   "metadata": {},
   "outputs": [],
   "source": [
    "#observamos numero de filas, columnas y las primeras 5 filas del dataset\n",
    "print(bus_zona_taxi.shape)\n",
    "bus_zona_taxi.head(5)"
   ]
  },
  {
   "cell_type": "code",
   "execution_count": null,
   "metadata": {},
   "outputs": [],
   "source": [
    "# observamos nombre de columnas, cantidad de valores no nulos y tipo de datos\n",
    "bus_zona_taxi.info()"
   ]
  },
  {
   "cell_type": "code",
   "execution_count": null,
   "metadata": {},
   "outputs": [],
   "source": [
    "#observamos cantidad de valores faltantes\n",
    "bus_zona_taxi.isnull().sum()"
   ]
  },
  {
   "cell_type": "markdown",
   "metadata": {},
   "source": [
    "#### dataset vehiculos de combustion 2"
   ]
  },
  {
   "cell_type": "code",
   "execution_count": null,
   "metadata": {},
   "outputs": [],
   "source": [
    "#cargamos el dataset vehiculos de combustion\n",
    "veh_fuel = pd.read_csv('../Datasets/Vehicle Fuel Economy Data.csv')"
   ]
  },
  {
   "cell_type": "code",
   "execution_count": null,
   "metadata": {},
   "outputs": [],
   "source": [
    "#observamos numero de filas, columnas y las primeras 5 filas del dataset\n",
    "print(veh_fuel.shape)\n",
    "veh_fuel.head(5)"
   ]
  },
  {
   "cell_type": "code",
   "execution_count": null,
   "metadata": {},
   "outputs": [],
   "source": [
    "# observamos nombre de columnas, cantidad de valores no nulos y tipo de datos\n",
    "veh_fuel.info()"
   ]
  },
  {
   "cell_type": "code",
   "execution_count": null,
   "metadata": {},
   "outputs": [],
   "source": [
    "#observamos cantidad de valores faltantes\n",
    "veh_fuel.isnull().sum()"
   ]
  }
 ],
 "metadata": {
  "language_info": {
   "name": "python"
  },
  "orig_nbformat": 4
 },
 "nbformat": 4,
 "nbformat_minor": 2
}
