{
 "cells": [
  {
   "cell_type": "markdown",
   "metadata": {},
   "source": [
    "Datos de los taxis amarillos de New York City "
   ]
  },
  {
   "cell_type": "code",
   "execution_count": 2,
   "metadata": {},
   "outputs": [],
   "source": [
    "import pandas as pd\n",
    "from pathlib import Path"
   ]
  },
  {
   "cell_type": "markdown",
   "metadata": {},
   "source": [
    "Cargo un arhivo .parquet para ver su composición "
   ]
  },
  {
   "cell_type": "code",
   "execution_count": 3,
   "metadata": {},
   "outputs": [],
   "source": [
    "df_taxiamarillo=pd.read_parquet('yellow_tripdata_2023-04.parquet')"
   ]
  },
  {
   "cell_type": "code",
   "execution_count": 4,
   "metadata": {},
   "outputs": [
    {
     "name": "stdout",
     "output_type": "stream",
     "text": [
      "<class 'pandas.core.frame.DataFrame'>\n",
      "RangeIndex: 3288250 entries, 0 to 3288249\n",
      "Data columns (total 19 columns):\n",
      " #   Column                 Dtype         \n",
      "---  ------                 -----         \n",
      " 0   VendorID               int32         \n",
      " 1   tpep_pickup_datetime   datetime64[ns]\n",
      " 2   tpep_dropoff_datetime  datetime64[ns]\n",
      " 3   passenger_count        float64       \n",
      " 4   trip_distance          float64       \n",
      " 5   RatecodeID             float64       \n",
      " 6   store_and_fwd_flag     object        \n",
      " 7   PULocationID           int32         \n",
      " 8   DOLocationID           int32         \n",
      " 9   payment_type           int64         \n",
      " 10  fare_amount            float64       \n",
      " 11  extra                  float64       \n",
      " 12  mta_tax                float64       \n",
      " 13  tip_amount             float64       \n",
      " 14  tolls_amount           float64       \n",
      " 15  improvement_surcharge  float64       \n",
      " 16  total_amount           float64       \n",
      " 17  congestion_surcharge   float64       \n",
      " 18  Airport_fee            float64       \n",
      "dtypes: datetime64[ns](2), float64(12), int32(3), int64(1), object(1)\n",
      "memory usage: 439.0+ MB\n"
     ]
    }
   ],
   "source": [
    "df_taxiamarillo.info()"
   ]
  },
  {
   "cell_type": "markdown",
   "metadata": {},
   "source": [
    "Creo una referencia de los atributos de cada columna para solo procesar las columnas relevantes para el proyecto"
   ]
  },
  {
   "cell_type": "code",
   "execution_count": null,
   "metadata": {},
   "outputs": [],
   "source": [
    "VendorID: Identificador del proveedor de servicio de taxi.\n",
    "tpep_pickup_datetime: Fecha y hora de recogida del pasajero.\n",
    "tpep_dropoff_datetime: Fecha y hora de finalización del viaje.\n",
    "passenger_count: Cantidad de pasajeros en el viaje.\n",
    "trip_distance: Distancia recorrida en el viaje.\n",
    "RatecodeID: Identificador del código de tarifa utilizado para el viaje.\n",
    "store_and_fwd_flag: Indicador de si el vehículo almacenó los datos del viaje antes de enviarlos.\n",
    "PULocationID: Identificador de la ubicación de recogida.\n",
    "DOLocationID: Identificador de la ubicación de destino.\n",
    "payment_type: Tipo de pago utilizado en el viaje.\n",
    "fare_amount: Tarifa básica del viaje.\n",
    "extra: Cargo adicional en la tarifa.\n",
    "mta_tax: Impuesto MTA en la tarifa.\n",
    "tip_amount: Cantidad de propina.\n",
    "tolls_amount: Monto de peajes.\n",
    "improvement_surcharge: Cargo de mejora en la tarifa.\n",
    "total_amount: Monto total pagado por el pasajero.\n",
    "congestion_surcharge: Cargo por congestión en la tarifa.\n",
    "airport_fee: (tarifa o cargo adicional que se cobra a los pasajeros cuando un viaje involucra un trayecto hacia o desde un aeropuerto)."
   ]
  },
  {
   "cell_type": "markdown",
   "metadata": {},
   "source": [
    "Defino la carpeta donde se encuntran los archivos .parquet"
   ]
  },
  {
   "cell_type": "code",
   "execution_count": 21,
   "metadata": {},
   "outputs": [],
   "source": [
    "folder_path = 'C:\\\\Users\\\\yopab\\\\Downloads\\\\Datasets\\\\dfexternos\\\\taxi amarillo'"
   ]
  },
  {
   "cell_type": "markdown",
   "metadata": {},
   "source": [
    " Obtengo la lista de archivos .parquet en la carpeta"
   ]
  },
  {
   "cell_type": "code",
   "execution_count": 22,
   "metadata": {},
   "outputs": [],
   "source": [
    "parquet_files = Path(folder_path).glob('*.parquet')"
   ]
  },
  {
   "cell_type": "markdown",
   "metadata": {},
   "source": [
    "Filtro los registros que correspondan al año 2021"
   ]
  },
  {
   "cell_type": "code",
   "execution_count": 6,
   "metadata": {},
   "outputs": [],
   "source": [
    "parquet_files_2021 = [file for file in parquet_files if '2021' in file.name]"
   ]
  },
  {
   "cell_type": "markdown",
   "metadata": {},
   "source": [
    "Inicializo una lista para almacenar los df de cada archivo"
   ]
  },
  {
   "cell_type": "code",
   "execution_count": 10,
   "metadata": {},
   "outputs": [],
   "source": [
    "data_frames_2021 = []"
   ]
  },
  {
   "cell_type": "markdown",
   "metadata": {},
   "source": [
    "Cargo y combino los df "
   ]
  },
  {
   "cell_type": "code",
   "execution_count": 12,
   "metadata": {},
   "outputs": [],
   "source": [
    "for file in parquet_files_2021:\n",
    "    df = pd.read_parquet(file)\n",
    "    data_frames_2021.append(df)"
   ]
  },
  {
   "cell_type": "markdown",
   "metadata": {},
   "source": [
    "Combino los df en uno solo"
   ]
  },
  {
   "cell_type": "code",
   "execution_count": 13,
   "metadata": {},
   "outputs": [],
   "source": [
    "combined_df_2021 = pd.concat(data_frames_2021, ignore_index=True)"
   ]
  },
  {
   "cell_type": "markdown",
   "metadata": {},
   "source": [
    "Convierto las columnas de fechas a datetime"
   ]
  },
  {
   "cell_type": "code",
   "execution_count": 19,
   "metadata": {},
   "outputs": [],
   "source": [
    "combined_df_2021['tpep_pickup_datetime'] = pd.to_datetime(combined_df_2021['tpep_pickup_datetime'])\n",
    "combined_df_2021['tpep_dropoff_datetime'] = pd.to_datetime(combined_df_2021['tpep_dropoff_datetime'])"
   ]
  },
  {
   "cell_type": "markdown",
   "metadata": {},
   "source": [
    "Agrego una columna para el día"
   ]
  },
  {
   "cell_type": "code",
   "execution_count": 20,
   "metadata": {},
   "outputs": [],
   "source": [
    "combined_df_2021['pickup_date'] = combined_df_2021['tpep_pickup_datetime'].dt.date"
   ]
  },
  {
   "cell_type": "markdown",
   "metadata": {},
   "source": [
    "Agrupo por día y sumo los valores diarios que me sirven para el modelo"
   ]
  },
  {
   "cell_type": "code",
   "execution_count": 22,
   "metadata": {},
   "outputs": [],
   "source": [
    "daily_totals = combined_df_2021.groupby('pickup_date').agg({\n",
    "    'trip_distance': 'sum',\n",
    "    'fare_amount': 'sum',\n",
    "    'tip_amount': 'sum',\n",
    "    'PULocationID': 'sum',# Identificador de la ubicación de recogida.\n",
    "    'DOLocationID': 'sum',#Identificador de la ubicación de destino.\n",
    "    'total_amount': 'sum',#Monto total pagado por el pasajero.\n",
    "    'payment_type': 'sum', #Tipo de pago utilizado en el viaje.\n",
    "\n",
    "}).reset_index()"
   ]
  },
  {
   "cell_type": "markdown",
   "metadata": {},
   "source": [
    "Guardo el el df como archivo CSV"
   ]
  },
  {
   "cell_type": "code",
   "execution_count": 23,
   "metadata": {},
   "outputs": [],
   "source": [
    "daily_totals.to_csv('totales_diarios_tamarillo.csv', index=False)"
   ]
  },
  {
   "cell_type": "markdown",
   "metadata": {},
   "source": [
    "compruebo que todo haya salido bien "
   ]
  },
  {
   "cell_type": "code",
   "execution_count": 24,
   "metadata": {},
   "outputs": [],
   "source": [
    "totalesAmarillo=pd.read_csv('totales_diarios_tamarillo.csv')"
   ]
  },
  {
   "cell_type": "code",
   "execution_count": 27,
   "metadata": {},
   "outputs": [
    {
     "data": {
      "text/html": [
       "<div>\n",
       "<style scoped>\n",
       "    .dataframe tbody tr th:only-of-type {\n",
       "        vertical-align: middle;\n",
       "    }\n",
       "\n",
       "    .dataframe tbody tr th {\n",
       "        vertical-align: top;\n",
       "    }\n",
       "\n",
       "    .dataframe thead th {\n",
       "        text-align: right;\n",
       "    }\n",
       "</style>\n",
       "<table border=\"1\" class=\"dataframe\">\n",
       "  <thead>\n",
       "    <tr style=\"text-align: right;\">\n",
       "      <th></th>\n",
       "      <th>pickup_date</th>\n",
       "      <th>trip_distance</th>\n",
       "      <th>fare_amount</th>\n",
       "      <th>tip_amount</th>\n",
       "      <th>PULocationID</th>\n",
       "      <th>DOLocationID</th>\n",
       "      <th>total_amount</th>\n",
       "      <th>payment_type</th>\n",
       "    </tr>\n",
       "  </thead>\n",
       "  <tbody>\n",
       "    <tr>\n",
       "      <th>0</th>\n",
       "      <td>2002-12-31</td>\n",
       "      <td>0.00</td>\n",
       "      <td>0.0</td>\n",
       "      <td>0.00</td>\n",
       "      <td>193</td>\n",
       "      <td>193</td>\n",
       "      <td>0.00</td>\n",
       "      <td>1</td>\n",
       "    </tr>\n",
       "    <tr>\n",
       "      <th>1</th>\n",
       "      <td>2003-01-01</td>\n",
       "      <td>16.53</td>\n",
       "      <td>57.5</td>\n",
       "      <td>4.00</td>\n",
       "      <td>681</td>\n",
       "      <td>486</td>\n",
       "      <td>76.70</td>\n",
       "      <td>7</td>\n",
       "    </tr>\n",
       "    <tr>\n",
       "      <th>2</th>\n",
       "      <td>2003-01-03</td>\n",
       "      <td>0.00</td>\n",
       "      <td>0.0</td>\n",
       "      <td>0.00</td>\n",
       "      <td>193</td>\n",
       "      <td>193</td>\n",
       "      <td>0.00</td>\n",
       "      <td>1</td>\n",
       "    </tr>\n",
       "    <tr>\n",
       "      <th>3</th>\n",
       "      <td>2003-01-05</td>\n",
       "      <td>0.00</td>\n",
       "      <td>0.0</td>\n",
       "      <td>0.00</td>\n",
       "      <td>457</td>\n",
       "      <td>457</td>\n",
       "      <td>0.00</td>\n",
       "      <td>2</td>\n",
       "    </tr>\n",
       "    <tr>\n",
       "      <th>4</th>\n",
       "      <td>2003-01-09</td>\n",
       "      <td>0.00</td>\n",
       "      <td>2.5</td>\n",
       "      <td>0.01</td>\n",
       "      <td>193</td>\n",
       "      <td>193</td>\n",
       "      <td>4.31</td>\n",
       "      <td>1</td>\n",
       "    </tr>\n",
       "    <tr>\n",
       "      <th>...</th>\n",
       "      <td>...</td>\n",
       "      <td>...</td>\n",
       "      <td>...</td>\n",
       "      <td>...</td>\n",
       "      <td>...</td>\n",
       "      <td>...</td>\n",
       "      <td>...</td>\n",
       "      <td>...</td>\n",
       "    </tr>\n",
       "    <tr>\n",
       "      <th>394</th>\n",
       "      <td>2022-03-14</td>\n",
       "      <td>2.52</td>\n",
       "      <td>12.0</td>\n",
       "      <td>4.11</td>\n",
       "      <td>381</td>\n",
       "      <td>475</td>\n",
       "      <td>22.71</td>\n",
       "      <td>2</td>\n",
       "    </tr>\n",
       "    <tr>\n",
       "      <th>395</th>\n",
       "      <td>2028-12-07</td>\n",
       "      <td>16.15</td>\n",
       "      <td>52.0</td>\n",
       "      <td>0.00</td>\n",
       "      <td>132</td>\n",
       "      <td>170</td>\n",
       "      <td>63.10</td>\n",
       "      <td>2</td>\n",
       "    </tr>\n",
       "    <tr>\n",
       "      <th>396</th>\n",
       "      <td>2029-05-05</td>\n",
       "      <td>1.69</td>\n",
       "      <td>7.5</td>\n",
       "      <td>2.16</td>\n",
       "      <td>231</td>\n",
       "      <td>249</td>\n",
       "      <td>12.96</td>\n",
       "      <td>1</td>\n",
       "    </tr>\n",
       "    <tr>\n",
       "      <th>397</th>\n",
       "      <td>2070-08-29</td>\n",
       "      <td>0.00</td>\n",
       "      <td>0.0</td>\n",
       "      <td>0.00</td>\n",
       "      <td>193</td>\n",
       "      <td>193</td>\n",
       "      <td>0.00</td>\n",
       "      <td>1</td>\n",
       "    </tr>\n",
       "    <tr>\n",
       "      <th>398</th>\n",
       "      <td>2098-09-11</td>\n",
       "      <td>4.95</td>\n",
       "      <td>22.5</td>\n",
       "      <td>0.00</td>\n",
       "      <td>163</td>\n",
       "      <td>231</td>\n",
       "      <td>25.80</td>\n",
       "      <td>2</td>\n",
       "    </tr>\n",
       "  </tbody>\n",
       "</table>\n",
       "<p>399 rows × 8 columns</p>\n",
       "</div>"
      ],
      "text/plain": [
       "    pickup_date  trip_distance  fare_amount  tip_amount  PULocationID  \\\n",
       "0    2002-12-31           0.00          0.0        0.00           193   \n",
       "1    2003-01-01          16.53         57.5        4.00           681   \n",
       "2    2003-01-03           0.00          0.0        0.00           193   \n",
       "3    2003-01-05           0.00          0.0        0.00           457   \n",
       "4    2003-01-09           0.00          2.5        0.01           193   \n",
       "..          ...            ...          ...         ...           ...   \n",
       "394  2022-03-14           2.52         12.0        4.11           381   \n",
       "395  2028-12-07          16.15         52.0        0.00           132   \n",
       "396  2029-05-05           1.69          7.5        2.16           231   \n",
       "397  2070-08-29           0.00          0.0        0.00           193   \n",
       "398  2098-09-11           4.95         22.5        0.00           163   \n",
       "\n",
       "     DOLocationID  total_amount  payment_type  \n",
       "0             193          0.00             1  \n",
       "1             486         76.70             7  \n",
       "2             193          0.00             1  \n",
       "3             457          0.00             2  \n",
       "4             193          4.31             1  \n",
       "..            ...           ...           ...  \n",
       "394           475         22.71             2  \n",
       "395           170         63.10             2  \n",
       "396           249         12.96             1  \n",
       "397           193          0.00             1  \n",
       "398           231         25.80             2  \n",
       "\n",
       "[399 rows x 8 columns]"
      ]
     },
     "execution_count": 27,
     "metadata": {},
     "output_type": "execute_result"
    }
   ],
   "source": [
    "totalesAmarillo"
   ]
  },
  {
   "cell_type": "markdown",
   "metadata": {},
   "source": [
    "El mismo proceso se repite con el año 2022 y 2023, opteniendo los df separdos "
   ]
  },
  {
   "cell_type": "code",
   "execution_count": 4,
   "metadata": {},
   "outputs": [],
   "source": [
    "parquet_files_2022 = [file for file in parquet_files if '2022' in file.name]"
   ]
  },
  {
   "cell_type": "code",
   "execution_count": 5,
   "metadata": {},
   "outputs": [],
   "source": [
    "data_frames_2022 = []"
   ]
  },
  {
   "cell_type": "code",
   "execution_count": 6,
   "metadata": {},
   "outputs": [],
   "source": [
    "for file in parquet_files_2022:\n",
    "    df = pd.read_parquet(file)\n",
    "    data_frames_2022.append(df)"
   ]
  },
  {
   "cell_type": "code",
   "execution_count": 7,
   "metadata": {},
   "outputs": [],
   "source": [
    "combined_df_2022 = pd.concat(data_frames_2022, ignore_index=True)"
   ]
  },
  {
   "cell_type": "code",
   "execution_count": 9,
   "metadata": {},
   "outputs": [],
   "source": [
    "combined_df_2022['tpep_pickup_datetime'] = pd.to_datetime(combined_df_2022['tpep_pickup_datetime'])\n",
    "combined_df_2022['tpep_dropoff_datetime'] = pd.to_datetime(combined_df_2022['tpep_dropoff_datetime'])"
   ]
  },
  {
   "cell_type": "code",
   "execution_count": 11,
   "metadata": {},
   "outputs": [],
   "source": [
    "combined_df_2022['pickup_date'] = combined_df_2022['tpep_pickup_datetime'].dt.date"
   ]
  },
  {
   "cell_type": "code",
   "execution_count": 12,
   "metadata": {},
   "outputs": [],
   "source": [
    "daily_totals = combined_df_2022.groupby('pickup_date').agg({\n",
    "    'trip_distance': 'sum',\n",
    "    'fare_amount': 'sum',\n",
    "    'tip_amount': 'sum',\n",
    "    'PULocationID': 'sum',# Identificador de la ubicación de recogida.\n",
    "    'DOLocationID': 'sum',#Identificador de la ubicación de destino.\n",
    "    'total_amount': 'sum',#Monto total pagado por el pasajero.\n",
    "    'payment_type': 'sum', #Tipo de pago utilizado en el viaje.\n",
    "\n",
    "}).reset_index()"
   ]
  },
  {
   "cell_type": "code",
   "execution_count": 13,
   "metadata": {},
   "outputs": [],
   "source": [
    "daily_totals.to_csv('totales_diarios_tamarillo22.csv', index=False)"
   ]
  },
  {
   "cell_type": "code",
   "execution_count": 14,
   "metadata": {},
   "outputs": [],
   "source": [
    "totales_diarios_tamarillo22=pd.read_csv('totales_diarios_tamarillo22.csv')"
   ]
  },
  {
   "cell_type": "code",
   "execution_count": 15,
   "metadata": {},
   "outputs": [
    {
     "data": {
      "text/html": [
       "<div>\n",
       "<style scoped>\n",
       "    .dataframe tbody tr th:only-of-type {\n",
       "        vertical-align: middle;\n",
       "    }\n",
       "\n",
       "    .dataframe tbody tr th {\n",
       "        vertical-align: top;\n",
       "    }\n",
       "\n",
       "    .dataframe thead th {\n",
       "        text-align: right;\n",
       "    }\n",
       "</style>\n",
       "<table border=\"1\" class=\"dataframe\">\n",
       "  <thead>\n",
       "    <tr style=\"text-align: right;\">\n",
       "      <th></th>\n",
       "      <th>pickup_date</th>\n",
       "      <th>trip_distance</th>\n",
       "      <th>fare_amount</th>\n",
       "      <th>tip_amount</th>\n",
       "      <th>PULocationID</th>\n",
       "      <th>DOLocationID</th>\n",
       "      <th>total_amount</th>\n",
       "      <th>payment_type</th>\n",
       "    </tr>\n",
       "  </thead>\n",
       "  <tbody>\n",
       "    <tr>\n",
       "      <th>0</th>\n",
       "      <td>2001-01-01</td>\n",
       "      <td>36.38</td>\n",
       "      <td>114.50</td>\n",
       "      <td>3.50</td>\n",
       "      <td>878</td>\n",
       "      <td>1102</td>\n",
       "      <td>145.05</td>\n",
       "      <td>8</td>\n",
       "    </tr>\n",
       "    <tr>\n",
       "      <th>1</th>\n",
       "      <td>2001-08-23</td>\n",
       "      <td>7.08</td>\n",
       "      <td>22.50</td>\n",
       "      <td>0.00</td>\n",
       "      <td>132</td>\n",
       "      <td>76</td>\n",
       "      <td>24.55</td>\n",
       "      <td>2</td>\n",
       "    </tr>\n",
       "    <tr>\n",
       "      <th>2</th>\n",
       "      <td>2002-10-21</td>\n",
       "      <td>215.36</td>\n",
       "      <td>994.00</td>\n",
       "      <td>57.99</td>\n",
       "      <td>6914</td>\n",
       "      <td>6972</td>\n",
       "      <td>1197.49</td>\n",
       "      <td>67</td>\n",
       "    </tr>\n",
       "    <tr>\n",
       "      <th>3</th>\n",
       "      <td>2002-10-22</td>\n",
       "      <td>185.00</td>\n",
       "      <td>1619.16</td>\n",
       "      <td>90.97</td>\n",
       "      <td>11906</td>\n",
       "      <td>11744</td>\n",
       "      <td>1972.73</td>\n",
       "      <td>120</td>\n",
       "    </tr>\n",
       "    <tr>\n",
       "      <th>4</th>\n",
       "      <td>2002-10-23</td>\n",
       "      <td>253.59</td>\n",
       "      <td>1198.90</td>\n",
       "      <td>109.88</td>\n",
       "      <td>10748</td>\n",
       "      <td>10060</td>\n",
       "      <td>1556.28</td>\n",
       "      <td>104</td>\n",
       "    </tr>\n",
       "    <tr>\n",
       "      <th>...</th>\n",
       "      <td>...</td>\n",
       "      <td>...</td>\n",
       "      <td>...</td>\n",
       "      <td>...</td>\n",
       "      <td>...</td>\n",
       "      <td>...</td>\n",
       "      <td>...</td>\n",
       "      <td>...</td>\n",
       "    </tr>\n",
       "    <tr>\n",
       "      <th>379</th>\n",
       "      <td>2022-12-29</td>\n",
       "      <td>354466.39</td>\n",
       "      <td>1924170.87</td>\n",
       "      <td>320613.95</td>\n",
       "      <td>15227634</td>\n",
       "      <td>15017348</td>\n",
       "      <td>2761350.25</td>\n",
       "      <td>119677</td>\n",
       "    </tr>\n",
       "    <tr>\n",
       "      <th>380</th>\n",
       "      <td>2022-12-30</td>\n",
       "      <td>363679.62</td>\n",
       "      <td>1919571.01</td>\n",
       "      <td>319977.54</td>\n",
       "      <td>14909759</td>\n",
       "      <td>14658450</td>\n",
       "      <td>2757787.48</td>\n",
       "      <td>117871</td>\n",
       "    </tr>\n",
       "    <tr>\n",
       "      <th>381</th>\n",
       "      <td>2022-12-31</td>\n",
       "      <td>467628.58</td>\n",
       "      <td>1600107.80</td>\n",
       "      <td>269010.57</td>\n",
       "      <td>13706732</td>\n",
       "      <td>13429150</td>\n",
       "      <td>2272815.42</td>\n",
       "      <td>105911</td>\n",
       "    </tr>\n",
       "    <tr>\n",
       "      <th>382</th>\n",
       "      <td>2023-01-01</td>\n",
       "      <td>8.76</td>\n",
       "      <td>75.80</td>\n",
       "      <td>13.90</td>\n",
       "      <td>686</td>\n",
       "      <td>702</td>\n",
       "      <td>111.20</td>\n",
       "      <td>6</td>\n",
       "    </tr>\n",
       "    <tr>\n",
       "      <th>383</th>\n",
       "      <td>2023-04-18</td>\n",
       "      <td>0.93</td>\n",
       "      <td>52.00</td>\n",
       "      <td>14.14</td>\n",
       "      <td>237</td>\n",
       "      <td>142</td>\n",
       "      <td>70.69</td>\n",
       "      <td>1</td>\n",
       "    </tr>\n",
       "  </tbody>\n",
       "</table>\n",
       "<p>384 rows × 8 columns</p>\n",
       "</div>"
      ],
      "text/plain": [
       "    pickup_date  trip_distance  fare_amount  tip_amount  PULocationID  \\\n",
       "0    2001-01-01          36.38       114.50        3.50           878   \n",
       "1    2001-08-23           7.08        22.50        0.00           132   \n",
       "2    2002-10-21         215.36       994.00       57.99          6914   \n",
       "3    2002-10-22         185.00      1619.16       90.97         11906   \n",
       "4    2002-10-23         253.59      1198.90      109.88         10748   \n",
       "..          ...            ...          ...         ...           ...   \n",
       "379  2022-12-29      354466.39   1924170.87   320613.95      15227634   \n",
       "380  2022-12-30      363679.62   1919571.01   319977.54      14909759   \n",
       "381  2022-12-31      467628.58   1600107.80   269010.57      13706732   \n",
       "382  2023-01-01           8.76        75.80       13.90           686   \n",
       "383  2023-04-18           0.93        52.00       14.14           237   \n",
       "\n",
       "     DOLocationID  total_amount  payment_type  \n",
       "0            1102        145.05             8  \n",
       "1              76         24.55             2  \n",
       "2            6972       1197.49            67  \n",
       "3           11744       1972.73           120  \n",
       "4           10060       1556.28           104  \n",
       "..            ...           ...           ...  \n",
       "379      15017348    2761350.25        119677  \n",
       "380      14658450    2757787.48        117871  \n",
       "381      13429150    2272815.42        105911  \n",
       "382           702        111.20             6  \n",
       "383           142         70.69             1  \n",
       "\n",
       "[384 rows x 8 columns]"
      ]
     },
     "execution_count": 15,
     "metadata": {},
     "output_type": "execute_result"
    }
   ],
   "source": [
    "totales_diarios_tamarillo22"
   ]
  },
  {
   "cell_type": "code",
   "execution_count": 23,
   "metadata": {},
   "outputs": [],
   "source": [
    "parquet_files_2023 = [file for file in parquet_files if '2023' in file.name]"
   ]
  },
  {
   "cell_type": "code",
   "execution_count": 24,
   "metadata": {},
   "outputs": [],
   "source": [
    "data_frames_2023 = []"
   ]
  },
  {
   "cell_type": "code",
   "execution_count": 25,
   "metadata": {},
   "outputs": [],
   "source": [
    "for file in parquet_files_2023:\n",
    "    df = pd.read_parquet(file)\n",
    "    data_frames_2023.append(df)"
   ]
  },
  {
   "cell_type": "code",
   "execution_count": 26,
   "metadata": {},
   "outputs": [],
   "source": [
    "combined_df_2023 = pd.concat(data_frames_2023, ignore_index=True)"
   ]
  },
  {
   "cell_type": "code",
   "execution_count": 27,
   "metadata": {},
   "outputs": [],
   "source": [
    "combined_df_2023['tpep_pickup_datetime'] = pd.to_datetime(combined_df_2023['tpep_pickup_datetime'])\n",
    "combined_df_2023['tpep_dropoff_datetime'] = pd.to_datetime(combined_df_2023['tpep_dropoff_datetime'])"
   ]
  },
  {
   "cell_type": "code",
   "execution_count": 28,
   "metadata": {},
   "outputs": [],
   "source": [
    "combined_df_2023['pickup_date'] = combined_df_2023['tpep_pickup_datetime'].dt.date"
   ]
  },
  {
   "cell_type": "code",
   "execution_count": 29,
   "metadata": {},
   "outputs": [],
   "source": [
    "daily_totals = combined_df_2023.groupby('pickup_date').agg({\n",
    "    'trip_distance': 'sum',\n",
    "    'fare_amount': 'sum',\n",
    "    'tip_amount': 'sum',\n",
    "    'PULocationID': 'sum',# Identificador de la ubicación de recogida.\n",
    "    'DOLocationID': 'sum',#Identificador de la ubicación de destino.\n",
    "    'total_amount': 'sum',#Monto total pagado por el pasajero.\n",
    "    'payment_type': 'sum', #Tipo de pago utilizado en el viaje.\n",
    "\n",
    "}).reset_index()"
   ]
  },
  {
   "cell_type": "code",
   "execution_count": 30,
   "metadata": {},
   "outputs": [],
   "source": [
    "daily_totals.to_csv('totales_diarios_tamarillo23.csv', index=False)"
   ]
  },
  {
   "cell_type": "code",
   "execution_count": 31,
   "metadata": {},
   "outputs": [],
   "source": [
    "totales_diarios_tamarillo23=pd.read_csv('totales_diarios_tamarillo23.csv')"
   ]
  },
  {
   "cell_type": "code",
   "execution_count": 32,
   "metadata": {},
   "outputs": [
    {
     "data": {
      "text/html": [
       "<div>\n",
       "<style scoped>\n",
       "    .dataframe tbody tr th:only-of-type {\n",
       "        vertical-align: middle;\n",
       "    }\n",
       "\n",
       "    .dataframe tbody tr th {\n",
       "        vertical-align: top;\n",
       "    }\n",
       "\n",
       "    .dataframe thead th {\n",
       "        text-align: right;\n",
       "    }\n",
       "</style>\n",
       "<table border=\"1\" class=\"dataframe\">\n",
       "  <thead>\n",
       "    <tr style=\"text-align: right;\">\n",
       "      <th></th>\n",
       "      <th>pickup_date</th>\n",
       "      <th>trip_distance</th>\n",
       "      <th>fare_amount</th>\n",
       "      <th>tip_amount</th>\n",
       "      <th>PULocationID</th>\n",
       "      <th>DOLocationID</th>\n",
       "      <th>total_amount</th>\n",
       "      <th>payment_type</th>\n",
       "    </tr>\n",
       "  </thead>\n",
       "  <tbody>\n",
       "    <tr>\n",
       "      <th>0</th>\n",
       "      <td>2001-01-01</td>\n",
       "      <td>64.76</td>\n",
       "      <td>273.1</td>\n",
       "      <td>23.46</td>\n",
       "      <td>1149</td>\n",
       "      <td>946</td>\n",
       "      <td>337.66</td>\n",
       "      <td>9</td>\n",
       "    </tr>\n",
       "    <tr>\n",
       "      <th>1</th>\n",
       "      <td>2002-12-31</td>\n",
       "      <td>28.51</td>\n",
       "      <td>125.2</td>\n",
       "      <td>0.00</td>\n",
       "      <td>642</td>\n",
       "      <td>348</td>\n",
       "      <td>148.75</td>\n",
       "      <td>8</td>\n",
       "    </tr>\n",
       "    <tr>\n",
       "      <th>2</th>\n",
       "      <td>2003-01-01</td>\n",
       "      <td>76.48</td>\n",
       "      <td>368.2</td>\n",
       "      <td>22.12</td>\n",
       "      <td>789</td>\n",
       "      <td>1061</td>\n",
       "      <td>428.70</td>\n",
       "      <td>9</td>\n",
       "    </tr>\n",
       "    <tr>\n",
       "      <th>3</th>\n",
       "      <td>2008-12-31</td>\n",
       "      <td>102.99</td>\n",
       "      <td>430.9</td>\n",
       "      <td>56.96</td>\n",
       "      <td>1853</td>\n",
       "      <td>2143</td>\n",
       "      <td>576.11</td>\n",
       "      <td>20</td>\n",
       "    </tr>\n",
       "    <tr>\n",
       "      <th>4</th>\n",
       "      <td>2009-01-01</td>\n",
       "      <td>1.92</td>\n",
       "      <td>14.4</td>\n",
       "      <td>0.00</td>\n",
       "      <td>293</td>\n",
       "      <td>406</td>\n",
       "      <td>20.90</td>\n",
       "      <td>4</td>\n",
       "    </tr>\n",
       "    <tr>\n",
       "      <th>...</th>\n",
       "      <td>...</td>\n",
       "      <td>...</td>\n",
       "      <td>...</td>\n",
       "      <td>...</td>\n",
       "      <td>...</td>\n",
       "      <td>...</td>\n",
       "      <td>...</td>\n",
       "      <td>...</td>\n",
       "    </tr>\n",
       "    <tr>\n",
       "      <th>166</th>\n",
       "      <td>2023-07-05</td>\n",
       "      <td>6.63</td>\n",
       "      <td>48.6</td>\n",
       "      <td>17.01</td>\n",
       "      <td>841</td>\n",
       "      <td>968</td>\n",
       "      <td>91.11</td>\n",
       "      <td>5</td>\n",
       "    </tr>\n",
       "    <tr>\n",
       "      <th>167</th>\n",
       "      <td>2023-07-25</td>\n",
       "      <td>1.29</td>\n",
       "      <td>8.6</td>\n",
       "      <td>2.72</td>\n",
       "      <td>230</td>\n",
       "      <td>68</td>\n",
       "      <td>16.32</td>\n",
       "      <td>1</td>\n",
       "    </tr>\n",
       "    <tr>\n",
       "      <th>168</th>\n",
       "      <td>2023-07-27</td>\n",
       "      <td>4.25</td>\n",
       "      <td>30.5</td>\n",
       "      <td>9.11</td>\n",
       "      <td>118</td>\n",
       "      <td>304</td>\n",
       "      <td>50.11</td>\n",
       "      <td>2</td>\n",
       "    </tr>\n",
       "    <tr>\n",
       "      <th>169</th>\n",
       "      <td>2023-08-15</td>\n",
       "      <td>6.00</td>\n",
       "      <td>33.3</td>\n",
       "      <td>8.06</td>\n",
       "      <td>136</td>\n",
       "      <td>511</td>\n",
       "      <td>51.36</td>\n",
       "      <td>2</td>\n",
       "    </tr>\n",
       "    <tr>\n",
       "      <th>170</th>\n",
       "      <td>2023-09-05</td>\n",
       "      <td>0.45</td>\n",
       "      <td>5.8</td>\n",
       "      <td>2.16</td>\n",
       "      <td>170</td>\n",
       "      <td>233</td>\n",
       "      <td>12.96</td>\n",
       "      <td>1</td>\n",
       "    </tr>\n",
       "  </tbody>\n",
       "</table>\n",
       "<p>171 rows × 8 columns</p>\n",
       "</div>"
      ],
      "text/plain": [
       "    pickup_date  trip_distance  fare_amount  tip_amount  PULocationID  \\\n",
       "0    2001-01-01          64.76        273.1       23.46          1149   \n",
       "1    2002-12-31          28.51        125.2        0.00           642   \n",
       "2    2003-01-01          76.48        368.2       22.12           789   \n",
       "3    2008-12-31         102.99        430.9       56.96          1853   \n",
       "4    2009-01-01           1.92         14.4        0.00           293   \n",
       "..          ...            ...          ...         ...           ...   \n",
       "166  2023-07-05           6.63         48.6       17.01           841   \n",
       "167  2023-07-25           1.29          8.6        2.72           230   \n",
       "168  2023-07-27           4.25         30.5        9.11           118   \n",
       "169  2023-08-15           6.00         33.3        8.06           136   \n",
       "170  2023-09-05           0.45          5.8        2.16           170   \n",
       "\n",
       "     DOLocationID  total_amount  payment_type  \n",
       "0             946        337.66             9  \n",
       "1             348        148.75             8  \n",
       "2            1061        428.70             9  \n",
       "3            2143        576.11            20  \n",
       "4             406         20.90             4  \n",
       "..            ...           ...           ...  \n",
       "166           968         91.11             5  \n",
       "167            68         16.32             1  \n",
       "168           304         50.11             2  \n",
       "169           511         51.36             2  \n",
       "170           233         12.96             1  \n",
       "\n",
       "[171 rows x 8 columns]"
      ]
     },
     "execution_count": 32,
     "metadata": {},
     "output_type": "execute_result"
    }
   ],
   "source": [
    "totales_diarios_tamarillo23"
   ]
  },
  {
   "cell_type": "code",
   "execution_count": null,
   "metadata": {},
   "outputs": [],
   "source": []
  }
 ],
 "metadata": {
  "kernelspec": {
   "display_name": "Python 3",
   "language": "python",
   "name": "python3"
  },
  "language_info": {
   "codemirror_mode": {
    "name": "ipython",
    "version": 3
   },
   "file_extension": ".py",
   "mimetype": "text/x-python",
   "name": "python",
   "nbconvert_exporter": "python",
   "pygments_lexer": "ipython3",
   "version": "3.10.6"
  },
  "orig_nbformat": 4
 },
 "nbformat": 4,
 "nbformat_minor": 2
}
