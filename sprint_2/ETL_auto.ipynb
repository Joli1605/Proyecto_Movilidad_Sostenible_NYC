{
 "cells": [
  {
   "cell_type": "code",
   "execution_count": 1,
   "metadata": {},
   "outputs": [],
   "source": [
    "import os\n",
    "import pandas as pd\n",
    "from pathlib import Path\n",
    "import numpy as np\n",
    "import datetime as dt "
   ]
  },
  {
   "cell_type": "markdown",
   "metadata": {},
   "source": [
    "#### Data taxis verdes"
   ]
  },
  {
   "cell_type": "code",
   "execution_count": 2,
   "metadata": {},
   "outputs": [],
   "source": [
    "# cargar datos\n",
    "def load_parquet_files(folder_path, Año):\n",
    "    parquet_files = Path(folder_path).glob('*.parquet')#Obtenemos una lista de rutas a archivos .parquet en la carpeta especificada\n",
    "    parquet_files_Año = [file for file in parquet_files if f'green_tripdata_{Año}' in file.name]#filtramos el nombre del archivo con el que vamos trabajar\n",
    "\n",
    "    data_frames_Año = []#iniciamos un lista para almacenar los DataFrames cargados desde los archivos .parquet\n",
    "    for file in parquet_files_Año:# Iteramos a través de los archivos .parquet correspondientes al año y cargar cada uno en un DataFrame\n",
    "        df = pd.read_parquet(file)# Cargamos el archivo parquet\n",
    "        data_frames_Año.append(df)# Agregamos el DataFrame cargado a la lista\n",
    "\n",
    "    return data_frames_Año # Devolvemos la lista de DataFrames correspondientes al año\n"
   ]
  },
  {
   "cell_type": "code",
   "execution_count": 3,
   "metadata": {},
   "outputs": [],
   "source": [
    "#tranformar datos\n",
    "def transform_data(data_frames, Año):\n",
    "    combined_df = pd.concat(data_frames, ignore_index=True)\n",
    "    combined_df['lpep_pickup_datetime'] = pd.to_datetime(combined_df['lpep_pickup_datetime'])\n",
    "    combined_df['pickup_date'] = combined_df['lpep_pickup_datetime'].dt.date\n",
    "\n",
    "    df_taxi = combined_df.copy()\n",
    "    df_taxi['pickup_date'] = pd.to_datetime(df_taxi['pickup_date'])\n",
    "\n",
    "    column_order = ['VendorID', 'pickup_date'] + [col for col in df_taxi.columns if col not in ['VendorID', 'pickup_date']]\n",
    "    df_taxi = df_taxi[column_order]\n",
    "\n",
    "    df_taxi = df_taxi[df_taxi['pickup_date'].dt.year == Año]\n",
    "\n",
    "    columns_to_remove = ['lpep_pickup_datetime','lpep_dropoff_datetime','RatecodeID','PULocationID','DOLocationID','passenger_count','trip_distance','fare_amount','payment_type','trip_type','extra', 'mta_tax', 'tip_amount', 'tolls_amount', 'ehail_fee', 'improvement_surcharge', 'store_and_fwd_flag', 'congestion_surcharge']\n",
    "    df_taxi = df_taxi.drop(columns=columns_to_remove)\n",
    "\n",
    "    # Agregar una columna que indica el día de la semana (0: Lunes, 6: Domingo)\n",
    "    df_taxi['weekday'] = df_taxi['pickup_date'].dt.weekday\n",
    "\n",
    "    # Mapear los números de día de la semana a nombres de días\n",
    "    day_names = ['Lunes', 'Martes', 'Miércoles', 'Jueves', 'Viernes', 'Sábado', 'Domingo']\n",
    "    df_taxi['weekday'] = df_taxi['weekday'].apply(lambda x: day_names[x])\n",
    "\n",
    "    # Agrupar por fecha y calcular el total_amount por día\n",
    "    df_taxi_grouped = df_taxi.groupby(['pickup_date', 'weekday'])['total_amount'].sum().reset_index()\n",
    "\n",
    "    # Agregar una columna que indica la cantidad de veces que se repite una fecha\n",
    "    df_taxi_grouped['row_count'] = df_taxi['pickup_date'].value_counts()[df_taxi_grouped['pickup_date']].values\n",
    "\n",
    "    return df_taxi_grouped"
   ]
  },
  {
   "cell_type": "markdown",
   "metadata": {},
   "source": [
    "Realizamos los llamados a las funciones "
   ]
  },
  {
   "cell_type": "code",
   "execution_count": 10,
   "metadata": {},
   "outputs": [],
   "source": [
    "\n",
    "folder_path = '../Datasets/Dataset_extraidos/Taxis.parquet_2022_2023'\n",
    "Año = 2022\n",
    "data_frames_Año = load_parquet_files(folder_path, Año)\n",
    "df_taxi_grouped = transform_data(data_frames_Año, Año)\n",
    "df_taxi_grouped.head(10)\n",
    "#Guardamos el DataFrame con el nombre correspondiente al año elegido\n",
    "df_taxi_grouped.to_csv(f'{folder_path}/taxiV_{Año}.csv', index=False)\n"
   ]
  },
  {
   "cell_type": "markdown",
   "metadata": {},
   "source": [
    "#### Data Taxis amarillos"
   ]
  },
  {
   "cell_type": "markdown",
   "metadata": {},
   "source": [
    "Se realiza el mismo procedimiento que en la funcion anterior, con la diferencia que al ser archivos mas pesados se deben crear DataFrame por día"
   ]
  },
  {
   "cell_type": "markdown",
   "metadata": {},
   "source": [
    "Función para la carga de datos"
   ]
  },
  {
   "cell_type": "code",
   "execution_count": 24,
   "metadata": {},
   "outputs": [],
   "source": [
    "def load_parquet_filesY(folder_path, AñoY):\n",
    "    parquet_files = Path(folder_path_Y).glob('*.parquet')\n",
    "    parquet_files_Año = [file for file in parquet_files if f'yellow_tripdata_{AñoY}-0{mes}' in file.name]\n",
    "\n",
    "    data_frames_AñoY = []\n",
    "    for file in parquet_files_Año:\n",
    "        df = pd.read_parquet(file)\n",
    "        data_frames_AñoY.append(df)\n",
    "\n",
    "    return data_frames_AñoY\n"
   ]
  },
  {
   "cell_type": "markdown",
   "metadata": {},
   "source": [
    "Funcion de Transformación de datos"
   ]
  },
  {
   "cell_type": "code",
   "execution_count": 42,
   "metadata": {},
   "outputs": [],
   "source": [
    "def transform_data(data_frames, AñoY):\n",
    "    combined_df = pd.concat(data_frames, ignore_index=True)\n",
    "    combined_df['tpep_pickup_datetime'] = pd.to_datetime(combined_df['tpep_pickup_datetime'])\n",
    "    combined_df['pickup_date'] = combined_df['tpep_pickup_datetime'].dt.date\n",
    "\n",
    "    df_taxiY = combined_df.copy()\n",
    "    df_taxiY['pickup_date'] = pd.to_datetime(df_taxiY['pickup_date'])\n",
    "\n",
    "    column_order = ['VendorID', 'pickup_date'] + [col for col in df_taxiY.columns if col not in ['VendorID', 'pickup_date']]\n",
    "    df_taxiY = df_taxiY[column_order]\n",
    "\n",
    "    df_taxiY = df_taxiY[df_taxiY['pickup_date'].dt.year == AñoY]\n",
    "\n",
    "    columns_to_remove = ['VendorID', 'Airport_fee','tpep_pickup_datetime','tpep_dropoff_datetime','RatecodeID','PULocationID','DOLocationID','passenger_count','trip_distance','fare_amount','payment_type','extra', 'mta_tax', 'tip_amount', 'tolls_amount', 'improvement_surcharge', 'store_and_fwd_flag', 'congestion_surcharge']\n",
    "    df_taxiY = df_taxiY.drop(columns=columns_to_remove)\n",
    "\n",
    "    # Agregar una columna que indica el día de la semana (0: Lunes, 6: Domingo)\n",
    "    df_taxiY['weekday'] = df_taxiY['pickup_date'].dt.weekday\n",
    "\n",
    "    # Mapear los números de día de la semana a nombres de días\n",
    "    day_names = ['Lunes', 'Martes', 'Miércoles', 'Jueves', 'Viernes', 'Sábado', 'Domingo']\n",
    "    df_taxiY['weekday'] = df_taxiY['weekday'].apply(lambda x: day_names[x])\n",
    "\n",
    "    # Agrupar por fecha y calcular el total_amount por día\n",
    "    df_taxi_grouped = df_taxiY.groupby(['pickup_date', 'weekday'])['total_amount'].sum().reset_index()\n",
    "\n",
    "    # Agregar una columna que indica la cantidad de veces que se repite una fecha\n",
    "    df_taxi_grouped['row_count'] = df_taxiY.groupby('pickup_date').size().reset_index(name='row_count')['row_count']\n",
    "\n",
    "    return df_taxi_grouped\n"
   ]
  },
  {
   "cell_type": "markdown",
   "metadata": {},
   "source": [
    "Llamado a las funciones y guardado de los DataFrame"
   ]
  },
  {
   "cell_type": "code",
   "execution_count": 46,
   "metadata": {},
   "outputs": [],
   "source": [
    "folder_path_Y = '../Datasets/Dataset_extraidos/Taxis.parquet_2022_2023'\n",
    "AñoY = 2023\n",
    "mes=5\n",
    "data_frames = load_parquet_filesY(folder_path_Y, AñoY)\n",
    "df_taxiY = transform_data(data_frames, AñoY)\n",
    "df_taxiY.head(10)\n",
    "df_taxiY.to_csv(f'{folder_path}/taxiY_{AñoY}_{mes}.csv',index=False)"
   ]
  },
  {
   "cell_type": "markdown",
   "metadata": {},
   "source": [
    "#### Combinacion taxis verdes + taxis amarillo"
   ]
  },
  {
   "cell_type": "markdown",
   "metadata": {},
   "source": [
    "Función de carga de datos"
   ]
  },
  {
   "cell_type": "code",
   "execution_count": 83,
   "metadata": {},
   "outputs": [],
   "source": [
    "def load_csv_files(folder_path):\n",
    "    csv_files = [file for file in os.listdir(folder_path) if file.endswith('.csv') and f'taxiV_' in file]\n",
    "    \n",
    "    data_frames = []\n",
    "    for file in csv_files:\n",
    "        file_path = os.path.join(folder_path, file)\n",
    "        df = pd.read_csv(file_path)\n",
    "        data_frames.append(df)\n",
    "    \n",
    "    return data_frames"
   ]
  },
  {
   "cell_type": "markdown",
   "metadata": {},
   "source": [
    "Función de transformación de DF"
   ]
  },
  {
   "cell_type": "code",
   "execution_count": 86,
   "metadata": {},
   "outputs": [],
   "source": [
    "def combine_and_transform_data(data_frames):\n",
    "    combined_df = pd.concat(data_frames, ignore_index=True)\n",
    "    \n",
    "    columns_to_drop = [\"Unnamed: 0\"]\n",
    "    combined_df = combined_df.drop(columns=columns_to_drop)\n",
    "    \n",
    "    return combined_df"
   ]
  },
  {
   "cell_type": "code",
   "execution_count": 87,
   "metadata": {},
   "outputs": [],
   "source": [
    "folder_path = '../Datasets/Dataset_extraidos/Taxis.parquet_2022_2023'\n",
    "\n",
    "data_frames = load_csv_files(folder_path)\n",
    "combined_data = combine_and_transform_data(data_frames)\n",
    "combined_data.to_csv('../sprint_2/Datasets_limpios/taxiG.csv',index=False)"
   ]
  },
  {
   "cell_type": "code",
   "execution_count": 88,
   "metadata": {},
   "outputs": [],
   "source": [
    "dfv=pd.read_csv('taxiG.csv')"
   ]
  },
  {
   "cell_type": "code",
   "execution_count": 89,
   "metadata": {},
   "outputs": [
    {
     "name": "stdout",
     "output_type": "stream",
     "text": [
      "<class 'pandas.core.frame.DataFrame'>\n",
      "RangeIndex: 884 entries, 0 to 883\n",
      "Data columns (total 5 columns):\n",
      " #   Column        Non-Null Count  Dtype  \n",
      "---  ------        --------------  -----  \n",
      " 0   Unnamed: 0    884 non-null    int64  \n",
      " 1   pickup_date   884 non-null    object \n",
      " 2   weekday       884 non-null    object \n",
      " 3   total_amount  884 non-null    float64\n",
      " 4   row_count     884 non-null    int64  \n",
      "dtypes: float64(1), int64(2), object(2)\n",
      "memory usage: 34.7+ KB\n"
     ]
    }
   ],
   "source": [
    "dfv.info()"
   ]
  },
  {
   "cell_type": "code",
   "execution_count": null,
   "metadata": {},
   "outputs": [],
   "source": [
    "def load_csv_files(folder_path):\n",
    "    csv_files = [file for file in os.listdir(folder_path) if file.endswith('.csv') and f'taxiY_' in file]\n",
    "    \n",
    "    data_frames = []\n",
    "    for file in csv_files:\n",
    "        file_path = os.path.join(folder_path, file)\n",
    "        df = pd.read_csv(file_path)\n",
    "        data_frames.append(df)\n",
    "    \n",
    "    return data_frames"
   ]
  },
  {
   "cell_type": "code",
   "execution_count": null,
   "metadata": {},
   "outputs": [],
   "source": [
    "def combine_and_transform_data(data_frames):\n",
    "    combined_df = pd.concat(data_frames, ignore_index=True)\n",
    "    \n",
    "    columns_to_drop = [\"Unnamed: 0\"]\n",
    "    combined_df = combined_df.drop(columns=columns_to_drop)\n",
    "    \n",
    "    return combined_df"
   ]
  },
  {
   "cell_type": "code",
   "execution_count": null,
   "metadata": {},
   "outputs": [],
   "source": [
    "folder_path =  '../Datasets/Dataset_extraidos/Taxis.parquet_2022_2023'\n",
    "\n",
    "data_frames = load_csv_files(folder_path)\n",
    "combined_data = combine_and_transform_data(data_frames)\n",
    "combined_data.to_csv('../sprint_2/Datasets_limpios/taxiY1.csv',index=False)"
   ]
  },
  {
   "cell_type": "markdown",
   "metadata": {},
   "source": [
    "#### estaciones_ny"
   ]
  },
  {
   "cell_type": "code",
   "execution_count": 3,
   "metadata": {},
   "outputs": [
    {
     "name": "stderr",
     "output_type": "stream",
     "text": [
      "C:\\Users\\mwmar\\AppData\\Local\\Temp\\ipykernel_2432\\3627456893.py:1: DtypeWarning: Columns (6,16,20,31,33,36,39,40,41,43,46,52,53,55,57,58,60,62) have mixed types. Specify dtype option on import or set low_memory=False.\n",
      "  dfElectric=pd.read_csv('../Datasets/Dataset_empresa/Electric and Alternative Fuel Charging Stations.csv')\n"
     ]
    }
   ],
   "source": [
    "dfElectric=pd.read_csv('../Datasets/Dataset_empresa/Electric and Alternative Fuel Charging Stations.csv')"
   ]
  },
  {
   "cell_type": "code",
   "execution_count": 4,
   "metadata": {},
   "outputs": [
    {
     "name": "stdout",
     "output_type": "stream",
     "text": [
      "<class 'pandas.core.frame.DataFrame'>\n",
      "RangeIndex: 70406 entries, 0 to 70405\n",
      "Data columns (total 65 columns):\n",
      " #   Column                            Non-Null Count  Dtype  \n",
      "---  ------                            --------------  -----  \n",
      " 0   Fuel Type Code                    70406 non-null  object \n",
      " 1   Station Name                      70406 non-null  object \n",
      " 2   Street Address                    70405 non-null  object \n",
      " 3   Intersection Directions           4493 non-null   object \n",
      " 4   City                              70406 non-null  object \n",
      " 5   State                             70406 non-null  object \n",
      " 6   ZIP                               70405 non-null  object \n",
      " 7   Plus4                             0 non-null      float64\n",
      " 8   Station Phone                     65204 non-null  object \n",
      " 9   Status Code                       70406 non-null  object \n",
      " 10  Expected Date                     1218 non-null   object \n",
      " 11  Groups With Access Code           70406 non-null  object \n",
      " 12  Access Days Time                  66628 non-null  object \n",
      " 13  Cards Accepted                    11289 non-null  object \n",
      " 14  BD Blends                         1217 non-null   object \n",
      " 15  NG Fill Type Code                 1603 non-null   object \n",
      " 16  NG PSI                            1597 non-null   object \n",
      " 17  EV Level1 EVSE Num                286 non-null    float64\n",
      " 18  EV Level2 EVSE Num                54144 non-null  float64\n",
      " 19  EV DC Fast Count                  8307 non-null   float64\n",
      " 20  EV Other Info                     49 non-null     object \n",
      " 21  EV Network                        60907 non-null  object \n",
      " 22  EV Network Web                    50305 non-null  object \n",
      " 23  Geocode Status                    70391 non-null  object \n",
      " 24  Latitude                          70406 non-null  float64\n",
      " 25  Longitude                         70406 non-null  float64\n",
      " 26  Date Last Confirmed               70188 non-null  object \n",
      " 27  ID                                70406 non-null  int64  \n",
      " 28  Updated At                        70406 non-null  object \n",
      " 29  Owner Type Code                   30190 non-null  object \n",
      " 30  Federal Agency ID                 955 non-null    float64\n",
      " 31  Federal Agency Name               955 non-null    object \n",
      " 32  Open Date                         69310 non-null  object \n",
      " 33  Hydrogen Status Link              83 non-null     object \n",
      " 34  NG Vehicle Class                  1780 non-null   object \n",
      " 35  LPG Primary                       1867 non-null   object \n",
      " 36  E85 Blender Pump                  4508 non-null   object \n",
      " 37  EV Connector Types                60690 non-null  object \n",
      " 38  Country                           70406 non-null  object \n",
      " 39  Intersection Directions (French)  188 non-null    object \n",
      " 40  Access Days Time (French)         6591 non-null   object \n",
      " 41  BD Blends (French)                2 non-null      object \n",
      " 42  Groups With Access Code (French)  70406 non-null  object \n",
      " 43  Hydrogen Is Retail                117 non-null    object \n",
      " 44  Access Code                       70406 non-null  object \n",
      " 45  Access Detail Code                7423 non-null   object \n",
      " 46  Federal Agency Code               955 non-null    object \n",
      " 47  Facility Type                     27665 non-null  object \n",
      " 48  CNG Dispenser Num                 1039 non-null   float64\n",
      " 49  CNG On-Site Renewable Source      716 non-null    object \n",
      " 50  CNG Total Compression Capacity    708 non-null    float64\n",
      " 51  CNG Storage Capacity              357 non-null    float64\n",
      " 52  LNG On-Site Renewable Source      62 non-null     object \n",
      " 53  E85 Other Ethanol Blends          1458 non-null   object \n",
      " 54  EV Pricing                        16961 non-null  object \n",
      " 55  EV Pricing (French)               2032 non-null   object \n",
      " 56  LPG Nozzle Types                  1826 non-null   object \n",
      " 57  Hydrogen Pressures                116 non-null    object \n",
      " 58  Hydrogen Standards                116 non-null    object \n",
      " 59  CNG Fill Type Code                1603 non-null   object \n",
      " 60  CNG PSI                           1597 non-null   object \n",
      " 61  CNG Vehicle Class                 1622 non-null   object \n",
      " 62  LNG Vehicle Class                 158 non-null    object \n",
      " 63  EV On-Site Renewable Source       370 non-null    object \n",
      " 64  Restricted Access                 53435 non-null  object \n",
      "dtypes: float64(10), int64(1), object(54)\n",
      "memory usage: 34.9+ MB\n"
     ]
    }
   ],
   "source": [
    "# observamos nombre de columnas, cantidad de valores no nulos y tipo de datos\n",
    "dfElectric.info()"
   ]
  },
  {
   "cell_type": "code",
   "execution_count": 5,
   "metadata": {},
   "outputs": [
    {
     "data": {
      "text/html": [
       "<div>\n",
       "<style scoped>\n",
       "    .dataframe tbody tr th:only-of-type {\n",
       "        vertical-align: middle;\n",
       "    }\n",
       "\n",
       "    .dataframe tbody tr th {\n",
       "        vertical-align: top;\n",
       "    }\n",
       "\n",
       "    .dataframe thead th {\n",
       "        text-align: right;\n",
       "    }\n",
       "</style>\n",
       "<table border=\"1\" class=\"dataframe\">\n",
       "  <thead>\n",
       "    <tr style=\"text-align: right;\">\n",
       "      <th></th>\n",
       "      <th>Fuel Type Code</th>\n",
       "      <th>Station Name</th>\n",
       "      <th>Street Address</th>\n",
       "      <th>Intersection Directions</th>\n",
       "      <th>City</th>\n",
       "      <th>State</th>\n",
       "      <th>ZIP</th>\n",
       "      <th>Plus4</th>\n",
       "      <th>Station Phone</th>\n",
       "      <th>Status Code</th>\n",
       "      <th>...</th>\n",
       "      <th>EV Pricing (French)</th>\n",
       "      <th>LPG Nozzle Types</th>\n",
       "      <th>Hydrogen Pressures</th>\n",
       "      <th>Hydrogen Standards</th>\n",
       "      <th>CNG Fill Type Code</th>\n",
       "      <th>CNG PSI</th>\n",
       "      <th>CNG Vehicle Class</th>\n",
       "      <th>LNG Vehicle Class</th>\n",
       "      <th>EV On-Site Renewable Source</th>\n",
       "      <th>Restricted Access</th>\n",
       "    </tr>\n",
       "  </thead>\n",
       "  <tbody>\n",
       "    <tr>\n",
       "      <th>0</th>\n",
       "      <td>CNG</td>\n",
       "      <td>Spire - Montgomery Operations Center</td>\n",
       "      <td>2951 Chestnut St</td>\n",
       "      <td>NaN</td>\n",
       "      <td>Montgomery</td>\n",
       "      <td>AL</td>\n",
       "      <td>36107</td>\n",
       "      <td>NaN</td>\n",
       "      <td>NaN</td>\n",
       "      <td>E</td>\n",
       "      <td>...</td>\n",
       "      <td>NaN</td>\n",
       "      <td>NaN</td>\n",
       "      <td>NaN</td>\n",
       "      <td>NaN</td>\n",
       "      <td>B</td>\n",
       "      <td>3600</td>\n",
       "      <td>MD</td>\n",
       "      <td>NaN</td>\n",
       "      <td>NaN</td>\n",
       "      <td>NaN</td>\n",
       "    </tr>\n",
       "    <tr>\n",
       "      <th>1</th>\n",
       "      <td>CNG</td>\n",
       "      <td>PS Energy - Atlanta</td>\n",
       "      <td>340 Whitehall St</td>\n",
       "      <td>From I-7585 N, exit 91 to Central Ave, left on...</td>\n",
       "      <td>Atlanta</td>\n",
       "      <td>GA</td>\n",
       "      <td>30303</td>\n",
       "      <td>NaN</td>\n",
       "      <td>770-350-3000</td>\n",
       "      <td>E</td>\n",
       "      <td>...</td>\n",
       "      <td>NaN</td>\n",
       "      <td>NaN</td>\n",
       "      <td>NaN</td>\n",
       "      <td>NaN</td>\n",
       "      <td>Q</td>\n",
       "      <td>3600</td>\n",
       "      <td>MD</td>\n",
       "      <td>NaN</td>\n",
       "      <td>NaN</td>\n",
       "      <td>False</td>\n",
       "    </tr>\n",
       "    <tr>\n",
       "      <th>2</th>\n",
       "      <td>CNG</td>\n",
       "      <td>Metropolitan Atlanta Rapid Transit Authority</td>\n",
       "      <td>2424 Piedmont Rd NE</td>\n",
       "      <td>NaN</td>\n",
       "      <td>Atlanta</td>\n",
       "      <td>GA</td>\n",
       "      <td>30324</td>\n",
       "      <td>NaN</td>\n",
       "      <td>NaN</td>\n",
       "      <td>E</td>\n",
       "      <td>...</td>\n",
       "      <td>NaN</td>\n",
       "      <td>NaN</td>\n",
       "      <td>NaN</td>\n",
       "      <td>NaN</td>\n",
       "      <td>Q</td>\n",
       "      <td>3000</td>\n",
       "      <td>LD</td>\n",
       "      <td>NaN</td>\n",
       "      <td>NaN</td>\n",
       "      <td>NaN</td>\n",
       "    </tr>\n",
       "    <tr>\n",
       "      <th>3</th>\n",
       "      <td>CNG</td>\n",
       "      <td>United Parcel Service</td>\n",
       "      <td>270 Marvin Miller Dr</td>\n",
       "      <td>NaN</td>\n",
       "      <td>Atlanta</td>\n",
       "      <td>GA</td>\n",
       "      <td>30336</td>\n",
       "      <td>NaN</td>\n",
       "      <td>NaN</td>\n",
       "      <td>E</td>\n",
       "      <td>...</td>\n",
       "      <td>NaN</td>\n",
       "      <td>NaN</td>\n",
       "      <td>NaN</td>\n",
       "      <td>NaN</td>\n",
       "      <td>B</td>\n",
       "      <td>3600</td>\n",
       "      <td>HD</td>\n",
       "      <td>NaN</td>\n",
       "      <td>NaN</td>\n",
       "      <td>NaN</td>\n",
       "    </tr>\n",
       "    <tr>\n",
       "      <th>4</th>\n",
       "      <td>CNG</td>\n",
       "      <td>Arkansas Oklahoma Gas Corp</td>\n",
       "      <td>2100 S Waldron Rd</td>\n",
       "      <td>NaN</td>\n",
       "      <td>Fort Smith</td>\n",
       "      <td>AR</td>\n",
       "      <td>72903</td>\n",
       "      <td>NaN</td>\n",
       "      <td>479-783-3188</td>\n",
       "      <td>E</td>\n",
       "      <td>...</td>\n",
       "      <td>NaN</td>\n",
       "      <td>NaN</td>\n",
       "      <td>NaN</td>\n",
       "      <td>NaN</td>\n",
       "      <td>Q</td>\n",
       "      <td>3600</td>\n",
       "      <td>MD</td>\n",
       "      <td>NaN</td>\n",
       "      <td>NaN</td>\n",
       "      <td>False</td>\n",
       "    </tr>\n",
       "  </tbody>\n",
       "</table>\n",
       "<p>5 rows × 65 columns</p>\n",
       "</div>"
      ],
      "text/plain": [
       "  Fuel Type Code                                  Station Name  \\\n",
       "0            CNG          Spire - Montgomery Operations Center   \n",
       "1            CNG                           PS Energy - Atlanta   \n",
       "2            CNG  Metropolitan Atlanta Rapid Transit Authority   \n",
       "3            CNG                         United Parcel Service   \n",
       "4            CNG                    Arkansas Oklahoma Gas Corp   \n",
       "\n",
       "         Street Address                            Intersection Directions  \\\n",
       "0      2951 Chestnut St                                                NaN   \n",
       "1      340 Whitehall St  From I-7585 N, exit 91 to Central Ave, left on...   \n",
       "2   2424 Piedmont Rd NE                                                NaN   \n",
       "3  270 Marvin Miller Dr                                                NaN   \n",
       "4     2100 S Waldron Rd                                                NaN   \n",
       "\n",
       "         City State    ZIP  Plus4 Station Phone Status Code  ...  \\\n",
       "0  Montgomery    AL  36107    NaN           NaN           E  ...   \n",
       "1     Atlanta    GA  30303    NaN  770-350-3000           E  ...   \n",
       "2     Atlanta    GA  30324    NaN           NaN           E  ...   \n",
       "3     Atlanta    GA  30336    NaN           NaN           E  ...   \n",
       "4  Fort Smith    AR  72903    NaN  479-783-3188           E  ...   \n",
       "\n",
       "  EV Pricing (French) LPG Nozzle Types Hydrogen Pressures Hydrogen Standards  \\\n",
       "0                 NaN              NaN                NaN                NaN   \n",
       "1                 NaN              NaN                NaN                NaN   \n",
       "2                 NaN              NaN                NaN                NaN   \n",
       "3                 NaN              NaN                NaN                NaN   \n",
       "4                 NaN              NaN                NaN                NaN   \n",
       "\n",
       "  CNG Fill Type Code CNG PSI CNG Vehicle Class  LNG Vehicle Class  \\\n",
       "0                  B    3600                MD                NaN   \n",
       "1                  Q    3600                MD                NaN   \n",
       "2                  Q    3000                LD                NaN   \n",
       "3                  B    3600                HD                NaN   \n",
       "4                  Q    3600                MD                NaN   \n",
       "\n",
       "   EV On-Site Renewable Source  Restricted Access  \n",
       "0                          NaN                NaN  \n",
       "1                          NaN              False  \n",
       "2                          NaN                NaN  \n",
       "3                          NaN                NaN  \n",
       "4                          NaN              False  \n",
       "\n",
       "[5 rows x 65 columns]"
      ]
     },
     "execution_count": 5,
     "metadata": {},
     "output_type": "execute_result"
    }
   ],
   "source": [
    "dfElectric.head()"
   ]
  },
  {
   "cell_type": "code",
   "execution_count": 6,
   "metadata": {},
   "outputs": [],
   "source": [
    "#tranformaciones\n",
    "\n",
    "#Filtro por ubicación\n",
    "estaciones_ny = dfElectric[dfElectric['State'] == 'NY']\n",
    "# Lista de nombres de columnas a eliminar\n",
    "columnas_a_eliminar = ['Street Address','Intersection Directions','ZIP','Plus4','Station Phone','Status Code','Groups With Access Code',\n",
    "'Access Days Time','Cards Accepted','Date Last Confirmed','Updated At','Owner Type Code','Federal Agency ID',\n",
    "'Open Date','Country','Access Code','Facility Type','CNG On-Site Renewable Source','CNG Total Compression Capacity','CNG Storage Capacity','EV Pricing',\n",
    "'LPG Nozzle Types','CNG Fill Type Code','CNG PSI','EV On-Site Renewable Source','Restricted Access','Expected Date','BD Blends','NG Fill Type Code','NG PSI',\n",
    "'EV Other Info','EV Network Web','Hydrogen Status Link','LPG Primary', 'E85 Blender Pump', 'Intersection Directions (French)','Access Days Time (French)','BD Blends (French)',\n",
    "'Hydrogen Is Retail','Federal Agency Code','LNG On-Site Renewable Source','E85 Other Ethanol Blends','EV Pricing (French)','Hydrogen Pressures','Hydrogen Standards','Federal Agency Name'\n",
    "]\n",
    "\n",
    "# Elimino las columnas especificadas\n",
    "estaciones_ny = estaciones_ny.drop(columns=columnas_a_eliminar)\n",
    "# Reorganizo las columnas\n",
    "column_order = ['ID'] + [col for col in estaciones_ny.columns if col != 'ID']\n",
    "estaciones_ny=estaciones_ny[column_order]"
   ]
  },
  {
   "cell_type": "code",
   "execution_count": 7,
   "metadata": {},
   "outputs": [
    {
     "name": "stdout",
     "output_type": "stream",
     "text": [
      "<class 'pandas.core.frame.DataFrame'>\n",
      "Int64Index: 3409 entries, 7 to 70395\n",
      "Data columns (total 19 columns):\n",
      " #   Column                            Non-Null Count  Dtype  \n",
      "---  ------                            --------------  -----  \n",
      " 0   ID                                3409 non-null   int64  \n",
      " 1   Fuel Type Code                    3409 non-null   object \n",
      " 2   Station Name                      3409 non-null   object \n",
      " 3   City                              3409 non-null   object \n",
      " 4   State                             3409 non-null   object \n",
      " 5   EV Level1 EVSE Num                5 non-null      float64\n",
      " 6   EV Level2 EVSE Num                3024 non-null   float64\n",
      " 7   EV DC Fast Count                  241 non-null    float64\n",
      " 8   EV Network                        3235 non-null   object \n",
      " 9   Geocode Status                    3409 non-null   object \n",
      " 10  Latitude                          3409 non-null   float64\n",
      " 11  Longitude                         3409 non-null   float64\n",
      " 12  NG Vehicle Class                  58 non-null     object \n",
      " 13  EV Connector Types                3235 non-null   object \n",
      " 14  Groups With Access Code (French)  3409 non-null   object \n",
      " 15  Access Detail Code                292 non-null    object \n",
      " 16  CNG Dispenser Num                 38 non-null     float64\n",
      " 17  CNG Vehicle Class                 58 non-null     object \n",
      " 18  LNG Vehicle Class                 0 non-null      object \n",
      "dtypes: float64(6), int64(1), object(12)\n",
      "memory usage: 532.7+ KB\n"
     ]
    }
   ],
   "source": [
    "estaciones_ny.info()"
   ]
  },
  {
   "cell_type": "code",
   "execution_count": 10,
   "metadata": {},
   "outputs": [
    {
     "data": {
      "text/plain": [
       "['ID',\n",
       " 'Fuel Type Code',\n",
       " 'Station Name',\n",
       " 'City',\n",
       " 'State',\n",
       " 'EV Level1 EVSE Num',\n",
       " 'EV Level2 EVSE Num',\n",
       " 'EV DC Fast Count',\n",
       " 'EV Network',\n",
       " 'Geocode Status',\n",
       " 'Latitude',\n",
       " 'Longitude',\n",
       " 'NG Vehicle Class',\n",
       " 'EV Connector Types',\n",
       " 'Groups With Access Code (French)',\n",
       " 'Access Detail Code',\n",
       " 'CNG Dispenser Num',\n",
       " 'CNG Vehicle Class',\n",
       " 'LNG Vehicle Class']"
      ]
     },
     "execution_count": 10,
     "metadata": {},
     "output_type": "execute_result"
    }
   ],
   "source": [
    "estaciones_ny.columns.tolist()"
   ]
  },
  {
   "cell_type": "code",
   "execution_count": null,
   "metadata": {},
   "outputs": [],
   "source": [
    "#guardo station_ny\n",
    "estaciones_ny.to_csv('Station_NY.csv',index=False)"
   ]
  },
  {
   "cell_type": "markdown",
   "metadata": {},
   "source": [
    "#### Zona de Taxis"
   ]
  },
  {
   "cell_type": "code",
   "execution_count": null,
   "metadata": {},
   "outputs": [],
   "source": [
    "dftaxi_zone=pd.read_csv('Dataset_extraidos\\\\taxi_zones.csv')"
   ]
  },
  {
   "cell_type": "code",
   "execution_count": null,
   "metadata": {},
   "outputs": [],
   "source": [
    "dftaxi_zone.info()"
   ]
  },
  {
   "cell_type": "code",
   "execution_count": null,
   "metadata": {},
   "outputs": [],
   "source": [
    "dftaxi_zone.head()"
   ]
  },
  {
   "cell_type": "code",
   "execution_count": null,
   "metadata": {},
   "outputs": [],
   "source": [
    "#transformaciones\n",
    "columns_to_drop = ['Unnamed: 0', 'OBJECTID']\n",
    "dftaxi_zone = dftaxi_zone.drop(columns=columns_to_drop)\n",
    "\n",
    "column_order = ['LocationID'] + [col for col in dftaxi_zone.columns if col != 'LocationID']\n",
    "dftaxi_zone=dftaxi_zone[column_order]\n",
    "\n",
    "dftaxi_zone = dftaxi_zone.rename(columns={'y': 'longitude', 'x': 'latitude'})"
   ]
  },
  {
   "cell_type": "code",
   "execution_count": null,
   "metadata": {},
   "outputs": [],
   "source": [
    "#guardo taxi zona\n",
    "dftaxi_zone.to_csv('Taxi zone.csv',index=False)"
   ]
  },
  {
   "cell_type": "markdown",
   "metadata": {},
   "source": [
    "#### Clima\n"
   ]
  },
  {
   "cell_type": "code",
   "execution_count": null,
   "metadata": {},
   "outputs": [],
   "source": [
    "#cargo el dataset\n",
    "NYCtiempo=pd.read_csv('NYCtiempo.csv')"
   ]
  },
  {
   "cell_type": "code",
   "execution_count": null,
   "metadata": {},
   "outputs": [],
   "source": [
    "# Convertir la columna 'time' a tipo 'datetime'\n",
    "NYCtiempo['time'] = pd.to_datetime(NYCtiempo['time'])\n",
    "NYCtiempo['fecha'] = NYCtiempo['time'].dt.date\n",
    "NYCtiempo['hora'] = NYCtiempo['time'].dt.time\n",
    "NYCtiempo.drop(columns=['time'], inplace=True)"
   ]
  },
  {
   "cell_type": "code",
   "execution_count": null,
   "metadata": {},
   "outputs": [],
   "source": [
    "NYCtiempo = NYCtiempo[['fecha', 'hora'] + [col for col in NYCtiempo.columns if col not in ['fecha', 'hora']]]\n",
    "\n",
    "# Cambiar el nombre de la columna 'fecha' a 'time'\n",
    "NYCtiempo.rename(columns={'fecha': 'time'}, inplace=True)\n",
    "\n",
    "# Cambiar el nombre de la columna 'hora' a 'hours'\n",
    "NYCtiempo.rename(columns={'hora': 'hours'}, inplace=True)"
   ]
  },
  {
   "cell_type": "code",
   "execution_count": null,
   "metadata": {},
   "outputs": [],
   "source": [
    "# Filtrar los registros para excluir el año 2020\n",
    "NYCtiempo = NYCtiempo[NYCtiempo['time'].dt.year != 2020]\n",
    "\n",
    "# Eliminar las columnas no deseadas\n",
    "columns_to_drop = [\"precipitation (mm)\", \"rain (mm)\", \"is_day ()\"]\n",
    "NYCtiempo = NYCtiempo.drop(columns=columns_to_drop)"
   ]
  },
  {
   "cell_type": "code",
   "execution_count": null,
   "metadata": {},
   "outputs": [],
   "source": [
    "#guardo csv\n",
    "NYCtiempo.to_csv('NYCclima.csv', index=False)"
   ]
  }
 ],
 "metadata": {
  "kernelspec": {
   "display_name": "Python 3",
   "language": "python",
   "name": "python3"
  },
  "language_info": {
   "codemirror_mode": {
    "name": "ipython",
    "version": 3
   },
   "file_extension": ".py",
   "mimetype": "text/x-python",
   "name": "python",
   "nbconvert_exporter": "python",
   "pygments_lexer": "ipython3",
   "version": "3.10.11"
  },
  "orig_nbformat": 4
 },
 "nbformat": 4,
 "nbformat_minor": 2
}
