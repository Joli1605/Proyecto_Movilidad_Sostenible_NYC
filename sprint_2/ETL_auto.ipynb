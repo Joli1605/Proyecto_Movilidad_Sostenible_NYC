{
 "cells": [
  {
   "cell_type": "code",
   "execution_count": 1,
   "metadata": {},
   "outputs": [],
   "source": [
    "import os\n",
    "import pandas as pd\n",
    "from pathlib import Path\n",
    "import numpy as np\n",
    "import datetime as dt "
   ]
  },
  {
   "cell_type": "markdown",
   "metadata": {},
   "source": [
    "#### estaciones_ny"
   ]
  },
  {
   "cell_type": "code",
   "execution_count": 58,
   "metadata": {},
   "outputs": [
    {
     "name": "stderr",
     "output_type": "stream",
     "text": [
      "C:\\Users\\mwmar\\AppData\\Local\\Temp\\ipykernel_14480\\3627456893.py:1: DtypeWarning: Columns (6,16,20,31,33,36,39,40,41,43,46,52,53,55,57,58,60,62) have mixed types. Specify dtype option on import or set low_memory=False.\n",
      "  dfElectric=pd.read_csv('../Datasets/Dataset_empresa/Electric and Alternative Fuel Charging Stations.csv')\n"
     ]
    }
   ],
   "source": [
    "dfElectric=pd.read_csv('../Datasets/Dataset_empresa/Electric and Alternative Fuel Charging Stations.csv')"
   ]
  },
  {
   "cell_type": "code",
   "execution_count": 59,
   "metadata": {},
   "outputs": [],
   "source": [
    "#Filtro por ubicación\n",
    "dfElectric = dfElectric[dfElectric['State'] == 'NY']"
   ]
  },
  {
   "cell_type": "code",
   "execution_count": 60,
   "metadata": {},
   "outputs": [],
   "source": [
    "# Eliminar filas con valores nulos del DataFrame original\n",
    "dfElectric.dropna(axis=1, inplace=True)"
   ]
  },
  {
   "cell_type": "code",
   "execution_count": 61,
   "metadata": {},
   "outputs": [],
   "source": [
    "dfElectric = dfElectric.drop('Updated At', axis=1)"
   ]
  },
  {
   "cell_type": "code",
   "execution_count": 62,
   "metadata": {},
   "outputs": [
    {
     "name": "stdout",
     "output_type": "stream",
     "text": [
      "<class 'pandas.core.frame.DataFrame'>\n",
      "Int64Index: 3409 entries, 7 to 70395\n",
      "Data columns (total 15 columns):\n",
      " #   Column                            Non-Null Count  Dtype  \n",
      "---  ------                            --------------  -----  \n",
      " 0   Fuel Type Code                    3409 non-null   object \n",
      " 1   Station Name                      3409 non-null   object \n",
      " 2   Street Address                    3409 non-null   object \n",
      " 3   City                              3409 non-null   object \n",
      " 4   State                             3409 non-null   object \n",
      " 5   ZIP                               3409 non-null   object \n",
      " 6   Status Code                       3409 non-null   object \n",
      " 7   Groups With Access Code           3409 non-null   object \n",
      " 8   Geocode Status                    3409 non-null   object \n",
      " 9   Latitude                          3409 non-null   float64\n",
      " 10  Longitude                         3409 non-null   float64\n",
      " 11  ID                                3409 non-null   int64  \n",
      " 12  Country                           3409 non-null   object \n",
      " 13  Groups With Access Code (French)  3409 non-null   object \n",
      " 14  Access Code                       3409 non-null   object \n",
      "dtypes: float64(2), int64(1), object(12)\n",
      "memory usage: 426.1+ KB\n"
     ]
    }
   ],
   "source": [
    "dfElectric.info()"
   ]
  },
  {
   "cell_type": "code",
   "execution_count": 63,
   "metadata": {},
   "outputs": [],
   "source": [
    "# Reorganizo las columnas\n",
    "column_order = ['ID'] + [col for col in dfElectric.columns if col != 'ID']\n",
    "dfElectric=dfElectric[column_order]"
   ]
  },
  {
   "cell_type": "code",
   "execution_count": 64,
   "metadata": {},
   "outputs": [
    {
     "data": {
      "text/plain": [
       "['ID',\n",
       " 'Fuel Type Code',\n",
       " 'Station Name',\n",
       " 'Street Address',\n",
       " 'City',\n",
       " 'State',\n",
       " 'ZIP',\n",
       " 'Status Code',\n",
       " 'Groups With Access Code',\n",
       " 'Geocode Status',\n",
       " 'Latitude',\n",
       " 'Longitude',\n",
       " 'Country',\n",
       " 'Groups With Access Code (French)',\n",
       " 'Access Code']"
      ]
     },
     "execution_count": 64,
     "metadata": {},
     "output_type": "execute_result"
    }
   ],
   "source": [
    "dfElectric.columns.tolist()"
   ]
  },
  {
   "cell_type": "code",
   "execution_count": 65,
   "metadata": {},
   "outputs": [],
   "source": [
    "# Crear un diccionario de mapeo de nombres de columnas\n",
    "mapeo_nombres = {\n",
    "    'ID': 'ID',\n",
    "    'Fuel Type Code': 'Fuel_Type_Code',\n",
    "    'Station Name': 'Station_Name',\n",
    "    'Street Address': 'Street_Address',\n",
    "    'City': 'City',\n",
    "    'State': 'State',\n",
    "    'ZIP': 'ZIP',\n",
    "    'Status Code': 'Status_Code',\n",
    "    'Groups With Access Code': 'Groups_With_Access_Code',\n",
    "    'Geocode Status' : 'Geocode_Status',\n",
    "    'Latitude': 'Latitude',\n",
    "    'Longitude': 'Longitude',\n",
    "    'Country': 'Country',\n",
    "    'Groups With Access Code (French)': 'Groups_With_Access_Code_French',\n",
    "    'Access Code': 'Access_Code'\n",
    "}\n",
    "\n",
    "# Renombrar las columnas en el DataFrame\n",
    "dfElectric.rename(columns=mapeo_nombres, inplace=True)\n"
   ]
  },
  {
   "cell_type": "code",
   "execution_count": 66,
   "metadata": {},
   "outputs": [],
   "source": [
    "#guardo station_ny\n",
    "dfElectric.to_csv('Datasets_limpios/Station_NY.csv',index=False)"
   ]
  },
  {
   "cell_type": "markdown",
   "metadata": {},
   "source": [
    "#### Zona de Taxis"
   ]
  },
  {
   "cell_type": "code",
   "execution_count": 58,
   "metadata": {},
   "outputs": [],
   "source": [
    "dftaxi_zone=pd.read_csv('../Datasets/Dataset_extraidos/taxi_zones.csv')"
   ]
  },
  {
   "cell_type": "code",
   "execution_count": 59,
   "metadata": {},
   "outputs": [
    {
     "name": "stdout",
     "output_type": "stream",
     "text": [
      "<class 'pandas.core.frame.DataFrame'>\n",
      "RangeIndex: 263 entries, 0 to 262\n",
      "Data columns (total 9 columns):\n",
      " #   Column      Non-Null Count  Dtype  \n",
      "---  ------      --------------  -----  \n",
      " 0   Unnamed: 0  263 non-null    int64  \n",
      " 1   OBJECTID    263 non-null    int64  \n",
      " 2   Shape_Leng  263 non-null    float64\n",
      " 3   Shape_Area  263 non-null    float64\n",
      " 4   zone        263 non-null    object \n",
      " 5   LocationID  263 non-null    int64  \n",
      " 6   borough     263 non-null    object \n",
      " 7   x           263 non-null    float64\n",
      " 8   y           263 non-null    float64\n",
      "dtypes: float64(4), int64(3), object(2)\n",
      "memory usage: 18.6+ KB\n"
     ]
    }
   ],
   "source": [
    "dftaxi_zone.info()"
   ]
  },
  {
   "cell_type": "code",
   "execution_count": 60,
   "metadata": {},
   "outputs": [
    {
     "data": {
      "text/html": [
       "<div>\n",
       "<style scoped>\n",
       "    .dataframe tbody tr th:only-of-type {\n",
       "        vertical-align: middle;\n",
       "    }\n",
       "\n",
       "    .dataframe tbody tr th {\n",
       "        vertical-align: top;\n",
       "    }\n",
       "\n",
       "    .dataframe thead th {\n",
       "        text-align: right;\n",
       "    }\n",
       "</style>\n",
       "<table border=\"1\" class=\"dataframe\">\n",
       "  <thead>\n",
       "    <tr style=\"text-align: right;\">\n",
       "      <th></th>\n",
       "      <th>Unnamed: 0</th>\n",
       "      <th>OBJECTID</th>\n",
       "      <th>Shape_Leng</th>\n",
       "      <th>Shape_Area</th>\n",
       "      <th>zone</th>\n",
       "      <th>LocationID</th>\n",
       "      <th>borough</th>\n",
       "      <th>x</th>\n",
       "      <th>y</th>\n",
       "    </tr>\n",
       "  </thead>\n",
       "  <tbody>\n",
       "    <tr>\n",
       "      <th>0</th>\n",
       "      <td>0</td>\n",
       "      <td>1</td>\n",
       "      <td>0.116357</td>\n",
       "      <td>0.000782</td>\n",
       "      <td>Newark Airport</td>\n",
       "      <td>1</td>\n",
       "      <td>EWR</td>\n",
       "      <td>-74.174000</td>\n",
       "      <td>40.691831</td>\n",
       "    </tr>\n",
       "    <tr>\n",
       "      <th>1</th>\n",
       "      <td>1</td>\n",
       "      <td>2</td>\n",
       "      <td>0.433470</td>\n",
       "      <td>0.004866</td>\n",
       "      <td>Jamaica Bay</td>\n",
       "      <td>2</td>\n",
       "      <td>Queens</td>\n",
       "      <td>-73.831299</td>\n",
       "      <td>40.616745</td>\n",
       "    </tr>\n",
       "    <tr>\n",
       "      <th>2</th>\n",
       "      <td>2</td>\n",
       "      <td>3</td>\n",
       "      <td>0.084341</td>\n",
       "      <td>0.000314</td>\n",
       "      <td>Allerton/Pelham Gardens</td>\n",
       "      <td>3</td>\n",
       "      <td>Bronx</td>\n",
       "      <td>-73.847422</td>\n",
       "      <td>40.864474</td>\n",
       "    </tr>\n",
       "    <tr>\n",
       "      <th>3</th>\n",
       "      <td>3</td>\n",
       "      <td>4</td>\n",
       "      <td>0.043567</td>\n",
       "      <td>0.000112</td>\n",
       "      <td>Alphabet City</td>\n",
       "      <td>4</td>\n",
       "      <td>Manhattan</td>\n",
       "      <td>-73.976968</td>\n",
       "      <td>40.723752</td>\n",
       "    </tr>\n",
       "    <tr>\n",
       "      <th>4</th>\n",
       "      <td>4</td>\n",
       "      <td>5</td>\n",
       "      <td>0.092146</td>\n",
       "      <td>0.000498</td>\n",
       "      <td>Arden Heights</td>\n",
       "      <td>5</td>\n",
       "      <td>Staten Island</td>\n",
       "      <td>-74.188484</td>\n",
       "      <td>40.552659</td>\n",
       "    </tr>\n",
       "  </tbody>\n",
       "</table>\n",
       "</div>"
      ],
      "text/plain": [
       "   Unnamed: 0  OBJECTID  Shape_Leng  Shape_Area                     zone  \\\n",
       "0           0         1    0.116357    0.000782           Newark Airport   \n",
       "1           1         2    0.433470    0.004866              Jamaica Bay   \n",
       "2           2         3    0.084341    0.000314  Allerton/Pelham Gardens   \n",
       "3           3         4    0.043567    0.000112            Alphabet City   \n",
       "4           4         5    0.092146    0.000498            Arden Heights   \n",
       "\n",
       "   LocationID        borough          x          y  \n",
       "0           1            EWR -74.174000  40.691831  \n",
       "1           2         Queens -73.831299  40.616745  \n",
       "2           3          Bronx -73.847422  40.864474  \n",
       "3           4      Manhattan -73.976968  40.723752  \n",
       "4           5  Staten Island -74.188484  40.552659  "
      ]
     },
     "execution_count": 60,
     "metadata": {},
     "output_type": "execute_result"
    }
   ],
   "source": [
    "dftaxi_zone.head()"
   ]
  },
  {
   "cell_type": "code",
   "execution_count": 61,
   "metadata": {},
   "outputs": [],
   "source": [
    "#transformaciones\n",
    "columns_to_drop = ['Unnamed: 0', 'OBJECTID']\n",
    "dftaxi_zone = dftaxi_zone.drop(columns=columns_to_drop)\n",
    "\n",
    "column_order = ['LocationID'] + [col for col in dftaxi_zone.columns if col != 'LocationID']\n",
    "dftaxi_zone=dftaxi_zone[column_order]\n",
    "\n",
    "dftaxi_zone = dftaxi_zone.rename(columns={'y': 'longitude', 'x': 'latitude'})"
   ]
  },
  {
   "cell_type": "code",
   "execution_count": 62,
   "metadata": {},
   "outputs": [
    {
     "data": {
      "text/html": [
       "<div>\n",
       "<style scoped>\n",
       "    .dataframe tbody tr th:only-of-type {\n",
       "        vertical-align: middle;\n",
       "    }\n",
       "\n",
       "    .dataframe tbody tr th {\n",
       "        vertical-align: top;\n",
       "    }\n",
       "\n",
       "    .dataframe thead th {\n",
       "        text-align: right;\n",
       "    }\n",
       "</style>\n",
       "<table border=\"1\" class=\"dataframe\">\n",
       "  <thead>\n",
       "    <tr style=\"text-align: right;\">\n",
       "      <th></th>\n",
       "      <th>LocationID</th>\n",
       "      <th>Shape_Leng</th>\n",
       "      <th>Shape_Area</th>\n",
       "      <th>zone</th>\n",
       "      <th>borough</th>\n",
       "      <th>latitude</th>\n",
       "      <th>longitude</th>\n",
       "    </tr>\n",
       "  </thead>\n",
       "  <tbody>\n",
       "    <tr>\n",
       "      <th>0</th>\n",
       "      <td>1</td>\n",
       "      <td>0.116357</td>\n",
       "      <td>0.000782</td>\n",
       "      <td>Newark Airport</td>\n",
       "      <td>EWR</td>\n",
       "      <td>-74.174000</td>\n",
       "      <td>40.691831</td>\n",
       "    </tr>\n",
       "    <tr>\n",
       "      <th>1</th>\n",
       "      <td>2</td>\n",
       "      <td>0.433470</td>\n",
       "      <td>0.004866</td>\n",
       "      <td>Jamaica Bay</td>\n",
       "      <td>Queens</td>\n",
       "      <td>-73.831299</td>\n",
       "      <td>40.616745</td>\n",
       "    </tr>\n",
       "    <tr>\n",
       "      <th>2</th>\n",
       "      <td>3</td>\n",
       "      <td>0.084341</td>\n",
       "      <td>0.000314</td>\n",
       "      <td>Allerton/Pelham Gardens</td>\n",
       "      <td>Bronx</td>\n",
       "      <td>-73.847422</td>\n",
       "      <td>40.864474</td>\n",
       "    </tr>\n",
       "  </tbody>\n",
       "</table>\n",
       "</div>"
      ],
      "text/plain": [
       "   LocationID  Shape_Leng  Shape_Area                     zone borough  \\\n",
       "0           1    0.116357    0.000782           Newark Airport     EWR   \n",
       "1           2    0.433470    0.004866              Jamaica Bay  Queens   \n",
       "2           3    0.084341    0.000314  Allerton/Pelham Gardens   Bronx   \n",
       "\n",
       "    latitude  longitude  \n",
       "0 -74.174000  40.691831  \n",
       "1 -73.831299  40.616745  \n",
       "2 -73.847422  40.864474  "
      ]
     },
     "execution_count": 62,
     "metadata": {},
     "output_type": "execute_result"
    }
   ],
   "source": [
    "dftaxi_zone.head(3)"
   ]
  },
  {
   "cell_type": "code",
   "execution_count": 64,
   "metadata": {},
   "outputs": [],
   "source": [
    "#guardo taxi zona\n",
    "dftaxi_zone.to_csv('Datasets_limpios/Taxi_zones.csv',index=False)"
   ]
  },
  {
   "cell_type": "markdown",
   "metadata": {},
   "source": [
    "#### Clima\n"
   ]
  },
  {
   "cell_type": "code",
   "execution_count": 14,
   "metadata": {},
   "outputs": [],
   "source": [
    "#cargo el dataset\n",
    "NYCtiempo=pd.read_csv('../Datasets/Dataset_extraidos/NYCtiempo.csv')"
   ]
  },
  {
   "cell_type": "code",
   "execution_count": 15,
   "metadata": {},
   "outputs": [
    {
     "name": "stdout",
     "output_type": "stream",
     "text": [
      "<class 'pandas.core.frame.DataFrame'>\n",
      "RangeIndex: 31680 entries, 0 to 31679\n",
      "Data columns (total 5 columns):\n",
      " #   Column               Non-Null Count  Dtype  \n",
      "---  ------               --------------  -----  \n",
      " 0   time                 31680 non-null  object \n",
      " 1   temperature_2m (°C)  31632 non-null  float64\n",
      " 2   precipitation (mm)   31632 non-null  float64\n",
      " 3   rain (mm)            31632 non-null  float64\n",
      " 4   is_day ()            31680 non-null  int64  \n",
      "dtypes: float64(3), int64(1), object(1)\n",
      "memory usage: 1.2+ MB\n"
     ]
    }
   ],
   "source": [
    "NYCtiempo.info()"
   ]
  },
  {
   "cell_type": "code",
   "execution_count": 16,
   "metadata": {},
   "outputs": [],
   "source": [
    "# Convertir la columna 'time' a tipo 'datetime'\n",
    "NYCtiempo['time'] = pd.to_datetime(NYCtiempo['time'])\n"
   ]
  },
  {
   "cell_type": "code",
   "execution_count": 17,
   "metadata": {},
   "outputs": [],
   "source": [
    "# creo columnas fecha y hora, elimino time\n",
    "NYCtiempo['fecha'] = NYCtiempo['time'].dt.date\n",
    "NYCtiempo['hora'] = NYCtiempo['time'].dt.time\n",
    "NYCtiempo.drop(columns=['time'], inplace=True)"
   ]
  },
  {
   "cell_type": "code",
   "execution_count": 18,
   "metadata": {},
   "outputs": [],
   "source": [
    "NYCtiempo = NYCtiempo[['fecha', 'hora'] + [col for col in NYCtiempo.columns if col not in ['fecha', 'hora']]]\n",
    "\n",
    "# Cambiar el nombre de la columna 'fecha' a 'time'\n",
    "NYCtiempo.rename(columns={'fecha': 'time'}, inplace=True)\n",
    "\n",
    "# Cambiar el nombre de la columna 'hora' a 'hours'\n",
    "NYCtiempo.rename(columns={'hora': 'hours'}, inplace=True)\n",
    "\n",
    "# Cambiar el nombre de la columna 'temperature_2m (°C)' a 'temperature'\n",
    "NYCtiempo.rename(columns={'temperature_2m (°C)': 'temperature'}, inplace=True)"
   ]
  },
  {
   "cell_type": "code",
   "execution_count": 19,
   "metadata": {},
   "outputs": [
    {
     "name": "stdout",
     "output_type": "stream",
     "text": [
      "<class 'pandas.core.frame.DataFrame'>\n",
      "RangeIndex: 31680 entries, 0 to 31679\n",
      "Data columns (total 6 columns):\n",
      " #   Column              Non-Null Count  Dtype  \n",
      "---  ------              --------------  -----  \n",
      " 0   time                31680 non-null  object \n",
      " 1   hours               31680 non-null  object \n",
      " 2   temperature         31632 non-null  float64\n",
      " 3   precipitation (mm)  31632 non-null  float64\n",
      " 4   rain (mm)           31632 non-null  float64\n",
      " 5   is_day ()           31680 non-null  int64  \n",
      "dtypes: float64(3), int64(1), object(2)\n",
      "memory usage: 1.5+ MB\n"
     ]
    }
   ],
   "source": [
    "NYCtiempo.info()"
   ]
  },
  {
   "cell_type": "code",
   "execution_count": 20,
   "metadata": {},
   "outputs": [],
   "source": [
    "# Convertir la columna 'time' a tipo 'datetime'\n",
    "NYCtiempo['time'] = pd.to_datetime(NYCtiempo['time'])"
   ]
  },
  {
   "cell_type": "code",
   "execution_count": 21,
   "metadata": {},
   "outputs": [],
   "source": [
    "# Filtrar los registros para excluir el año 2020\n",
    "NYCtiempo = NYCtiempo[NYCtiempo['time'].dt.year != 2020]\n"
   ]
  },
  {
   "cell_type": "code",
   "execution_count": 22,
   "metadata": {},
   "outputs": [],
   "source": [
    "\n",
    "# Eliminar las columnas no deseadas\n",
    "columns_to_drop = [\"precipitation (mm)\", \"rain (mm)\", \"is_day ()\"]\n",
    "NYCtiempo = NYCtiempo.drop(columns=columns_to_drop)"
   ]
  },
  {
   "cell_type": "code",
   "execution_count": 24,
   "metadata": {},
   "outputs": [],
   "source": [
    "NYCtiempo.dropna(inplace = True)"
   ]
  },
  {
   "cell_type": "code",
   "execution_count": 25,
   "metadata": {},
   "outputs": [
    {
     "name": "stdout",
     "output_type": "stream",
     "text": [
      "<class 'pandas.core.frame.DataFrame'>\n",
      "Int64Index: 22848 entries, 8784 to 31631\n",
      "Data columns (total 3 columns):\n",
      " #   Column       Non-Null Count  Dtype         \n",
      "---  ------       --------------  -----         \n",
      " 0   time         22848 non-null  datetime64[ns]\n",
      " 1   hours        22848 non-null  object        \n",
      " 2   temperature  22848 non-null  float64       \n",
      "dtypes: datetime64[ns](1), float64(1), object(1)\n",
      "memory usage: 714.0+ KB\n"
     ]
    }
   ],
   "source": [
    "NYCtiempo.info()"
   ]
  },
  {
   "cell_type": "code",
   "execution_count": 26,
   "metadata": {},
   "outputs": [
    {
     "data": {
      "text/html": [
       "<div>\n",
       "<style scoped>\n",
       "    .dataframe tbody tr th:only-of-type {\n",
       "        vertical-align: middle;\n",
       "    }\n",
       "\n",
       "    .dataframe tbody tr th {\n",
       "        vertical-align: top;\n",
       "    }\n",
       "\n",
       "    .dataframe thead th {\n",
       "        text-align: right;\n",
       "    }\n",
       "</style>\n",
       "<table border=\"1\" class=\"dataframe\">\n",
       "  <thead>\n",
       "    <tr style=\"text-align: right;\">\n",
       "      <th></th>\n",
       "      <th>time</th>\n",
       "      <th>hours</th>\n",
       "      <th>temperature</th>\n",
       "    </tr>\n",
       "  </thead>\n",
       "  <tbody>\n",
       "    <tr>\n",
       "      <th>8784</th>\n",
       "      <td>2021-01-01</td>\n",
       "      <td>00:00:00</td>\n",
       "      <td>3.7</td>\n",
       "    </tr>\n",
       "    <tr>\n",
       "      <th>8785</th>\n",
       "      <td>2021-01-01</td>\n",
       "      <td>01:00:00</td>\n",
       "      <td>3.1</td>\n",
       "    </tr>\n",
       "    <tr>\n",
       "      <th>8786</th>\n",
       "      <td>2021-01-01</td>\n",
       "      <td>02:00:00</td>\n",
       "      <td>2.6</td>\n",
       "    </tr>\n",
       "    <tr>\n",
       "      <th>8787</th>\n",
       "      <td>2021-01-01</td>\n",
       "      <td>03:00:00</td>\n",
       "      <td>1.6</td>\n",
       "    </tr>\n",
       "    <tr>\n",
       "      <th>8788</th>\n",
       "      <td>2021-01-01</td>\n",
       "      <td>04:00:00</td>\n",
       "      <td>0.5</td>\n",
       "    </tr>\n",
       "  </tbody>\n",
       "</table>\n",
       "</div>"
      ],
      "text/plain": [
       "           time     hours  temperature\n",
       "8784 2021-01-01  00:00:00          3.7\n",
       "8785 2021-01-01  01:00:00          3.1\n",
       "8786 2021-01-01  02:00:00          2.6\n",
       "8787 2021-01-01  03:00:00          1.6\n",
       "8788 2021-01-01  04:00:00          0.5"
      ]
     },
     "execution_count": 26,
     "metadata": {},
     "output_type": "execute_result"
    }
   ],
   "source": [
    "NYCtiempo.head()"
   ]
  },
  {
   "cell_type": "code",
   "execution_count": 27,
   "metadata": {},
   "outputs": [],
   "source": [
    "#guardo csv\n",
    "NYCtiempo.to_csv('Datasets_limpios/NYCclima.csv', index=False)"
   ]
  },
  {
   "cell_type": "markdown",
   "metadata": {},
   "source": [
    "#### calidad del aire"
   ]
  },
  {
   "cell_type": "code",
   "execution_count": 70,
   "metadata": {},
   "outputs": [],
   "source": [
    "calidad_del_aire = pd.read_csv('../Datasets/Dataset_extraidos/calidad_del_aire.csv')"
   ]
  },
  {
   "cell_type": "code",
   "execution_count": 77,
   "metadata": {},
   "outputs": [
    {
     "data": {
      "text/plain": [
       "Index(['Name', 'Measure', 'Measure Info', 'Geo Type Name', 'Geo Join ID',\n",
       "       'Geo Place Name', 'Time Period', 'Start_Date', 'Data Value'],\n",
       "      dtype='object')"
      ]
     },
     "execution_count": 77,
     "metadata": {},
     "output_type": "execute_result"
    }
   ],
   "source": [
    "calidad_del_aire.columns"
   ]
  },
  {
   "cell_type": "code",
   "execution_count": 78,
   "metadata": {},
   "outputs": [],
   "source": [
    "# cambiar nombres de columnas\n",
    "nombres_nuevos = {\n",
    "    'Name': 'Name',\n",
    "    'Measure': 'Measure',\n",
    "    'Measure Info': 'Measure_Info',\n",
    "    'Geo Type Name': 'Geo_Type_Name',\n",
    "    'Geo Join ID': 'Geo_Join_ID',\n",
    "    'Geo Place Name': 'Geo_Place_Name',\n",
    "    'Time Period': 'Time_Period',\n",
    "    'Start_Date': 'Start_Date',\n",
    "    'Data Value': 'Data_Value'\n",
    "}\n",
    "\n",
    "calidad_del_aire.rename(columns=nombres_nuevos, inplace=True)"
   ]
  },
  {
   "cell_type": "code",
   "execution_count": 79,
   "metadata": {},
   "outputs": [
    {
     "name": "stdout",
     "output_type": "stream",
     "text": [
      "<class 'pandas.core.frame.DataFrame'>\n",
      "RangeIndex: 16122 entries, 0 to 16121\n",
      "Data columns (total 9 columns):\n",
      " #   Column          Non-Null Count  Dtype  \n",
      "---  ------          --------------  -----  \n",
      " 0   Name            16122 non-null  object \n",
      " 1   Measure         16122 non-null  object \n",
      " 2   Measure_Info    16122 non-null  object \n",
      " 3   Geo_Type_Name   16122 non-null  object \n",
      " 4   Geo_Join_ID     16122 non-null  int64  \n",
      " 5   Geo_Place_Name  16122 non-null  object \n",
      " 6   Time_Period     16122 non-null  object \n",
      " 7   Start_Date      16122 non-null  object \n",
      " 8   Data_Value      16122 non-null  float64\n",
      "dtypes: float64(1), int64(1), object(7)\n",
      "memory usage: 1.1+ MB\n"
     ]
    }
   ],
   "source": [
    "calidad_del_aire.info()"
   ]
  },
  {
   "cell_type": "code",
   "execution_count": 80,
   "metadata": {},
   "outputs": [],
   "source": [
    "#guardo csv\n",
    "calidad_del_aire.to_csv('Datasets_limpios/calidad_del_aire.csv', index=False)"
   ]
  },
  {
   "cell_type": "markdown",
   "metadata": {},
   "source": [
    "#### vehiculo de combustion"
   ]
  },
  {
   "cell_type": "code",
   "execution_count": 121,
   "metadata": {},
   "outputs": [],
   "source": [
    "veh_com = pd.read_csv('../Datasets/Dataset_extraidos/vehiculos_combustion_CO2_2023.csv')"
   ]
  },
  {
   "cell_type": "code",
   "execution_count": 122,
   "metadata": {},
   "outputs": [
    {
     "name": "stdout",
     "output_type": "stream",
     "text": [
      "<class 'pandas.core.frame.DataFrame'>\n",
      "RangeIndex: 823 entries, 0 to 822\n",
      "Data columns (total 12 columns):\n",
      " #   Column                            Non-Null Count  Dtype  \n",
      "---  ------                            --------------  -----  \n",
      " 0   Model(Year)                       823 non-null    int64  \n",
      " 1   Make                              823 non-null    object \n",
      " 2   Model.1                           823 non-null    object \n",
      " 3   Vehicle Class                     823 non-null    object \n",
      " 4   Engine Size(L)                    823 non-null    float64\n",
      " 5   Cylinders                         823 non-null    float64\n",
      " 6   Transmission                      823 non-null    object \n",
      " 7   Fuel(Type)                        823 non-null    float64\n",
      " 8   Fuel Consumption(City (L/100 km)  823 non-null    float64\n",
      " 9   CO2 Emissions(g/km)               823 non-null    int64  \n",
      " 10  CO2(Rating)                       823 non-null    int64  \n",
      " 11  Smog(Rating)                      823 non-null    int64  \n",
      "dtypes: float64(4), int64(4), object(4)\n",
      "memory usage: 77.3+ KB\n"
     ]
    }
   ],
   "source": [
    "veh_com.info()"
   ]
  },
  {
   "cell_type": "code",
   "execution_count": 123,
   "metadata": {},
   "outputs": [
    {
     "data": {
      "text/plain": [
       "Index(['Model(Year)', 'Make', 'Model.1', 'Vehicle Class', 'Engine Size(L)',\n",
       "       'Cylinders', 'Transmission', 'Fuel(Type)',\n",
       "       'Fuel Consumption(City (L/100 km)', 'CO2 Emissions(g/km)',\n",
       "       'CO2(Rating)', 'Smog(Rating)'],\n",
       "      dtype='object')"
      ]
     },
     "execution_count": 123,
     "metadata": {},
     "output_type": "execute_result"
    }
   ],
   "source": [
    "veh_com.columns"
   ]
  },
  {
   "cell_type": "code",
   "execution_count": 124,
   "metadata": {},
   "outputs": [],
   "source": [
    "# Crear un diccionario de mapeo de nombres de columnas\n",
    "mapeo_nombres = {\n",
    "    'Model(Year)': 'Model_Year',\n",
    "    'Make': 'Make',\n",
    "    'Model.1': 'Model_1',\n",
    "    'Vehicle Class': 'Vehicle_Class',\n",
    "    'Engine Size(L)': 'Engine_Size',\n",
    "    'Cylinders': 'Cylinders',\n",
    "    'Transmission': 'Transmission',\n",
    "    'Fuel(Type)': 'Fuel_Type',\n",
    "    'Fuel Consumption(City (L/100 km)': 'Fuel_Consumption_City',\n",
    "    'CO2 Emissions(g/km)': 'CO2_Emissions',\n",
    "    'CO2(Rating)': 'CO2_Rating',\n",
    "    'Smog(Rating)': 'Smog_Rating'\n",
    "}\n",
    "\n",
    "# Renombrar las columnas en el DataFrame\n",
    "veh_com.rename(columns=mapeo_nombres, inplace=True)"
   ]
  },
  {
   "cell_type": "code",
   "execution_count": 127,
   "metadata": {},
   "outputs": [
    {
     "data": {
      "text/html": [
       "<div>\n",
       "<style scoped>\n",
       "    .dataframe tbody tr th:only-of-type {\n",
       "        vertical-align: middle;\n",
       "    }\n",
       "\n",
       "    .dataframe tbody tr th {\n",
       "        vertical-align: top;\n",
       "    }\n",
       "\n",
       "    .dataframe thead th {\n",
       "        text-align: right;\n",
       "    }\n",
       "</style>\n",
       "<table border=\"1\" class=\"dataframe\">\n",
       "  <thead>\n",
       "    <tr style=\"text-align: right;\">\n",
       "      <th></th>\n",
       "      <th>Model_Year</th>\n",
       "      <th>Make</th>\n",
       "      <th>Model_1</th>\n",
       "      <th>Vehicle_Class</th>\n",
       "      <th>Engine_Size</th>\n",
       "      <th>Cylinders</th>\n",
       "      <th>Transmission</th>\n",
       "      <th>Fuel_Type</th>\n",
       "      <th>Fuel_Consumption_City</th>\n",
       "      <th>CO2_Emissions</th>\n",
       "      <th>CO2_Rating</th>\n",
       "      <th>Smog_Rating</th>\n",
       "    </tr>\n",
       "  </thead>\n",
       "  <tbody>\n",
       "    <tr>\n",
       "      <th>0</th>\n",
       "      <td>2023</td>\n",
       "      <td>Acura</td>\n",
       "      <td>Integra</td>\n",
       "      <td>Full-size</td>\n",
       "      <td>1.5</td>\n",
       "      <td>4.0</td>\n",
       "      <td>AV7</td>\n",
       "      <td>4.0</td>\n",
       "      <td>7.9</td>\n",
       "      <td>167</td>\n",
       "      <td>6</td>\n",
       "      <td>7</td>\n",
       "    </tr>\n",
       "    <tr>\n",
       "      <th>1</th>\n",
       "      <td>2023</td>\n",
       "      <td>Acura</td>\n",
       "      <td>Integra A-SPEC</td>\n",
       "      <td>Full-size</td>\n",
       "      <td>1.5</td>\n",
       "      <td>4.0</td>\n",
       "      <td>AV7</td>\n",
       "      <td>4.0</td>\n",
       "      <td>8.1</td>\n",
       "      <td>172</td>\n",
       "      <td>6</td>\n",
       "      <td>7</td>\n",
       "    </tr>\n",
       "    <tr>\n",
       "      <th>2</th>\n",
       "      <td>2023</td>\n",
       "      <td>Acura</td>\n",
       "      <td>Integra A-SPEC</td>\n",
       "      <td>Full-size</td>\n",
       "      <td>1.5</td>\n",
       "      <td>4.0</td>\n",
       "      <td>M6</td>\n",
       "      <td>4.0</td>\n",
       "      <td>8.9</td>\n",
       "      <td>181</td>\n",
       "      <td>6</td>\n",
       "      <td>6</td>\n",
       "    </tr>\n",
       "    <tr>\n",
       "      <th>3</th>\n",
       "      <td>2023</td>\n",
       "      <td>Acura</td>\n",
       "      <td>MDX SH-AWD</td>\n",
       "      <td>SUV: Small</td>\n",
       "      <td>3.5</td>\n",
       "      <td>6.0</td>\n",
       "      <td>AS10</td>\n",
       "      <td>6.0</td>\n",
       "      <td>12.6</td>\n",
       "      <td>263</td>\n",
       "      <td>4</td>\n",
       "      <td>5</td>\n",
       "    </tr>\n",
       "    <tr>\n",
       "      <th>4</th>\n",
       "      <td>2023</td>\n",
       "      <td>Acura</td>\n",
       "      <td>MDX SH-AWD Type S</td>\n",
       "      <td>SUV: Standard</td>\n",
       "      <td>3.0</td>\n",
       "      <td>6.0</td>\n",
       "      <td>AS10</td>\n",
       "      <td>6.0</td>\n",
       "      <td>13.8</td>\n",
       "      <td>291</td>\n",
       "      <td>4</td>\n",
       "      <td>5</td>\n",
       "    </tr>\n",
       "  </tbody>\n",
       "</table>\n",
       "</div>"
      ],
      "text/plain": [
       "   Model_Year   Make            Model_1  Vehicle_Class  Engine_Size  \\\n",
       "0        2023  Acura            Integra      Full-size          1.5   \n",
       "1        2023  Acura     Integra A-SPEC      Full-size          1.5   \n",
       "2        2023  Acura     Integra A-SPEC      Full-size          1.5   \n",
       "3        2023  Acura         MDX SH-AWD     SUV: Small          3.5   \n",
       "4        2023  Acura  MDX SH-AWD Type S  SUV: Standard          3.0   \n",
       "\n",
       "   Cylinders Transmission  Fuel_Type  Fuel_Consumption_City  CO2_Emissions  \\\n",
       "0        4.0          AV7        4.0                    7.9            167   \n",
       "1        4.0          AV7        4.0                    8.1            172   \n",
       "2        4.0           M6        4.0                    8.9            181   \n",
       "3        6.0         AS10        6.0                   12.6            263   \n",
       "4        6.0         AS10        6.0                   13.8            291   \n",
       "\n",
       "   CO2_Rating  Smog_Rating  \n",
       "0           6            7  \n",
       "1           6            7  \n",
       "2           6            6  \n",
       "3           4            5  \n",
       "4           4            5  "
      ]
     },
     "execution_count": 127,
     "metadata": {},
     "output_type": "execute_result"
    }
   ],
   "source": [
    "veh_com.head()"
   ]
  },
  {
   "cell_type": "code",
   "execution_count": 129,
   "metadata": {},
   "outputs": [],
   "source": [
    "#guardo csv\n",
    "veh_com.to_csv('Datasets_limpios/veh_com.csv',index=False)"
   ]
  },
  {
   "cell_type": "markdown",
   "metadata": {},
   "source": [
    "#### contaminacion sonora"
   ]
  },
  {
   "cell_type": "code",
   "execution_count": 3,
   "metadata": {},
   "outputs": [],
   "source": [
    "conta_sonora = pd.read_csv('../Datasets/Dataset_extraidos/Conta_Sonora.csv')"
   ]
  },
  {
   "cell_type": "code",
   "execution_count": 4,
   "metadata": {},
   "outputs": [
    {
     "name": "stdout",
     "output_type": "stream",
     "text": [
      "<class 'pandas.core.frame.DataFrame'>\n",
      "RangeIndex: 434 entries, 0 to 433\n",
      "Data columns (total 6 columns):\n",
      " #   Column               Non-Null Count  Dtype \n",
      "---  ------               --------------  ----- \n",
      " 0   fecha                434 non-null    object\n",
      " 1   id_borough           434 non-null    int64 \n",
      " 2   engine_sounds        434 non-null    int64 \n",
      " 3   alert_signal_sounds  434 non-null    int64 \n",
      " 4   total_sounds         434 non-null    int64 \n",
      " 5   borough_name         434 non-null    object\n",
      "dtypes: int64(4), object(2)\n",
      "memory usage: 20.5+ KB\n"
     ]
    }
   ],
   "source": [
    "conta_sonora.info()"
   ]
  },
  {
   "cell_type": "code",
   "execution_count": 5,
   "metadata": {},
   "outputs": [
    {
     "data": {
      "text/html": [
       "<div>\n",
       "<style scoped>\n",
       "    .dataframe tbody tr th:only-of-type {\n",
       "        vertical-align: middle;\n",
       "    }\n",
       "\n",
       "    .dataframe tbody tr th {\n",
       "        vertical-align: top;\n",
       "    }\n",
       "\n",
       "    .dataframe thead th {\n",
       "        text-align: right;\n",
       "    }\n",
       "</style>\n",
       "<table border=\"1\" class=\"dataframe\">\n",
       "  <thead>\n",
       "    <tr style=\"text-align: right;\">\n",
       "      <th></th>\n",
       "      <th>fecha</th>\n",
       "      <th>id_borough</th>\n",
       "      <th>engine_sounds</th>\n",
       "      <th>alert_signal_sounds</th>\n",
       "      <th>total_sounds</th>\n",
       "      <th>borough_name</th>\n",
       "    </tr>\n",
       "  </thead>\n",
       "  <tbody>\n",
       "    <tr>\n",
       "      <th>0</th>\n",
       "      <td>2016-05-01</td>\n",
       "      <td>1</td>\n",
       "      <td>5</td>\n",
       "      <td>3</td>\n",
       "      <td>8</td>\n",
       "      <td>manhattan</td>\n",
       "    </tr>\n",
       "    <tr>\n",
       "      <th>1</th>\n",
       "      <td>2016-05-02</td>\n",
       "      <td>1</td>\n",
       "      <td>9</td>\n",
       "      <td>14</td>\n",
       "      <td>23</td>\n",
       "      <td>manhattan</td>\n",
       "    </tr>\n",
       "    <tr>\n",
       "      <th>2</th>\n",
       "      <td>2016-05-03</td>\n",
       "      <td>1</td>\n",
       "      <td>4</td>\n",
       "      <td>3</td>\n",
       "      <td>7</td>\n",
       "      <td>manhattan</td>\n",
       "    </tr>\n",
       "    <tr>\n",
       "      <th>3</th>\n",
       "      <td>2016-05-04</td>\n",
       "      <td>1</td>\n",
       "      <td>9</td>\n",
       "      <td>1</td>\n",
       "      <td>10</td>\n",
       "      <td>manhattan</td>\n",
       "    </tr>\n",
       "    <tr>\n",
       "      <th>4</th>\n",
       "      <td>2016-05-05</td>\n",
       "      <td>1</td>\n",
       "      <td>4</td>\n",
       "      <td>0</td>\n",
       "      <td>4</td>\n",
       "      <td>manhattan</td>\n",
       "    </tr>\n",
       "  </tbody>\n",
       "</table>\n",
       "</div>"
      ],
      "text/plain": [
       "        fecha  id_borough  engine_sounds  alert_signal_sounds  total_sounds  \\\n",
       "0  2016-05-01           1              5                    3             8   \n",
       "1  2016-05-02           1              9                   14            23   \n",
       "2  2016-05-03           1              4                    3             7   \n",
       "3  2016-05-04           1              9                    1            10   \n",
       "4  2016-05-05           1              4                    0             4   \n",
       "\n",
       "  borough_name  \n",
       "0    manhattan  \n",
       "1    manhattan  \n",
       "2    manhattan  \n",
       "3    manhattan  \n",
       "4    manhattan  "
      ]
     },
     "execution_count": 5,
     "metadata": {},
     "output_type": "execute_result"
    }
   ],
   "source": [
    "conta_sonora.head()"
   ]
  },
  {
   "cell_type": "code",
   "execution_count": 7,
   "metadata": {},
   "outputs": [],
   "source": [
    "#exportamos el archivo con la primera transformacion\n",
    "conta_sonora.to_csv('Datasets_limpios/conta_sonora.csv',index=False)"
   ]
  },
  {
   "cell_type": "code",
   "execution_count": 7,
   "metadata": {},
   "outputs": [
    {
     "name": "stdout",
     "output_type": "stream",
     "text": [
      "Conexión a MySQL exitosa\n"
     ]
    }
   ],
   "source": [
    "import pymysql\n",
    "\n",
    "try:\n",
    "    # Conectar a MySQL\n",
    "    connection = pymysql.connect(\n",
    "        host='127.0.0.1',  # Cambia a 'localhost' si es necesario\n",
    "        user='root',       # Tu usuario de MySQL\n",
    "        password='8195',  # Tu contraseña de MySQL\n",
    "        db='proyecto_ny',  # Tu base de datos\n",
    "        port=3306           # Puerto de MySQL\n",
    "    )\n",
    "\n",
    "    # La conexión se realizó con éxito\n",
    "    print(\"Conexión a MySQL exitosa\")\n",
    "    \n",
    "    # Cierra la conexión\n",
    "    connection.close()\n",
    "\n",
    "except Exception as e:\n",
    "    # Manejo de errores en caso de que la conexión falle\n",
    "    print(\"Error al conectar a MySQL:\", str(e))\n"
   ]
  }
 ],
 "metadata": {
  "kernelspec": {
   "display_name": "Python 3",
   "language": "python",
   "name": "python3"
  },
  "language_info": {
   "codemirror_mode": {
    "name": "ipython",
    "version": 3
   },
   "file_extension": ".py",
   "mimetype": "text/x-python",
   "name": "python",
   "nbconvert_exporter": "python",
   "pygments_lexer": "ipython3",
   "version": "3.10.11"
  },
  "orig_nbformat": 4
 },
 "nbformat": 4,
 "nbformat_minor": 2
}
