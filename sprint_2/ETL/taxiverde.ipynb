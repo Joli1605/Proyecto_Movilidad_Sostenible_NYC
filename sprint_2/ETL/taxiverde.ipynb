{
 "cells": [
  {
   "cell_type": "markdown",
   "metadata": {},
   "source": [
    "Datos de los taxis verdes de New York City "
   ]
  },
  {
   "cell_type": "code",
   "execution_count": 1,
   "metadata": {},
   "outputs": [],
   "source": [
    "import pandas as pd\n"
   ]
  },
  {
   "cell_type": "code",
   "execution_count": 2,
   "metadata": {},
   "outputs": [],
   "source": [
    "from pathlib import Path"
   ]
  },
  {
   "cell_type": "markdown",
   "metadata": {},
   "source": [
    "Cargo un arhivo .parquet para ver su composición "
   ]
  },
  {
   "cell_type": "code",
   "execution_count": 47,
   "metadata": {},
   "outputs": [],
   "source": [
    "df_taxiverde=pd.read_parquet('green_tripdata_2023-04.parquet')"
   ]
  },
  {
   "cell_type": "code",
   "execution_count": 48,
   "metadata": {},
   "outputs": [
    {
     "name": "stdout",
     "output_type": "stream",
     "text": [
      "<class 'pandas.core.frame.DataFrame'>\n",
      "RangeIndex: 65392 entries, 0 to 65391\n",
      "Data columns (total 20 columns):\n",
      " #   Column                 Non-Null Count  Dtype         \n",
      "---  ------                 --------------  -----         \n",
      " 0   VendorID               65392 non-null  int32         \n",
      " 1   lpep_pickup_datetime   65392 non-null  datetime64[ns]\n",
      " 2   lpep_dropoff_datetime  65392 non-null  datetime64[ns]\n",
      " 3   store_and_fwd_flag     60910 non-null  object        \n",
      " 4   RatecodeID             60910 non-null  float64       \n",
      " 5   PULocationID           65392 non-null  int32         \n",
      " 6   DOLocationID           65392 non-null  int32         \n",
      " 7   passenger_count        60910 non-null  float64       \n",
      " 8   trip_distance          65392 non-null  float64       \n",
      " 9   fare_amount            65392 non-null  float64       \n",
      " 10  extra                  65392 non-null  float64       \n",
      " 11  mta_tax                65392 non-null  float64       \n",
      " 12  tip_amount             65392 non-null  float64       \n",
      " 13  tolls_amount           65392 non-null  float64       \n",
      " 14  ehail_fee              0 non-null      float64       \n",
      " 15  improvement_surcharge  65392 non-null  float64       \n",
      " 16  total_amount           65392 non-null  float64       \n",
      " 17  payment_type           60910 non-null  float64       \n",
      " 18  trip_type              60907 non-null  float64       \n",
      " 19  congestion_surcharge   60910 non-null  float64       \n",
      "dtypes: datetime64[ns](2), float64(14), int32(3), object(1)\n",
      "memory usage: 9.2+ MB\n"
     ]
    }
   ],
   "source": [
    "df_taxiverde.info()"
   ]
  },
  {
   "cell_type": "markdown",
   "metadata": {},
   "source": [
    "Creo una referencia de los atributos de cada columna para solo procesar las columnas relevantes para el proyecto"
   ]
  },
  {
   "cell_type": "code",
   "execution_count": null,
   "metadata": {},
   "outputs": [],
   "source": [
    "VendorID: Identificador del proveedor de servicio de taxi.\n",
    "lpep_pickup_datetime: Fecha y hora de recogida del pasajero.\n",
    "lpep_dropoff_datetime: Fecha y hora de finalización del viaje.\n",
    "store_and_fwd_flag: Indicador de si el vehículo almacenó los datos del viaje antes de enviarlos.\n",
    "RatecodeID: Identificador del código de tarifa utilizado para el viaje.\n",
    "PULocationID: Identificador de la ubicación de recogida.\n",
    "DOLocationID: Identificador de la ubicación de destino.\n",
    "passenger_count: Cantidad de pasajeros en el viaje.\n",
    "trip_distance: Distancia recorrida en el viaje.\n",
    "fare_amount: Tarifa básica del viaje.\n",
    "extra: Cargo adicional en la tarifa.\n",
    "mta_tax: Impuesto MTA en la tarifa.\n",
    "tip_amount: Cantidad de propina.\n",
    "tolls_amount: Monto de peajes.\n",
    "ehail_fee: Tarifa de solicitud de viaje a través de una aplicación (ehail).\n",
    "improvement_surcharge: Cargo de mejora en la tarifa.\n",
    "total_amount: Monto total pagado por el pasajero.\n",
    "payment_type: Tipo de pago utilizado en el viaje.\n",
    "trip_type: Tipo de viaje (quizás ida o ida y vuelta).\n",
    "congestion_surcharge: Cargo por congestión en la tarifa (puede depender de la ubicación y regulaciones locales)"
   ]
  },
  {
   "cell_type": "markdown",
   "metadata": {},
   "source": [
    "Defino la carpeta donde se encuntran los archivos .parquet"
   ]
  },
  {
   "cell_type": "code",
   "execution_count": 33,
   "metadata": {},
   "outputs": [],
   "source": [
    "folder_pathv = 'C:\\\\Users\\\\yopab\\\\Downloads\\\\Datasets\\\\dfexternos'"
   ]
  },
  {
   "cell_type": "markdown",
   "metadata": {},
   "source": [
    "Obtengo la lista de archivos .parquet en la carpeta"
   ]
  },
  {
   "cell_type": "code",
   "execution_count": 34,
   "metadata": {},
   "outputs": [],
   "source": [
    "\n",
    "parquet_filesv = Path(folder_pathv).glob('*.parquet')"
   ]
  },
  {
   "cell_type": "markdown",
   "metadata": {},
   "source": [
    "Filtro los registros que correspondan al año 2021"
   ]
  },
  {
   "cell_type": "code",
   "execution_count": 5,
   "metadata": {},
   "outputs": [],
   "source": [
    "parquet_files_2021 = [file for file in parquet_filesv if 'green_tripdata_2021' in file.name]"
   ]
  },
  {
   "cell_type": "markdown",
   "metadata": {},
   "source": [
    "Inicializo una lista para almacenar los df de cada archivo"
   ]
  },
  {
   "cell_type": "code",
   "execution_count": 6,
   "metadata": {},
   "outputs": [],
   "source": [
    "data_frames_2021 = []"
   ]
  },
  {
   "cell_type": "markdown",
   "metadata": {},
   "source": [
    "Cargo y combino los df "
   ]
  },
  {
   "cell_type": "code",
   "execution_count": 7,
   "metadata": {},
   "outputs": [],
   "source": [
    "for file in parquet_files_2021:\n",
    "    df = pd.read_parquet(file)\n",
    "    data_frames_2021.append(df)"
   ]
  },
  {
   "cell_type": "markdown",
   "metadata": {},
   "source": [
    "Combino los df en uno solo"
   ]
  },
  {
   "cell_type": "code",
   "execution_count": 8,
   "metadata": {},
   "outputs": [],
   "source": [
    "combined_df_2021 = pd.concat(data_frames_2021, ignore_index=True)"
   ]
  },
  {
   "cell_type": "markdown",
   "metadata": {},
   "source": [
    "Convierto las columnas de fechas a datetime"
   ]
  },
  {
   "cell_type": "code",
   "execution_count": 10,
   "metadata": {},
   "outputs": [],
   "source": [
    "combined_df_2021['lpep_pickup_datetime'] = pd.to_datetime(combined_df_2021['lpep_pickup_datetime'])\n",
    "combined_df_2021['lpep_dropoff_datetime'] = pd.to_datetime(combined_df_2021['lpep_dropoff_datetime'])"
   ]
  },
  {
   "cell_type": "markdown",
   "metadata": {},
   "source": [
    "Agrego una columna para el día"
   ]
  },
  {
   "cell_type": "code",
   "execution_count": 11,
   "metadata": {},
   "outputs": [],
   "source": [
    "combined_df_2021['pickup_date'] = combined_df_2021['lpep_pickup_datetime'].dt.date"
   ]
  },
  {
   "cell_type": "markdown",
   "metadata": {},
   "source": [
    "Agrupo por día y sumo los valores diarios que van a ser relevantes para el modelo"
   ]
  },
  {
   "cell_type": "code",
   "execution_count": 12,
   "metadata": {},
   "outputs": [],
   "source": [
    "daily_totals = combined_df_2021.groupby('pickup_date').agg({\n",
    "    'trip_distance': 'sum',\n",
    "    'fare_amount': 'sum',\n",
    "    'tip_amount': 'sum',\n",
    "    'PULocationID': 'sum',# Identificador de la ubicación de recogida.\n",
    "    'DOLocationID': 'sum',#Identificador de la ubicación de destino.\n",
    "    'total_amount': 'sum',#Monto total pagado por el pasajero.\n",
    "    'payment_type': 'sum', #Tipo de pago utilizado en el viaje.\n",
    "\n",
    "}).reset_index()"
   ]
  },
  {
   "cell_type": "markdown",
   "metadata": {},
   "source": [
    "Guardo el el df como archivo CSV"
   ]
  },
  {
   "cell_type": "code",
   "execution_count": 13,
   "metadata": {},
   "outputs": [],
   "source": [
    "daily_totals.to_csv('totales_diarios_tverde_2021.csv', index=False)"
   ]
  },
  {
   "cell_type": "markdown",
   "metadata": {},
   "source": [
    "compruebo que todo haya salido bien "
   ]
  },
  {
   "cell_type": "code",
   "execution_count": 14,
   "metadata": {},
   "outputs": [],
   "source": [
    "totalesverdes=pd.read_csv('totales_diarios_tverde_2021.csv')"
   ]
  },
  {
   "cell_type": "code",
   "execution_count": 15,
   "metadata": {},
   "outputs": [
    {
     "data": {
      "text/html": [
       "<div>\n",
       "<style scoped>\n",
       "    .dataframe tbody tr th:only-of-type {\n",
       "        vertical-align: middle;\n",
       "    }\n",
       "\n",
       "    .dataframe tbody tr th {\n",
       "        vertical-align: top;\n",
       "    }\n",
       "\n",
       "    .dataframe thead th {\n",
       "        text-align: right;\n",
       "    }\n",
       "</style>\n",
       "<table border=\"1\" class=\"dataframe\">\n",
       "  <thead>\n",
       "    <tr style=\"text-align: right;\">\n",
       "      <th></th>\n",
       "      <th>pickup_date</th>\n",
       "      <th>trip_distance</th>\n",
       "      <th>fare_amount</th>\n",
       "      <th>tip_amount</th>\n",
       "      <th>PULocationID</th>\n",
       "      <th>DOLocationID</th>\n",
       "      <th>total_amount</th>\n",
       "      <th>payment_type</th>\n",
       "    </tr>\n",
       "  </thead>\n",
       "  <tbody>\n",
       "    <tr>\n",
       "      <th>0</th>\n",
       "      <td>2008-12-31</td>\n",
       "      <td>5.17</td>\n",
       "      <td>23.00</td>\n",
       "      <td>1.00</td>\n",
       "      <td>697</td>\n",
       "      <td>796</td>\n",
       "      <td>29.35</td>\n",
       "      <td>5.0</td>\n",
       "    </tr>\n",
       "    <tr>\n",
       "      <th>1</th>\n",
       "      <td>2009-01-01</td>\n",
       "      <td>39.60</td>\n",
       "      <td>155.50</td>\n",
       "      <td>0.00</td>\n",
       "      <td>3502</td>\n",
       "      <td>3425</td>\n",
       "      <td>174.35</td>\n",
       "      <td>36.0</td>\n",
       "    </tr>\n",
       "    <tr>\n",
       "      <th>2</th>\n",
       "      <td>2010-09-23</td>\n",
       "      <td>5.05</td>\n",
       "      <td>112.50</td>\n",
       "      <td>0.01</td>\n",
       "      <td>679</td>\n",
       "      <td>617</td>\n",
       "      <td>115.21</td>\n",
       "      <td>7.0</td>\n",
       "    </tr>\n",
       "    <tr>\n",
       "      <th>3</th>\n",
       "      <td>2020-12-31</td>\n",
       "      <td>1.99</td>\n",
       "      <td>8.00</td>\n",
       "      <td>0.00</td>\n",
       "      <td>168</td>\n",
       "      <td>75</td>\n",
       "      <td>9.30</td>\n",
       "      <td>2.0</td>\n",
       "    </tr>\n",
       "    <tr>\n",
       "      <th>4</th>\n",
       "      <td>2021-01-01</td>\n",
       "      <td>5337.77</td>\n",
       "      <td>21609.32</td>\n",
       "      <td>2005.33</td>\n",
       "      <td>105570</td>\n",
       "      <td>132339</td>\n",
       "      <td>25312.43</td>\n",
       "      <td>917.0</td>\n",
       "    </tr>\n",
       "    <tr>\n",
       "      <th>...</th>\n",
       "      <td>...</td>\n",
       "      <td>...</td>\n",
       "      <td>...</td>\n",
       "      <td>...</td>\n",
       "      <td>...</td>\n",
       "      <td>...</td>\n",
       "      <td>...</td>\n",
       "      <td>...</td>\n",
       "    </tr>\n",
       "    <tr>\n",
       "      <th>364</th>\n",
       "      <td>2021-12-27</td>\n",
       "      <td>340031.62</td>\n",
       "      <td>36129.76</td>\n",
       "      <td>2751.88</td>\n",
       "      <td>218449</td>\n",
       "      <td>289244</td>\n",
       "      <td>43424.99</td>\n",
       "      <td>2829.0</td>\n",
       "    </tr>\n",
       "    <tr>\n",
       "      <th>365</th>\n",
       "      <td>2021-12-28</td>\n",
       "      <td>65687.52</td>\n",
       "      <td>39364.18</td>\n",
       "      <td>3107.30</td>\n",
       "      <td>220783</td>\n",
       "      <td>305345</td>\n",
       "      <td>47391.23</td>\n",
       "      <td>2857.0</td>\n",
       "    </tr>\n",
       "    <tr>\n",
       "      <th>366</th>\n",
       "      <td>2021-12-29</td>\n",
       "      <td>133273.99</td>\n",
       "      <td>39600.44</td>\n",
       "      <td>3480.64</td>\n",
       "      <td>230036</td>\n",
       "      <td>310732</td>\n",
       "      <td>48213.85</td>\n",
       "      <td>2930.0</td>\n",
       "    </tr>\n",
       "    <tr>\n",
       "      <th>367</th>\n",
       "      <td>2021-12-30</td>\n",
       "      <td>138802.01</td>\n",
       "      <td>44464.51</td>\n",
       "      <td>3802.51</td>\n",
       "      <td>250853</td>\n",
       "      <td>331564</td>\n",
       "      <td>53698.42</td>\n",
       "      <td>3182.0</td>\n",
       "    </tr>\n",
       "    <tr>\n",
       "      <th>368</th>\n",
       "      <td>2021-12-31</td>\n",
       "      <td>101936.39</td>\n",
       "      <td>38444.85</td>\n",
       "      <td>3314.81</td>\n",
       "      <td>215708</td>\n",
       "      <td>289111</td>\n",
       "      <td>46027.43</td>\n",
       "      <td>2877.0</td>\n",
       "    </tr>\n",
       "  </tbody>\n",
       "</table>\n",
       "<p>369 rows × 8 columns</p>\n",
       "</div>"
      ],
      "text/plain": [
       "    pickup_date  trip_distance  fare_amount  tip_amount  PULocationID  \\\n",
       "0    2008-12-31           5.17        23.00        1.00           697   \n",
       "1    2009-01-01          39.60       155.50        0.00          3502   \n",
       "2    2010-09-23           5.05       112.50        0.01           679   \n",
       "3    2020-12-31           1.99         8.00        0.00           168   \n",
       "4    2021-01-01        5337.77     21609.32     2005.33        105570   \n",
       "..          ...            ...          ...         ...           ...   \n",
       "364  2021-12-27      340031.62     36129.76     2751.88        218449   \n",
       "365  2021-12-28       65687.52     39364.18     3107.30        220783   \n",
       "366  2021-12-29      133273.99     39600.44     3480.64        230036   \n",
       "367  2021-12-30      138802.01     44464.51     3802.51        250853   \n",
       "368  2021-12-31      101936.39     38444.85     3314.81        215708   \n",
       "\n",
       "     DOLocationID  total_amount  payment_type  \n",
       "0             796         29.35           5.0  \n",
       "1            3425        174.35          36.0  \n",
       "2             617        115.21           7.0  \n",
       "3              75          9.30           2.0  \n",
       "4          132339      25312.43         917.0  \n",
       "..            ...           ...           ...  \n",
       "364        289244      43424.99        2829.0  \n",
       "365        305345      47391.23        2857.0  \n",
       "366        310732      48213.85        2930.0  \n",
       "367        331564      53698.42        3182.0  \n",
       "368        289111      46027.43        2877.0  \n",
       "\n",
       "[369 rows x 8 columns]"
      ]
     },
     "execution_count": 15,
     "metadata": {},
     "output_type": "execute_result"
    }
   ],
   "source": [
    "totalesverdes"
   ]
  },
  {
   "cell_type": "markdown",
   "metadata": {},
   "source": [
    "El mismo proceso se repite con el año 2022 y 2023 opteniendo los df separdos "
   ]
  },
  {
   "cell_type": "code",
   "execution_count": 22,
   "metadata": {},
   "outputs": [],
   "source": [
    "parquet_files_2022 = [file for file in parquet_filesv if 'green_tripdata_2022' in file.name]"
   ]
  },
  {
   "cell_type": "code",
   "execution_count": 23,
   "metadata": {},
   "outputs": [
    {
     "data": {
      "text/plain": [
       "[WindowsPath('C:/Users/yopab/Downloads/Datasets/dfexternos/green_tripdata_2022-01.parquet'),\n",
       " WindowsPath('C:/Users/yopab/Downloads/Datasets/dfexternos/green_tripdata_2022-02.parquet'),\n",
       " WindowsPath('C:/Users/yopab/Downloads/Datasets/dfexternos/green_tripdata_2022-03.parquet'),\n",
       " WindowsPath('C:/Users/yopab/Downloads/Datasets/dfexternos/green_tripdata_2022-04.parquet'),\n",
       " WindowsPath('C:/Users/yopab/Downloads/Datasets/dfexternos/green_tripdata_2022-05.parquet'),\n",
       " WindowsPath('C:/Users/yopab/Downloads/Datasets/dfexternos/green_tripdata_2022-06.parquet'),\n",
       " WindowsPath('C:/Users/yopab/Downloads/Datasets/dfexternos/green_tripdata_2022-07.parquet'),\n",
       " WindowsPath('C:/Users/yopab/Downloads/Datasets/dfexternos/green_tripdata_2022-08.parquet'),\n",
       " WindowsPath('C:/Users/yopab/Downloads/Datasets/dfexternos/green_tripdata_2022-09.parquet'),\n",
       " WindowsPath('C:/Users/yopab/Downloads/Datasets/dfexternos/green_tripdata_2022-10.parquet'),\n",
       " WindowsPath('C:/Users/yopab/Downloads/Datasets/dfexternos/green_tripdata_2022-11.parquet'),\n",
       " WindowsPath('C:/Users/yopab/Downloads/Datasets/dfexternos/green_tripdata_2022-12.parquet')]"
      ]
     },
     "execution_count": 23,
     "metadata": {},
     "output_type": "execute_result"
    }
   ],
   "source": [
    "parquet_files_2022"
   ]
  },
  {
   "cell_type": "code",
   "execution_count": 24,
   "metadata": {},
   "outputs": [],
   "source": [
    "data_frames_2022 = []"
   ]
  },
  {
   "cell_type": "code",
   "execution_count": 25,
   "metadata": {},
   "outputs": [],
   "source": [
    "for file in parquet_files_2022:\n",
    "    df = pd.read_parquet(file)\n",
    "    data_frames_2022.append(df)"
   ]
  },
  {
   "cell_type": "code",
   "execution_count": 26,
   "metadata": {},
   "outputs": [],
   "source": [
    "combined_df_2022 = pd.concat(data_frames_2022, ignore_index=True)"
   ]
  },
  {
   "cell_type": "code",
   "execution_count": 27,
   "metadata": {},
   "outputs": [],
   "source": [
    "# Convertir las columnas de fechas a datetime\n",
    "combined_df_2022['lpep_pickup_datetime'] = pd.to_datetime(combined_df_2022['lpep_pickup_datetime'])\n",
    "combined_df_2022['lpep_dropoff_datetime'] = pd.to_datetime(combined_df_2022['lpep_dropoff_datetime'])"
   ]
  },
  {
   "cell_type": "code",
   "execution_count": 28,
   "metadata": {},
   "outputs": [],
   "source": [
    "combined_df_2022['pickup_date'] = combined_df_2022['lpep_pickup_datetime'].dt.date"
   ]
  },
  {
   "cell_type": "code",
   "execution_count": 29,
   "metadata": {},
   "outputs": [],
   "source": [
    "daily_totals = combined_df_2022.groupby('pickup_date').agg({\n",
    "    'trip_distance': 'sum',\n",
    "    'fare_amount': 'sum',\n",
    "    'tip_amount': 'sum',\n",
    "    'PULocationID': 'sum',# Identificador de la ubicación de recogida.\n",
    "    'DOLocationID': 'sum',#Identificador de la ubicación de destino.\n",
    "    'total_amount': 'sum',#Monto total pagado por el pasajero.\n",
    "    'payment_type': 'sum', #Tipo de pago utilizado en el viaje.\n",
    "\n",
    "}).reset_index()"
   ]
  },
  {
   "cell_type": "code",
   "execution_count": 30,
   "metadata": {},
   "outputs": [],
   "source": [
    "daily_totals.to_csv('totales_diarios_tverde_2022.csv', index=False)"
   ]
  },
  {
   "cell_type": "code",
   "execution_count": 31,
   "metadata": {},
   "outputs": [],
   "source": [
    "totales_diarios_tverde_2022=pd.read_csv('totales_diarios_tverde_2022.csv')"
   ]
  },
  {
   "cell_type": "code",
   "execution_count": 32,
   "metadata": {},
   "outputs": [
    {
     "data": {
      "text/html": [
       "<div>\n",
       "<style scoped>\n",
       "    .dataframe tbody tr th:only-of-type {\n",
       "        vertical-align: middle;\n",
       "    }\n",
       "\n",
       "    .dataframe tbody tr th {\n",
       "        vertical-align: top;\n",
       "    }\n",
       "\n",
       "    .dataframe thead th {\n",
       "        text-align: right;\n",
       "    }\n",
       "</style>\n",
       "<table border=\"1\" class=\"dataframe\">\n",
       "  <thead>\n",
       "    <tr style=\"text-align: right;\">\n",
       "      <th></th>\n",
       "      <th>pickup_date</th>\n",
       "      <th>trip_distance</th>\n",
       "      <th>fare_amount</th>\n",
       "      <th>tip_amount</th>\n",
       "      <th>PULocationID</th>\n",
       "      <th>DOLocationID</th>\n",
       "      <th>total_amount</th>\n",
       "      <th>payment_type</th>\n",
       "    </tr>\n",
       "  </thead>\n",
       "  <tbody>\n",
       "    <tr>\n",
       "      <th>0</th>\n",
       "      <td>2008-12-31</td>\n",
       "      <td>5.36</td>\n",
       "      <td>30.50</td>\n",
       "      <td>0.00</td>\n",
       "      <td>267</td>\n",
       "      <td>235</td>\n",
       "      <td>32.30</td>\n",
       "      <td>3.0</td>\n",
       "    </tr>\n",
       "    <tr>\n",
       "      <th>1</th>\n",
       "      <td>2009-01-01</td>\n",
       "      <td>15.70</td>\n",
       "      <td>65.50</td>\n",
       "      <td>5.46</td>\n",
       "      <td>727</td>\n",
       "      <td>1135</td>\n",
       "      <td>81.16</td>\n",
       "      <td>8.0</td>\n",
       "    </tr>\n",
       "    <tr>\n",
       "      <th>2</th>\n",
       "      <td>2021-12-31</td>\n",
       "      <td>11.41</td>\n",
       "      <td>38.00</td>\n",
       "      <td>3.16</td>\n",
       "      <td>261</td>\n",
       "      <td>338</td>\n",
       "      <td>50.56</td>\n",
       "      <td>4.0</td>\n",
       "    </tr>\n",
       "    <tr>\n",
       "      <th>3</th>\n",
       "      <td>2022-01-01</td>\n",
       "      <td>66392.32</td>\n",
       "      <td>20361.61</td>\n",
       "      <td>2493.06</td>\n",
       "      <td>128935</td>\n",
       "      <td>176497</td>\n",
       "      <td>25128.72</td>\n",
       "      <td>1620.0</td>\n",
       "    </tr>\n",
       "    <tr>\n",
       "      <th>4</th>\n",
       "      <td>2022-01-02</td>\n",
       "      <td>81294.44</td>\n",
       "      <td>21448.61</td>\n",
       "      <td>2622.52</td>\n",
       "      <td>142460</td>\n",
       "      <td>206993</td>\n",
       "      <td>26851.77</td>\n",
       "      <td>1946.0</td>\n",
       "    </tr>\n",
       "    <tr>\n",
       "      <th>...</th>\n",
       "      <td>...</td>\n",
       "      <td>...</td>\n",
       "      <td>...</td>\n",
       "      <td>...</td>\n",
       "      <td>...</td>\n",
       "      <td>...</td>\n",
       "      <td>...</td>\n",
       "      <td>...</td>\n",
       "    </tr>\n",
       "    <tr>\n",
       "      <th>363</th>\n",
       "      <td>2022-12-27</td>\n",
       "      <td>8029.92</td>\n",
       "      <td>38372.27</td>\n",
       "      <td>4357.15</td>\n",
       "      <td>209549</td>\n",
       "      <td>296552</td>\n",
       "      <td>49504.87</td>\n",
       "      <td>2859.0</td>\n",
       "    </tr>\n",
       "    <tr>\n",
       "      <th>364</th>\n",
       "      <td>2022-12-28</td>\n",
       "      <td>5741.31</td>\n",
       "      <td>37279.94</td>\n",
       "      <td>3925.24</td>\n",
       "      <td>210843</td>\n",
       "      <td>293789</td>\n",
       "      <td>47872.48</td>\n",
       "      <td>2972.0</td>\n",
       "    </tr>\n",
       "    <tr>\n",
       "      <th>365</th>\n",
       "      <td>2022-12-29</td>\n",
       "      <td>79490.58</td>\n",
       "      <td>40517.38</td>\n",
       "      <td>4147.34</td>\n",
       "      <td>229134</td>\n",
       "      <td>314744</td>\n",
       "      <td>51686.82</td>\n",
       "      <td>3129.0</td>\n",
       "    </tr>\n",
       "    <tr>\n",
       "      <th>366</th>\n",
       "      <td>2022-12-30</td>\n",
       "      <td>6795.41</td>\n",
       "      <td>43623.12</td>\n",
       "      <td>4659.45</td>\n",
       "      <td>229376</td>\n",
       "      <td>315627</td>\n",
       "      <td>55862.47</td>\n",
       "      <td>3290.0</td>\n",
       "    </tr>\n",
       "    <tr>\n",
       "      <th>367</th>\n",
       "      <td>2022-12-31</td>\n",
       "      <td>6045.21</td>\n",
       "      <td>37955.69</td>\n",
       "      <td>4224.61</td>\n",
       "      <td>205979</td>\n",
       "      <td>276393</td>\n",
       "      <td>47242.70</td>\n",
       "      <td>2712.0</td>\n",
       "    </tr>\n",
       "  </tbody>\n",
       "</table>\n",
       "<p>368 rows × 8 columns</p>\n",
       "</div>"
      ],
      "text/plain": [
       "    pickup_date  trip_distance  fare_amount  tip_amount  PULocationID  \\\n",
       "0    2008-12-31           5.36        30.50        0.00           267   \n",
       "1    2009-01-01          15.70        65.50        5.46           727   \n",
       "2    2021-12-31          11.41        38.00        3.16           261   \n",
       "3    2022-01-01       66392.32     20361.61     2493.06        128935   \n",
       "4    2022-01-02       81294.44     21448.61     2622.52        142460   \n",
       "..          ...            ...          ...         ...           ...   \n",
       "363  2022-12-27        8029.92     38372.27     4357.15        209549   \n",
       "364  2022-12-28        5741.31     37279.94     3925.24        210843   \n",
       "365  2022-12-29       79490.58     40517.38     4147.34        229134   \n",
       "366  2022-12-30        6795.41     43623.12     4659.45        229376   \n",
       "367  2022-12-31        6045.21     37955.69     4224.61        205979   \n",
       "\n",
       "     DOLocationID  total_amount  payment_type  \n",
       "0             235         32.30           3.0  \n",
       "1            1135         81.16           8.0  \n",
       "2             338         50.56           4.0  \n",
       "3          176497      25128.72        1620.0  \n",
       "4          206993      26851.77        1946.0  \n",
       "..            ...           ...           ...  \n",
       "363        296552      49504.87        2859.0  \n",
       "364        293789      47872.48        2972.0  \n",
       "365        314744      51686.82        3129.0  \n",
       "366        315627      55862.47        3290.0  \n",
       "367        276393      47242.70        2712.0  \n",
       "\n",
       "[368 rows x 8 columns]"
      ]
     },
     "execution_count": 32,
     "metadata": {},
     "output_type": "execute_result"
    }
   ],
   "source": [
    "totales_diarios_tverde_2022"
   ]
  },
  {
   "cell_type": "code",
   "execution_count": 36,
   "metadata": {},
   "outputs": [],
   "source": [
    "parquet_files_2023 = [file for file in parquet_filesv if 'green_tripdata_2023' in file.name]"
   ]
  },
  {
   "cell_type": "code",
   "execution_count": 37,
   "metadata": {},
   "outputs": [
    {
     "data": {
      "text/plain": [
       "[WindowsPath('C:/Users/yopab/Downloads/Datasets/dfexternos/green_tripdata_2023-01.parquet'),\n",
       " WindowsPath('C:/Users/yopab/Downloads/Datasets/dfexternos/green_tripdata_2023-02.parquet'),\n",
       " WindowsPath('C:/Users/yopab/Downloads/Datasets/dfexternos/green_tripdata_2023-03.parquet'),\n",
       " WindowsPath('C:/Users/yopab/Downloads/Datasets/dfexternos/green_tripdata_2023-04.parquet'),\n",
       " WindowsPath('C:/Users/yopab/Downloads/Datasets/dfexternos/green_tripdata_2023-05.parquet')]"
      ]
     },
     "execution_count": 37,
     "metadata": {},
     "output_type": "execute_result"
    }
   ],
   "source": [
    "parquet_files_2023"
   ]
  },
  {
   "cell_type": "code",
   "execution_count": 38,
   "metadata": {},
   "outputs": [],
   "source": [
    "data_frames_2023 = []"
   ]
  },
  {
   "cell_type": "code",
   "execution_count": 39,
   "metadata": {},
   "outputs": [],
   "source": [
    "for file in parquet_files_2023:\n",
    "    df = pd.read_parquet(file)\n",
    "    data_frames_2023.append(df)"
   ]
  },
  {
   "cell_type": "code",
   "execution_count": 40,
   "metadata": {},
   "outputs": [],
   "source": [
    "combined_df_2023 = pd.concat(data_frames_2023, ignore_index=True)"
   ]
  },
  {
   "cell_type": "code",
   "execution_count": 41,
   "metadata": {},
   "outputs": [],
   "source": [
    "# Convertir las columnas de fechas a datetime\n",
    "combined_df_2023['lpep_pickup_datetime'] = pd.to_datetime(combined_df_2023['lpep_pickup_datetime'])\n",
    "combined_df_2023['lpep_dropoff_datetime'] = pd.to_datetime(combined_df_2023['lpep_dropoff_datetime'])"
   ]
  },
  {
   "cell_type": "code",
   "execution_count": 42,
   "metadata": {},
   "outputs": [],
   "source": [
    "combined_df_2023['pickup_date'] = combined_df_2023['lpep_pickup_datetime'].dt.date"
   ]
  },
  {
   "cell_type": "code",
   "execution_count": 43,
   "metadata": {},
   "outputs": [],
   "source": [
    "daily_totals = combined_df_2023.groupby('pickup_date').agg({\n",
    "    'trip_distance': 'sum',\n",
    "    'fare_amount': 'sum',\n",
    "    'tip_amount': 'sum',\n",
    "    'PULocationID': 'sum',# Identificador de la ubicación de recogida.\n",
    "    'DOLocationID': 'sum',#Identificador de la ubicación de destino.\n",
    "    'total_amount': 'sum',#Monto total pagado por el pasajero.\n",
    "    'payment_type': 'sum', #Tipo de pago utilizado en el viaje.\n",
    "\n",
    "}).reset_index()"
   ]
  },
  {
   "cell_type": "code",
   "execution_count": 44,
   "metadata": {},
   "outputs": [],
   "source": [
    "daily_totals.to_csv('totales_diarios_tverde_2023.csv', index=False)"
   ]
  },
  {
   "cell_type": "code",
   "execution_count": 45,
   "metadata": {},
   "outputs": [],
   "source": [
    "totales_diarios_tverde_2023=pd.read_csv('totales_diarios_tverde_2023.csv')"
   ]
  },
  {
   "cell_type": "code",
   "execution_count": 46,
   "metadata": {},
   "outputs": [
    {
     "data": {
      "text/html": [
       "<div>\n",
       "<style scoped>\n",
       "    .dataframe tbody tr th:only-of-type {\n",
       "        vertical-align: middle;\n",
       "    }\n",
       "\n",
       "    .dataframe tbody tr th {\n",
       "        vertical-align: top;\n",
       "    }\n",
       "\n",
       "    .dataframe thead th {\n",
       "        text-align: right;\n",
       "    }\n",
       "</style>\n",
       "<table border=\"1\" class=\"dataframe\">\n",
       "  <thead>\n",
       "    <tr style=\"text-align: right;\">\n",
       "      <th></th>\n",
       "      <th>pickup_date</th>\n",
       "      <th>trip_distance</th>\n",
       "      <th>fare_amount</th>\n",
       "      <th>tip_amount</th>\n",
       "      <th>PULocationID</th>\n",
       "      <th>DOLocationID</th>\n",
       "      <th>total_amount</th>\n",
       "      <th>payment_type</th>\n",
       "    </tr>\n",
       "  </thead>\n",
       "  <tbody>\n",
       "    <tr>\n",
       "      <th>0</th>\n",
       "      <td>2008-12-31</td>\n",
       "      <td>5.28</td>\n",
       "      <td>36.80</td>\n",
       "      <td>5.95</td>\n",
       "      <td>231</td>\n",
       "      <td>492</td>\n",
       "      <td>51.00</td>\n",
       "      <td>3.0</td>\n",
       "    </tr>\n",
       "    <tr>\n",
       "      <th>1</th>\n",
       "      <td>2009-01-01</td>\n",
       "      <td>7.72</td>\n",
       "      <td>34.50</td>\n",
       "      <td>7.20</td>\n",
       "      <td>65</td>\n",
       "      <td>178</td>\n",
       "      <td>43.20</td>\n",
       "      <td>1.0</td>\n",
       "    </tr>\n",
       "    <tr>\n",
       "      <th>2</th>\n",
       "      <td>2022-12-09</td>\n",
       "      <td>10.85</td>\n",
       "      <td>41.50</td>\n",
       "      <td>0.00</td>\n",
       "      <td>267</td>\n",
       "      <td>220</td>\n",
       "      <td>52.40</td>\n",
       "      <td>4.0</td>\n",
       "    </tr>\n",
       "    <tr>\n",
       "      <th>3</th>\n",
       "      <td>2023-01-01</td>\n",
       "      <td>5191.36</td>\n",
       "      <td>27501.48</td>\n",
       "      <td>3484.45</td>\n",
       "      <td>148312</td>\n",
       "      <td>209734</td>\n",
       "      <td>34885.03</td>\n",
       "      <td>1800.0</td>\n",
       "    </tr>\n",
       "    <tr>\n",
       "      <th>4</th>\n",
       "      <td>2023-01-02</td>\n",
       "      <td>4527.00</td>\n",
       "      <td>26414.99</td>\n",
       "      <td>3175.47</td>\n",
       "      <td>147915</td>\n",
       "      <td>219774</td>\n",
       "      <td>33659.66</td>\n",
       "      <td>2061.0</td>\n",
       "    </tr>\n",
       "    <tr>\n",
       "      <th>...</th>\n",
       "      <td>...</td>\n",
       "      <td>...</td>\n",
       "      <td>...</td>\n",
       "      <td>...</td>\n",
       "      <td>...</td>\n",
       "      <td>...</td>\n",
       "      <td>...</td>\n",
       "      <td>...</td>\n",
       "    </tr>\n",
       "    <tr>\n",
       "      <th>152</th>\n",
       "      <td>2023-05-30</td>\n",
       "      <td>6351.57</td>\n",
       "      <td>39681.02</td>\n",
       "      <td>5116.68</td>\n",
       "      <td>211871</td>\n",
       "      <td>309220</td>\n",
       "      <td>52179.71</td>\n",
       "      <td>2735.0</td>\n",
       "    </tr>\n",
       "    <tr>\n",
       "      <th>153</th>\n",
       "      <td>2023-05-31</td>\n",
       "      <td>27116.10</td>\n",
       "      <td>43968.89</td>\n",
       "      <td>5978.87</td>\n",
       "      <td>229445</td>\n",
       "      <td>328318</td>\n",
       "      <td>57927.21</td>\n",
       "      <td>2907.0</td>\n",
       "    </tr>\n",
       "    <tr>\n",
       "      <th>154</th>\n",
       "      <td>2023-06-01</td>\n",
       "      <td>3.64</td>\n",
       "      <td>20.50</td>\n",
       "      <td>5.75</td>\n",
       "      <td>255</td>\n",
       "      <td>97</td>\n",
       "      <td>28.75</td>\n",
       "      <td>1.0</td>\n",
       "    </tr>\n",
       "    <tr>\n",
       "      <th>155</th>\n",
       "      <td>2023-06-05</td>\n",
       "      <td>2.28</td>\n",
       "      <td>14.20</td>\n",
       "      <td>3.34</td>\n",
       "      <td>129</td>\n",
       "      <td>146</td>\n",
       "      <td>20.04</td>\n",
       "      <td>1.0</td>\n",
       "    </tr>\n",
       "    <tr>\n",
       "      <th>156</th>\n",
       "      <td>2023-06-06</td>\n",
       "      <td>0.24</td>\n",
       "      <td>0.00</td>\n",
       "      <td>0.00</td>\n",
       "      <td>248</td>\n",
       "      <td>248</td>\n",
       "      <td>0.00</td>\n",
       "      <td>6.0</td>\n",
       "    </tr>\n",
       "  </tbody>\n",
       "</table>\n",
       "<p>157 rows × 8 columns</p>\n",
       "</div>"
      ],
      "text/plain": [
       "    pickup_date  trip_distance  fare_amount  tip_amount  PULocationID  \\\n",
       "0    2008-12-31           5.28        36.80        5.95           231   \n",
       "1    2009-01-01           7.72        34.50        7.20            65   \n",
       "2    2022-12-09          10.85        41.50        0.00           267   \n",
       "3    2023-01-01        5191.36     27501.48     3484.45        148312   \n",
       "4    2023-01-02        4527.00     26414.99     3175.47        147915   \n",
       "..          ...            ...          ...         ...           ...   \n",
       "152  2023-05-30        6351.57     39681.02     5116.68        211871   \n",
       "153  2023-05-31       27116.10     43968.89     5978.87        229445   \n",
       "154  2023-06-01           3.64        20.50        5.75           255   \n",
       "155  2023-06-05           2.28        14.20        3.34           129   \n",
       "156  2023-06-06           0.24         0.00        0.00           248   \n",
       "\n",
       "     DOLocationID  total_amount  payment_type  \n",
       "0             492         51.00           3.0  \n",
       "1             178         43.20           1.0  \n",
       "2             220         52.40           4.0  \n",
       "3          209734      34885.03        1800.0  \n",
       "4          219774      33659.66        2061.0  \n",
       "..            ...           ...           ...  \n",
       "152        309220      52179.71        2735.0  \n",
       "153        328318      57927.21        2907.0  \n",
       "154            97         28.75           1.0  \n",
       "155           146         20.04           1.0  \n",
       "156           248          0.00           6.0  \n",
       "\n",
       "[157 rows x 8 columns]"
      ]
     },
     "execution_count": 46,
     "metadata": {},
     "output_type": "execute_result"
    }
   ],
   "source": [
    "totales_diarios_tverde_2023"
   ]
  },
  {
   "cell_type": "code",
   "execution_count": null,
   "metadata": {},
   "outputs": [],
   "source": []
  }
 ],
 "metadata": {
  "kernelspec": {
   "display_name": "Python 3",
   "language": "python",
   "name": "python3"
  },
  "language_info": {
   "codemirror_mode": {
    "name": "ipython",
    "version": 3
   },
   "file_extension": ".py",
   "mimetype": "text/x-python",
   "name": "python",
   "nbconvert_exporter": "python",
   "pygments_lexer": "ipython3",
   "version": "3.10.6"
  },
  "orig_nbformat": 4
 },
 "nbformat": 4,
 "nbformat_minor": 2
}
