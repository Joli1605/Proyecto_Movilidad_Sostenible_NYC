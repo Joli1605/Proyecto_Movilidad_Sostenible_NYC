{
 "cells": [
  {
   "cell_type": "code",
   "execution_count": 160,
   "metadata": {},
   "outputs": [],
   "source": [
    "import pandas as pd\n",
    "from sklearn.model_selection import train_test_split\n",
    "from sklearn.ensemble import RandomForestRegressor\n",
    "from sklearn.metrics import mean_squared_error\n",
    "from sklearn.metrics import r2_score\n",
    "from sklearn.model_selection import train_test_split, GridSearchCV"
   ]
  },
  {
   "cell_type": "markdown",
   "metadata": {},
   "source": [
    "### Carga de Datos"
   ]
  },
  {
   "cell_type": "code",
   "execution_count": 161,
   "metadata": {},
   "outputs": [],
   "source": [
    "def load_data(file_path):\n",
    "    return pd.read_csv(file_path, encoding='utf-8')"
   ]
  },
  {
   "cell_type": "code",
   "execution_count": 162,
   "metadata": {},
   "outputs": [],
   "source": [
    "clima_data = load_data(r\"Datasets_limpios\\NYCClima.csv\")\n",
    "tarifa_data= load_data(r'Datasets_limpios\\taxis_tarifa.csv')"
   ]
  },
  {
   "cell_type": "markdown",
   "metadata": {},
   "source": [
    "### Transformación de Datos"
   ]
  },
  {
   "cell_type": "code",
   "execution_count": 163,
   "metadata": {},
   "outputs": [
    {
     "name": "stdout",
     "output_type": "stream",
     "text": [
      "           date  avg_temperature\n",
      "0    2021-01-01         0.841667\n",
      "1    2021-01-02         6.104167\n",
      "2    2021-01-03         1.287500\n",
      "3    2021-01-04         2.350000\n",
      "4    2021-01-05         2.479167\n",
      "..          ...              ...\n",
      "947  2023-08-06        23.366667\n",
      "948  2023-08-07        23.620833\n",
      "949  2023-08-08        23.608333\n",
      "950  2023-08-09        23.416667\n",
      "951  2023-08-10        22.208333\n",
      "\n",
      "[952 rows x 2 columns]\n"
     ]
    }
   ],
   "source": [
    "clima_data['time'] = pd.to_datetime(clima_data['time']) # Convierto la columna 'time' a formato de fecha\n",
    "\n",
    "df_clima_grouped = clima_data.groupby(clima_data['time'].dt.date).agg({'temperature_2m (°C)': 'mean'}).reset_index() # Agrupo los datos por día y calculo el promedio de temperaturas por día\n",
    " \n",
    "df_clima_grouped.rename(columns={'time': 'date', 'temperature_2m (°C)': 'avg_temperature'}, inplace=True) # Renombro las columnas para mayor claridad\n",
    "\n",
    "print(df_clima_grouped)"
   ]
  },
  {
   "cell_type": "code",
   "execution_count": 164,
   "metadata": {},
   "outputs": [
    {
     "name": "stdout",
     "output_type": "stream",
     "text": [
      "          Fecha  Pasajeros por dia  Viajes por dia Tipo de Taxi  DiaSemana\n",
      "0    2022-01-01              97692           64714        green     Sábado\n",
      "1    2022-01-02              87866           59921        green    Domingo\n",
      "2    2022-01-03             102660           74737        green      Lunes\n",
      "3    2022-01-04             103558           76727        green     Martes\n",
      "4    2022-01-05             102768           76851        green  Miércoles\n",
      "..          ...                ...             ...          ...        ...\n",
      "483  2023-04-29             154698          112432        green     Sábado\n",
      "484  2023-04-30             130105           95981        green    Domingo\n",
      "485  2023-05-01                  1               1       yellow      Lunes\n",
      "486  2023-05-02                 29              23       yellow     Martes\n",
      "487  2023-05-03                 29              22       yellow  Miércoles\n",
      "\n",
      "[488 rows x 5 columns]\n"
     ]
    }
   ],
   "source": [
    "tarifa_data['Fecha'] = pd.to_datetime(tarifa_data['Fecha']) # Convierto la columna 'Fecha' a formato de fecha\n",
    "\n",
    "dias_semana = ['Lunes', 'Martes', 'Miércoles', 'Jueves', 'Viernes', 'Sábado', 'Domingo'] # Lista de nombres de días de la semana en español\n",
    "\n",
    "tarifa_data['DiaSemana'] = tarifa_data['Fecha'].dt.dayofweek.map(lambda x: dias_semana[x]) # Agrego una columna con el día de la semana en español  \n",
    "\n",
    "tarifa_grouped = tarifa_data.groupby(tarifa_data['Fecha'].dt.date).agg({ # Agrupo los datos por día y sumo las cantidades de pasajeros y viajes por día\n",
    "    'Pasajeros por dia': 'sum',\n",
    "    'Viajes por dia': 'sum',\n",
    "    'Tipo de Taxi': 'first',\n",
    "    'DiaSemana': 'first'\n",
    "}).reset_index()\n",
    "\n",
    "print(tarifa_grouped)"
   ]
  },
  {
   "cell_type": "code",
   "execution_count": 165,
   "metadata": {},
   "outputs": [
    {
     "name": "stdout",
     "output_type": "stream",
     "text": [
      "     Pasajeros por dia  Viajes por dia Tipo de Taxi  DiaSemana  \\\n",
      "0                97692           64714        green     Sábado   \n",
      "1                87866           59921        green    Domingo   \n",
      "2               102660           74737        green      Lunes   \n",
      "3               103558           76727        green     Martes   \n",
      "4               102768           76851        green  Miércoles   \n",
      "..                 ...             ...          ...        ...   \n",
      "483             154698          112432        green     Sábado   \n",
      "484             130105           95981        green    Domingo   \n",
      "485                  1               1       yellow      Lunes   \n",
      "486                 29              23       yellow     Martes   \n",
      "487                 29              22       yellow  Miércoles   \n",
      "\n",
      "     avg_temperature  \n",
      "0           9.766667  \n",
      "1          10.425000  \n",
      "2           0.770833  \n",
      "3          -2.920833  \n",
      "4           0.712500  \n",
      "..               ...  \n",
      "483         9.770833  \n",
      "484        12.004167  \n",
      "485        12.879167  \n",
      "486        10.100000  \n",
      "487         9.395833  \n",
      "\n",
      "[488 rows x 5 columns]\n"
     ]
    }
   ],
   "source": [
    "tabla_combinada = pd.merge(tarifa_grouped, df_clima_grouped, left_on='Fecha', right_on='date', how='inner') # Uno las dos tablas por la columna 'Fecha'\n",
    "\n",
    "tabla_combinada.drop(columns=['date'], inplace=True)\n",
    "tabla_combinada.drop(columns=['Fecha'], inplace=True)# Elimino la columna 'date' \n",
    "\n",
    "print(tabla_combinada)"
   ]
  },
  {
   "cell_type": "code",
   "execution_count": 166,
   "metadata": {},
   "outputs": [],
   "source": [
    "X = tabla_combinada[['avg_temperature', 'DiaSemana', 'Tipo de Taxi', 'Pasajeros por dia']]# Divido los datos en características (X) y etiquetas (y)\n",
    "y = tabla_combinada['Viajes por dia']\n",
    "\n",
    "X['Tipo de Taxi_green'] = 0# Agrego columna 'Tipo de Taxi_green' con valor 0 en todas las filas\n",
    "\n",
    "X.loc[X['Tipo de Taxi'] == 'green', 'Tipo de Taxi_green'] = 1# Modifico las filas donde el valor de 'Tipo de Taxi' es 'green' a 1\n",
    "\n",
    "X['Tipo de Taxi_yellow'] = 0#Idem que para green\n",
    "\n",
    "X.loc[X['Tipo de Taxi'] == 'yellow', 'Tipo de Taxi_yellow'] = 1#Idem que para green\n",
    "\n",
    "X.drop(columns=['Tipo de Taxi'], inplace=True)# Elimino columna 'Tipo de Taxi'\n",
    "\n",
    "X = pd.get_dummies(X, columns=['DiaSemana'], drop_first=True)# Convierto variables categóricas\n",
    "\n",
    "X_train, X_test, y_train, y_test = train_test_split(X, y, test_size=0.2, random_state=42)# Divido los datos\n"
   ]
  },
  {
   "cell_type": "code",
   "execution_count": 167,
   "metadata": {},
   "outputs": [
    {
     "data": {
      "text/html": [
       "<div>\n",
       "<style scoped>\n",
       "    .dataframe tbody tr th:only-of-type {\n",
       "        vertical-align: middle;\n",
       "    }\n",
       "\n",
       "    .dataframe tbody tr th {\n",
       "        vertical-align: top;\n",
       "    }\n",
       "\n",
       "    .dataframe thead th {\n",
       "        text-align: right;\n",
       "    }\n",
       "</style>\n",
       "<table border=\"1\" class=\"dataframe\">\n",
       "  <thead>\n",
       "    <tr style=\"text-align: right;\">\n",
       "      <th></th>\n",
       "      <th>avg_temperature</th>\n",
       "      <th>Pasajeros por dia</th>\n",
       "      <th>Tipo de Taxi_green</th>\n",
       "      <th>Tipo de Taxi_yellow</th>\n",
       "      <th>DiaSemana_Jueves</th>\n",
       "      <th>DiaSemana_Lunes</th>\n",
       "      <th>DiaSemana_Martes</th>\n",
       "      <th>DiaSemana_Miércoles</th>\n",
       "      <th>DiaSemana_Sábado</th>\n",
       "      <th>DiaSemana_Viernes</th>\n",
       "    </tr>\n",
       "  </thead>\n",
       "  <tbody>\n",
       "    <tr>\n",
       "      <th>0</th>\n",
       "      <td>9.766667</td>\n",
       "      <td>97692</td>\n",
       "      <td>1</td>\n",
       "      <td>0</td>\n",
       "      <td>0</td>\n",
       "      <td>0</td>\n",
       "      <td>0</td>\n",
       "      <td>0</td>\n",
       "      <td>1</td>\n",
       "      <td>0</td>\n",
       "    </tr>\n",
       "    <tr>\n",
       "      <th>1</th>\n",
       "      <td>10.425000</td>\n",
       "      <td>87866</td>\n",
       "      <td>1</td>\n",
       "      <td>0</td>\n",
       "      <td>0</td>\n",
       "      <td>0</td>\n",
       "      <td>0</td>\n",
       "      <td>0</td>\n",
       "      <td>0</td>\n",
       "      <td>0</td>\n",
       "    </tr>\n",
       "    <tr>\n",
       "      <th>2</th>\n",
       "      <td>0.770833</td>\n",
       "      <td>102660</td>\n",
       "      <td>1</td>\n",
       "      <td>0</td>\n",
       "      <td>0</td>\n",
       "      <td>1</td>\n",
       "      <td>0</td>\n",
       "      <td>0</td>\n",
       "      <td>0</td>\n",
       "      <td>0</td>\n",
       "    </tr>\n",
       "    <tr>\n",
       "      <th>3</th>\n",
       "      <td>-2.920833</td>\n",
       "      <td>103558</td>\n",
       "      <td>1</td>\n",
       "      <td>0</td>\n",
       "      <td>0</td>\n",
       "      <td>0</td>\n",
       "      <td>1</td>\n",
       "      <td>0</td>\n",
       "      <td>0</td>\n",
       "      <td>0</td>\n",
       "    </tr>\n",
       "    <tr>\n",
       "      <th>4</th>\n",
       "      <td>0.712500</td>\n",
       "      <td>102768</td>\n",
       "      <td>1</td>\n",
       "      <td>0</td>\n",
       "      <td>0</td>\n",
       "      <td>0</td>\n",
       "      <td>0</td>\n",
       "      <td>1</td>\n",
       "      <td>0</td>\n",
       "      <td>0</td>\n",
       "    </tr>\n",
       "  </tbody>\n",
       "</table>\n",
       "</div>"
      ],
      "text/plain": [
       "   avg_temperature  Pasajeros por dia  Tipo de Taxi_green  \\\n",
       "0         9.766667              97692                   1   \n",
       "1        10.425000              87866                   1   \n",
       "2         0.770833             102660                   1   \n",
       "3        -2.920833             103558                   1   \n",
       "4         0.712500             102768                   1   \n",
       "\n",
       "   Tipo de Taxi_yellow  DiaSemana_Jueves  DiaSemana_Lunes  DiaSemana_Martes  \\\n",
       "0                    0                 0                0                 0   \n",
       "1                    0                 0                0                 0   \n",
       "2                    0                 0                1                 0   \n",
       "3                    0                 0                0                 1   \n",
       "4                    0                 0                0                 0   \n",
       "\n",
       "   DiaSemana_Miércoles  DiaSemana_Sábado  DiaSemana_Viernes  \n",
       "0                    0                 1                  0  \n",
       "1                    0                 0                  0  \n",
       "2                    0                 0                  0  \n",
       "3                    0                 0                  0  \n",
       "4                    1                 0                  0  "
      ]
     },
     "execution_count": 167,
     "metadata": {},
     "output_type": "execute_result"
    }
   ],
   "source": [
    "X.head()"
   ]
  },
  {
   "cell_type": "markdown",
   "metadata": {},
   "source": [
    "### Creación de Modelo Random Forest"
   ]
  },
  {
   "cell_type": "code",
   "execution_count": 168,
   "metadata": {},
   "outputs": [
    {
     "data": {
      "text/html": [
       "<style>#sk-container-id-13 {color: black;background-color: white;}#sk-container-id-13 pre{padding: 0;}#sk-container-id-13 div.sk-toggleable {background-color: white;}#sk-container-id-13 label.sk-toggleable__label {cursor: pointer;display: block;width: 100%;margin-bottom: 0;padding: 0.3em;box-sizing: border-box;text-align: center;}#sk-container-id-13 label.sk-toggleable__label-arrow:before {content: \"▸\";float: left;margin-right: 0.25em;color: #696969;}#sk-container-id-13 label.sk-toggleable__label-arrow:hover:before {color: black;}#sk-container-id-13 div.sk-estimator:hover label.sk-toggleable__label-arrow:before {color: black;}#sk-container-id-13 div.sk-toggleable__content {max-height: 0;max-width: 0;overflow: hidden;text-align: left;background-color: #f0f8ff;}#sk-container-id-13 div.sk-toggleable__content pre {margin: 0.2em;color: black;border-radius: 0.25em;background-color: #f0f8ff;}#sk-container-id-13 input.sk-toggleable__control:checked~div.sk-toggleable__content {max-height: 200px;max-width: 100%;overflow: auto;}#sk-container-id-13 input.sk-toggleable__control:checked~label.sk-toggleable__label-arrow:before {content: \"▾\";}#sk-container-id-13 div.sk-estimator input.sk-toggleable__control:checked~label.sk-toggleable__label {background-color: #d4ebff;}#sk-container-id-13 div.sk-label input.sk-toggleable__control:checked~label.sk-toggleable__label {background-color: #d4ebff;}#sk-container-id-13 input.sk-hidden--visually {border: 0;clip: rect(1px 1px 1px 1px);clip: rect(1px, 1px, 1px, 1px);height: 1px;margin: -1px;overflow: hidden;padding: 0;position: absolute;width: 1px;}#sk-container-id-13 div.sk-estimator {font-family: monospace;background-color: #f0f8ff;border: 1px dotted black;border-radius: 0.25em;box-sizing: border-box;margin-bottom: 0.5em;}#sk-container-id-13 div.sk-estimator:hover {background-color: #d4ebff;}#sk-container-id-13 div.sk-parallel-item::after {content: \"\";width: 100%;border-bottom: 1px solid gray;flex-grow: 1;}#sk-container-id-13 div.sk-label:hover label.sk-toggleable__label {background-color: #d4ebff;}#sk-container-id-13 div.sk-serial::before {content: \"\";position: absolute;border-left: 1px solid gray;box-sizing: border-box;top: 0;bottom: 0;left: 50%;z-index: 0;}#sk-container-id-13 div.sk-serial {display: flex;flex-direction: column;align-items: center;background-color: white;padding-right: 0.2em;padding-left: 0.2em;position: relative;}#sk-container-id-13 div.sk-item {position: relative;z-index: 1;}#sk-container-id-13 div.sk-parallel {display: flex;align-items: stretch;justify-content: center;background-color: white;position: relative;}#sk-container-id-13 div.sk-item::before, #sk-container-id-13 div.sk-parallel-item::before {content: \"\";position: absolute;border-left: 1px solid gray;box-sizing: border-box;top: 0;bottom: 0;left: 50%;z-index: -1;}#sk-container-id-13 div.sk-parallel-item {display: flex;flex-direction: column;z-index: 1;position: relative;background-color: white;}#sk-container-id-13 div.sk-parallel-item:first-child::after {align-self: flex-end;width: 50%;}#sk-container-id-13 div.sk-parallel-item:last-child::after {align-self: flex-start;width: 50%;}#sk-container-id-13 div.sk-parallel-item:only-child::after {width: 0;}#sk-container-id-13 div.sk-dashed-wrapped {border: 1px dashed gray;margin: 0 0.4em 0.5em 0.4em;box-sizing: border-box;padding-bottom: 0.4em;background-color: white;}#sk-container-id-13 div.sk-label label {font-family: monospace;font-weight: bold;display: inline-block;line-height: 1.2em;}#sk-container-id-13 div.sk-label-container {text-align: center;}#sk-container-id-13 div.sk-container {/* jupyter's `normalize.less` sets `[hidden] { display: none; }` but bootstrap.min.css set `[hidden] { display: none !important; }` so we also need the `!important` here to be able to override the default hidden behavior on the sphinx rendered scikit-learn.org. See: https://github.com/scikit-learn/scikit-learn/issues/21755 */display: inline-block !important;position: relative;}#sk-container-id-13 div.sk-text-repr-fallback {display: none;}</style><div id=\"sk-container-id-13\" class=\"sk-top-container\"><div class=\"sk-text-repr-fallback\"><pre>RandomForestRegressor(random_state=42)</pre><b>In a Jupyter environment, please rerun this cell to show the HTML representation or trust the notebook. <br />On GitHub, the HTML representation is unable to render, please try loading this page with nbviewer.org.</b></div><div class=\"sk-container\" hidden><div class=\"sk-item\"><div class=\"sk-estimator sk-toggleable\"><input class=\"sk-toggleable__control sk-hidden--visually\" id=\"sk-estimator-id-13\" type=\"checkbox\" checked><label for=\"sk-estimator-id-13\" class=\"sk-toggleable__label sk-toggleable__label-arrow\">RandomForestRegressor</label><div class=\"sk-toggleable__content\"><pre>RandomForestRegressor(random_state=42)</pre></div></div></div></div></div>"
      ],
      "text/plain": [
       "RandomForestRegressor(random_state=42)"
      ]
     },
     "execution_count": 168,
     "metadata": {},
     "output_type": "execute_result"
    }
   ],
   "source": [
    "model = RandomForestRegressor(random_state=42)\n",
    "model.fit(X_train, y_train)\n"
   ]
  },
  {
   "cell_type": "code",
   "execution_count": 169,
   "metadata": {},
   "outputs": [
    {
     "name": "stdout",
     "output_type": "stream",
     "text": [
      "Mean Squared Error: 10230435.314819388\n",
      "R-squared: 0.9704697517283457\n"
     ]
    }
   ],
   "source": [
    "y_pred = model.predict(X_test)#Realizo predicciones\n",
    "\n",
    "mse = mean_squared_error(y_test, y_pred)#Calculo error\n",
    "print(\"Mean Squared Error:\", mse)\n",
    "\n",
    "r2 = r2_score(y_test, y_pred)#Calculo R cuadrado\n",
    "print(\"R-squared:\", r2)"
   ]
  },
  {
   "cell_type": "markdown",
   "metadata": {},
   "source": [
    "### Ajuste y Optimización"
   ]
  },
  {
   "cell_type": "code",
   "execution_count": 170,
   "metadata": {},
   "outputs": [],
   "source": [
    "X = tabla_combinada.drop('Viajes por dia', axis=1)#Divido los datos\n",
    "y = tabla_combinada['Viajes por dia']\n",
    "\n",
    "X['Tipo de Taxi_green'] = 0\n",
    "\n",
    "X.loc[X['Tipo de Taxi'] == 'green', 'Tipo de Taxi_green'] = 1\n",
    "\n",
    "X['Tipo de Taxi_yellow'] = 0\n",
    "\n",
    "X.loc[X['Tipo de Taxi'] == 'yellow', 'Tipo de Taxi_yellow'] = 1\n",
    "\n",
    "X.drop(columns=['Tipo de Taxi'], inplace=True)\n",
    "\n",
    "X = pd.get_dummies(X, columns=['DiaSemana'], drop_first=True)\n",
    "\n",
    "X_train, X_test, y_train, y_test = train_test_split(X, y, test_size=0.2, random_state=42)\n",
    "\n",
    "#Defino los parámetros a ajustar\n",
    "param_grid = {\n",
    "    'n_estimators': [50, 100, 200],\n",
    "    'max_depth': [None, 10, 20],\n",
    "    'min_samples_split': [2, 5, 10]\n",
    "}\n"
   ]
  },
  {
   "cell_type": "code",
   "execution_count": 171,
   "metadata": {},
   "outputs": [],
   "source": [
    "#Modelo\n",
    "model = RandomForestRegressor(random_state=42)"
   ]
  },
  {
   "cell_type": "code",
   "execution_count": 172,
   "metadata": {},
   "outputs": [
    {
     "name": "stdout",
     "output_type": "stream",
     "text": [
      "Mejores parámetros: {'max_depth': 10, 'min_samples_split': 2, 'n_estimators': 50}\n"
     ]
    },
    {
     "data": {
      "text/html": [
       "<style>#sk-container-id-14 {color: black;background-color: white;}#sk-container-id-14 pre{padding: 0;}#sk-container-id-14 div.sk-toggleable {background-color: white;}#sk-container-id-14 label.sk-toggleable__label {cursor: pointer;display: block;width: 100%;margin-bottom: 0;padding: 0.3em;box-sizing: border-box;text-align: center;}#sk-container-id-14 label.sk-toggleable__label-arrow:before {content: \"▸\";float: left;margin-right: 0.25em;color: #696969;}#sk-container-id-14 label.sk-toggleable__label-arrow:hover:before {color: black;}#sk-container-id-14 div.sk-estimator:hover label.sk-toggleable__label-arrow:before {color: black;}#sk-container-id-14 div.sk-toggleable__content {max-height: 0;max-width: 0;overflow: hidden;text-align: left;background-color: #f0f8ff;}#sk-container-id-14 div.sk-toggleable__content pre {margin: 0.2em;color: black;border-radius: 0.25em;background-color: #f0f8ff;}#sk-container-id-14 input.sk-toggleable__control:checked~div.sk-toggleable__content {max-height: 200px;max-width: 100%;overflow: auto;}#sk-container-id-14 input.sk-toggleable__control:checked~label.sk-toggleable__label-arrow:before {content: \"▾\";}#sk-container-id-14 div.sk-estimator input.sk-toggleable__control:checked~label.sk-toggleable__label {background-color: #d4ebff;}#sk-container-id-14 div.sk-label input.sk-toggleable__control:checked~label.sk-toggleable__label {background-color: #d4ebff;}#sk-container-id-14 input.sk-hidden--visually {border: 0;clip: rect(1px 1px 1px 1px);clip: rect(1px, 1px, 1px, 1px);height: 1px;margin: -1px;overflow: hidden;padding: 0;position: absolute;width: 1px;}#sk-container-id-14 div.sk-estimator {font-family: monospace;background-color: #f0f8ff;border: 1px dotted black;border-radius: 0.25em;box-sizing: border-box;margin-bottom: 0.5em;}#sk-container-id-14 div.sk-estimator:hover {background-color: #d4ebff;}#sk-container-id-14 div.sk-parallel-item::after {content: \"\";width: 100%;border-bottom: 1px solid gray;flex-grow: 1;}#sk-container-id-14 div.sk-label:hover label.sk-toggleable__label {background-color: #d4ebff;}#sk-container-id-14 div.sk-serial::before {content: \"\";position: absolute;border-left: 1px solid gray;box-sizing: border-box;top: 0;bottom: 0;left: 50%;z-index: 0;}#sk-container-id-14 div.sk-serial {display: flex;flex-direction: column;align-items: center;background-color: white;padding-right: 0.2em;padding-left: 0.2em;position: relative;}#sk-container-id-14 div.sk-item {position: relative;z-index: 1;}#sk-container-id-14 div.sk-parallel {display: flex;align-items: stretch;justify-content: center;background-color: white;position: relative;}#sk-container-id-14 div.sk-item::before, #sk-container-id-14 div.sk-parallel-item::before {content: \"\";position: absolute;border-left: 1px solid gray;box-sizing: border-box;top: 0;bottom: 0;left: 50%;z-index: -1;}#sk-container-id-14 div.sk-parallel-item {display: flex;flex-direction: column;z-index: 1;position: relative;background-color: white;}#sk-container-id-14 div.sk-parallel-item:first-child::after {align-self: flex-end;width: 50%;}#sk-container-id-14 div.sk-parallel-item:last-child::after {align-self: flex-start;width: 50%;}#sk-container-id-14 div.sk-parallel-item:only-child::after {width: 0;}#sk-container-id-14 div.sk-dashed-wrapped {border: 1px dashed gray;margin: 0 0.4em 0.5em 0.4em;box-sizing: border-box;padding-bottom: 0.4em;background-color: white;}#sk-container-id-14 div.sk-label label {font-family: monospace;font-weight: bold;display: inline-block;line-height: 1.2em;}#sk-container-id-14 div.sk-label-container {text-align: center;}#sk-container-id-14 div.sk-container {/* jupyter's `normalize.less` sets `[hidden] { display: none; }` but bootstrap.min.css set `[hidden] { display: none !important; }` so we also need the `!important` here to be able to override the default hidden behavior on the sphinx rendered scikit-learn.org. See: https://github.com/scikit-learn/scikit-learn/issues/21755 */display: inline-block !important;position: relative;}#sk-container-id-14 div.sk-text-repr-fallback {display: none;}</style><div id=\"sk-container-id-14\" class=\"sk-top-container\"><div class=\"sk-text-repr-fallback\"><pre>RandomForestRegressor(max_depth=10, n_estimators=50, random_state=42)</pre><b>In a Jupyter environment, please rerun this cell to show the HTML representation or trust the notebook. <br />On GitHub, the HTML representation is unable to render, please try loading this page with nbviewer.org.</b></div><div class=\"sk-container\" hidden><div class=\"sk-item\"><div class=\"sk-estimator sk-toggleable\"><input class=\"sk-toggleable__control sk-hidden--visually\" id=\"sk-estimator-id-14\" type=\"checkbox\" checked><label for=\"sk-estimator-id-14\" class=\"sk-toggleable__label sk-toggleable__label-arrow\">RandomForestRegressor</label><div class=\"sk-toggleable__content\"><pre>RandomForestRegressor(max_depth=10, n_estimators=50, random_state=42)</pre></div></div></div></div></div>"
      ],
      "text/plain": [
       "RandomForestRegressor(max_depth=10, n_estimators=50, random_state=42)"
      ]
     },
     "execution_count": 172,
     "metadata": {},
     "output_type": "execute_result"
    }
   ],
   "source": [
    "grid_search = GridSearchCV(model, param_grid, cv=5, scoring='neg_mean_squared_error')# Realizo búsqueda en cuadrícula con validación cruzada\n",
    "grid_search.fit(X_train, y_train)\n",
    "\n",
    "best_params = grid_search.best_params_# Mejores parámetros encontrados\n",
    "print(\"Mejores parámetros:\", best_params)\n",
    "\n",
    "best_model = RandomForestRegressor(**best_params, random_state=42)# Entreno el modelo con los mejores parámetros\n",
    "best_model.fit(X_train, y_train)\n"
   ]
  },
  {
   "cell_type": "code",
   "execution_count": 173,
   "metadata": {},
   "outputs": [
    {
     "name": "stdout",
     "output_type": "stream",
     "text": [
      "Mean Squared Error: 10421703.150715342\n",
      "R-squared: 0.9699176553114701\n"
     ]
    }
   ],
   "source": [
    "y_pred = best_model.predict(X_test)# Realizo predicciones en el conjunto de prueba\n",
    "\n",
    "mse = mean_squared_error(y_test, y_pred)# Calculo el error\n",
    "print(\"Mean Squared Error:\", mse)\n",
    "\n",
    "r2 = r2_score(y_test, y_pred)#Calculo R cuadrado\n",
    "print(\"R-squared:\", r2)"
   ]
  },
  {
   "cell_type": "markdown",
   "metadata": {},
   "source": [
    "### Guardo el modelo"
   ]
  },
  {
   "cell_type": "code",
   "execution_count": 174,
   "metadata": {},
   "outputs": [
    {
     "data": {
      "text/plain": [
       "['modelo_random_forest.joblib']"
      ]
     },
     "execution_count": 174,
     "metadata": {},
     "output_type": "execute_result"
    }
   ],
   "source": [
    "import joblib\n",
    "\n",
    "model_filename = 'modelo_random_forest.joblib'\n",
    "joblib.dump(best_model, model_filename)"
   ]
  },
  {
   "cell_type": "markdown",
   "metadata": {},
   "source": [
    "### Prueba del modelo"
   ]
  },
  {
   "cell_type": "code",
   "execution_count": 175,
   "metadata": {},
   "outputs": [],
   "source": [
    "loaded_model = joblib.load(model_filename)# Cargo el modelo desde el archivo\n",
    "\n",
    "y_pred_loaded = loaded_model.predict(X_test)"
   ]
  },
  {
   "cell_type": "code",
   "execution_count": 176,
   "metadata": {},
   "outputs": [
    {
     "data": {
      "image/png": "[encoded data removed]",
      "text/plain": [
       "<Figure size 640x480 with 1 Axes>"
      ]
     },
     "metadata": {},
     "output_type": "display_data"
    }
   ],
   "source": [
    "##Visualización de comparación entre valores reales y predicciones\n",
    "import matplotlib.pyplot as plt\n",
    "\n",
    "plt.scatter(y_test, y_pred_loaded)\n",
    "plt.xlabel('Valores reales')\n",
    "plt.ylabel('Predicciones')\n",
    "plt.title('Comparación entre Valores Reales y Predicciones')\n",
    "plt.show()\n"
   ]
  },
  {
   "cell_type": "code",
   "execution_count": 177,
   "metadata": {},
   "outputs": [
    {
     "name": "stdout",
     "output_type": "stream",
     "text": [
      "Orden de las columnas originales: ['Pasajeros por dia', 'avg_temperature', 'Tipo de Taxi_green', 'Tipo de Taxi_yellow', 'DiaSemana_Jueves', 'DiaSemana_Lunes', 'DiaSemana_Martes', 'DiaSemana_Miércoles', 'DiaSemana_Sábado', 'DiaSemana_Viernes']\n"
     ]
    }
   ],
   "source": [
    "column_names_original = X_train.columns.tolist()\n",
    "print(\"Orden de las columnas originales:\", column_names_original)\n"
   ]
  },
  {
   "cell_type": "code",
   "execution_count": 178,
   "metadata": {},
   "outputs": [
    {
     "name": "stdout",
     "output_type": "stream",
     "text": [
      "Predicción: [108460.65264579]\n"
     ]
    }
   ],
   "source": [
    "promedio_pasajeros = tabla_combinada['Pasajeros por dia'].mean()\n",
    "\n",
    "column_names_original = ['Pasajeros por dia', 'avg_temperature', 'Tipo de Taxi_green', 'Tipo de Taxi_yellow',\n",
    "                         'DiaSemana_Jueves', 'DiaSemana_Lunes', 'DiaSemana_Martes', 'DiaSemana_Miércoles',\n",
    "                         'DiaSemana_Sábado', 'DiaSemana_Viernes']\n",
    "\n",
    "nuevo_dato = pd.DataFrame({    # Creo un DataFrame nuevo_dato con las columnas reorganizadas\n",
    "    'avg_temperature': [20.0],            \n",
    "    'DiaSemana_Lunes': [0],               \n",
    "    'DiaSemana_Martes': [0],             \n",
    "    'DiaSemana_Miércoles': [1],           \n",
    "    'DiaSemana_Jueves': [0],              \n",
    "    'DiaSemana_Viernes': [0],            \n",
    "    'DiaSemana_Sábado': [0],\n",
    "    'Tipo de Taxi_green': [0],            \n",
    "    'Tipo de Taxi_yellow': [1],           \n",
    "    'Pasajeros por dia': [promedio_pasajeros]  \n",
    "})\n",
    "\n",
    "nuevo_dato = nuevo_dato[column_names_original] # Reorganizo las columnas de nuevo_dato para que coincidan con el orden original\n",
    "\n",
    "prediccion = loaded_model.predict(nuevo_dato)\n",
    "\n",
    "print(\"Predicción:\", prediccion)\n",
    "\n"
   ]
  }
 ],
 "metadata": {
  "kernelspec": {
   "display_name": "Python 3",
   "language": "python",
   "name": "python3"
  },
  "language_info": {
   "codemirror_mode": {
    "name": "ipython",
    "version": 3
   },
   "file_extension": ".py",
   "mimetype": "text/x-python",
   "name": "python",
   "nbconvert_exporter": "python",
   "pygments_lexer": "ipython3",
   "version": "3.11.5"
  },
  "orig_nbformat": 4
 },
 "nbformat": 4,
 "nbformat_minor": 2
}
